{
 "cells": [
  {
   "cell_type": "code",
   "execution_count": 128,
   "id": "353c1872",
   "metadata": {
    "ExecuteTime": {
     "end_time": "2023-02-28T10:23:29.085014Z",
     "start_time": "2023-02-28T10:23:29.060395Z"
    }
   },
   "outputs": [],
   "source": [
    "# Import libraries\n",
    "\n",
    "import pandas as pd\n",
    "import numpy as np\n",
    "import matplotlib.pyplot as plt\n",
    "import seaborn as sns\n",
    "\n",
    "%matplotlib inline\n",
    "\n",
    "import warnings\n",
    "warnings.filterwarnings('ignore')"
   ]
  },
  {
   "cell_type": "code",
   "execution_count": 3,
   "id": "85b1908b",
   "metadata": {
    "ExecuteTime": {
     "end_time": "2023-02-28T08:54:53.304233Z",
     "start_time": "2023-02-28T08:54:53.063919Z"
    }
   },
   "outputs": [
    {
     "data": {
      "text/html": [
       "<div>\n",
       "<style scoped>\n",
       "    .dataframe tbody tr th:only-of-type {\n",
       "        vertical-align: middle;\n",
       "    }\n",
       "\n",
       "    .dataframe tbody tr th {\n",
       "        vertical-align: top;\n",
       "    }\n",
       "\n",
       "    .dataframe thead th {\n",
       "        text-align: right;\n",
       "    }\n",
       "</style>\n",
       "<table border=\"1\" class=\"dataframe\">\n",
       "  <thead>\n",
       "    <tr style=\"text-align: right;\">\n",
       "      <th></th>\n",
       "      <th>age</th>\n",
       "      <th>job</th>\n",
       "      <th>marital</th>\n",
       "      <th>education</th>\n",
       "      <th>default</th>\n",
       "      <th>balance</th>\n",
       "      <th>housing</th>\n",
       "      <th>loan</th>\n",
       "      <th>contact</th>\n",
       "      <th>day</th>\n",
       "      <th>month</th>\n",
       "      <th>duration</th>\n",
       "      <th>campaign</th>\n",
       "      <th>pdays</th>\n",
       "      <th>previous</th>\n",
       "      <th>poutcome</th>\n",
       "      <th>y</th>\n",
       "    </tr>\n",
       "  </thead>\n",
       "  <tbody>\n",
       "    <tr>\n",
       "      <th>0</th>\n",
       "      <td>58</td>\n",
       "      <td>management</td>\n",
       "      <td>married</td>\n",
       "      <td>tertiary</td>\n",
       "      <td>no</td>\n",
       "      <td>2143</td>\n",
       "      <td>yes</td>\n",
       "      <td>no</td>\n",
       "      <td>unknown</td>\n",
       "      <td>5</td>\n",
       "      <td>may</td>\n",
       "      <td>261</td>\n",
       "      <td>1</td>\n",
       "      <td>-1</td>\n",
       "      <td>0</td>\n",
       "      <td>unknown</td>\n",
       "      <td>no</td>\n",
       "    </tr>\n",
       "    <tr>\n",
       "      <th>1</th>\n",
       "      <td>44</td>\n",
       "      <td>technician</td>\n",
       "      <td>single</td>\n",
       "      <td>secondary</td>\n",
       "      <td>no</td>\n",
       "      <td>29</td>\n",
       "      <td>yes</td>\n",
       "      <td>no</td>\n",
       "      <td>unknown</td>\n",
       "      <td>5</td>\n",
       "      <td>may</td>\n",
       "      <td>151</td>\n",
       "      <td>1</td>\n",
       "      <td>-1</td>\n",
       "      <td>0</td>\n",
       "      <td>unknown</td>\n",
       "      <td>no</td>\n",
       "    </tr>\n",
       "    <tr>\n",
       "      <th>2</th>\n",
       "      <td>33</td>\n",
       "      <td>entrepreneur</td>\n",
       "      <td>married</td>\n",
       "      <td>secondary</td>\n",
       "      <td>no</td>\n",
       "      <td>2</td>\n",
       "      <td>yes</td>\n",
       "      <td>yes</td>\n",
       "      <td>unknown</td>\n",
       "      <td>5</td>\n",
       "      <td>may</td>\n",
       "      <td>76</td>\n",
       "      <td>1</td>\n",
       "      <td>-1</td>\n",
       "      <td>0</td>\n",
       "      <td>unknown</td>\n",
       "      <td>no</td>\n",
       "    </tr>\n",
       "    <tr>\n",
       "      <th>3</th>\n",
       "      <td>47</td>\n",
       "      <td>blue-collar</td>\n",
       "      <td>married</td>\n",
       "      <td>unknown</td>\n",
       "      <td>no</td>\n",
       "      <td>1506</td>\n",
       "      <td>yes</td>\n",
       "      <td>no</td>\n",
       "      <td>unknown</td>\n",
       "      <td>5</td>\n",
       "      <td>may</td>\n",
       "      <td>92</td>\n",
       "      <td>1</td>\n",
       "      <td>-1</td>\n",
       "      <td>0</td>\n",
       "      <td>unknown</td>\n",
       "      <td>no</td>\n",
       "    </tr>\n",
       "    <tr>\n",
       "      <th>4</th>\n",
       "      <td>33</td>\n",
       "      <td>unknown</td>\n",
       "      <td>single</td>\n",
       "      <td>unknown</td>\n",
       "      <td>no</td>\n",
       "      <td>1</td>\n",
       "      <td>no</td>\n",
       "      <td>no</td>\n",
       "      <td>unknown</td>\n",
       "      <td>5</td>\n",
       "      <td>may</td>\n",
       "      <td>198</td>\n",
       "      <td>1</td>\n",
       "      <td>-1</td>\n",
       "      <td>0</td>\n",
       "      <td>unknown</td>\n",
       "      <td>no</td>\n",
       "    </tr>\n",
       "    <tr>\n",
       "      <th>...</th>\n",
       "      <td>...</td>\n",
       "      <td>...</td>\n",
       "      <td>...</td>\n",
       "      <td>...</td>\n",
       "      <td>...</td>\n",
       "      <td>...</td>\n",
       "      <td>...</td>\n",
       "      <td>...</td>\n",
       "      <td>...</td>\n",
       "      <td>...</td>\n",
       "      <td>...</td>\n",
       "      <td>...</td>\n",
       "      <td>...</td>\n",
       "      <td>...</td>\n",
       "      <td>...</td>\n",
       "      <td>...</td>\n",
       "      <td>...</td>\n",
       "    </tr>\n",
       "    <tr>\n",
       "      <th>45206</th>\n",
       "      <td>51</td>\n",
       "      <td>technician</td>\n",
       "      <td>married</td>\n",
       "      <td>tertiary</td>\n",
       "      <td>no</td>\n",
       "      <td>825</td>\n",
       "      <td>no</td>\n",
       "      <td>no</td>\n",
       "      <td>cellular</td>\n",
       "      <td>17</td>\n",
       "      <td>nov</td>\n",
       "      <td>977</td>\n",
       "      <td>3</td>\n",
       "      <td>-1</td>\n",
       "      <td>0</td>\n",
       "      <td>unknown</td>\n",
       "      <td>yes</td>\n",
       "    </tr>\n",
       "    <tr>\n",
       "      <th>45207</th>\n",
       "      <td>71</td>\n",
       "      <td>retired</td>\n",
       "      <td>divorced</td>\n",
       "      <td>primary</td>\n",
       "      <td>no</td>\n",
       "      <td>1729</td>\n",
       "      <td>no</td>\n",
       "      <td>no</td>\n",
       "      <td>cellular</td>\n",
       "      <td>17</td>\n",
       "      <td>nov</td>\n",
       "      <td>456</td>\n",
       "      <td>2</td>\n",
       "      <td>-1</td>\n",
       "      <td>0</td>\n",
       "      <td>unknown</td>\n",
       "      <td>yes</td>\n",
       "    </tr>\n",
       "    <tr>\n",
       "      <th>45208</th>\n",
       "      <td>72</td>\n",
       "      <td>retired</td>\n",
       "      <td>married</td>\n",
       "      <td>secondary</td>\n",
       "      <td>no</td>\n",
       "      <td>5715</td>\n",
       "      <td>no</td>\n",
       "      <td>no</td>\n",
       "      <td>cellular</td>\n",
       "      <td>17</td>\n",
       "      <td>nov</td>\n",
       "      <td>1127</td>\n",
       "      <td>5</td>\n",
       "      <td>184</td>\n",
       "      <td>3</td>\n",
       "      <td>success</td>\n",
       "      <td>yes</td>\n",
       "    </tr>\n",
       "    <tr>\n",
       "      <th>45209</th>\n",
       "      <td>57</td>\n",
       "      <td>blue-collar</td>\n",
       "      <td>married</td>\n",
       "      <td>secondary</td>\n",
       "      <td>no</td>\n",
       "      <td>668</td>\n",
       "      <td>no</td>\n",
       "      <td>no</td>\n",
       "      <td>telephone</td>\n",
       "      <td>17</td>\n",
       "      <td>nov</td>\n",
       "      <td>508</td>\n",
       "      <td>4</td>\n",
       "      <td>-1</td>\n",
       "      <td>0</td>\n",
       "      <td>unknown</td>\n",
       "      <td>no</td>\n",
       "    </tr>\n",
       "    <tr>\n",
       "      <th>45210</th>\n",
       "      <td>37</td>\n",
       "      <td>entrepreneur</td>\n",
       "      <td>married</td>\n",
       "      <td>secondary</td>\n",
       "      <td>no</td>\n",
       "      <td>2971</td>\n",
       "      <td>no</td>\n",
       "      <td>no</td>\n",
       "      <td>cellular</td>\n",
       "      <td>17</td>\n",
       "      <td>nov</td>\n",
       "      <td>361</td>\n",
       "      <td>2</td>\n",
       "      <td>188</td>\n",
       "      <td>11</td>\n",
       "      <td>other</td>\n",
       "      <td>no</td>\n",
       "    </tr>\n",
       "  </tbody>\n",
       "</table>\n",
       "<p>45211 rows × 17 columns</p>\n",
       "</div>"
      ],
      "text/plain": [
       "       age           job   marital  education default  balance housing loan  \\\n",
       "0       58    management   married   tertiary      no     2143     yes   no   \n",
       "1       44    technician    single  secondary      no       29     yes   no   \n",
       "2       33  entrepreneur   married  secondary      no        2     yes  yes   \n",
       "3       47   blue-collar   married    unknown      no     1506     yes   no   \n",
       "4       33       unknown    single    unknown      no        1      no   no   \n",
       "...    ...           ...       ...        ...     ...      ...     ...  ...   \n",
       "45206   51    technician   married   tertiary      no      825      no   no   \n",
       "45207   71       retired  divorced    primary      no     1729      no   no   \n",
       "45208   72       retired   married  secondary      no     5715      no   no   \n",
       "45209   57   blue-collar   married  secondary      no      668      no   no   \n",
       "45210   37  entrepreneur   married  secondary      no     2971      no   no   \n",
       "\n",
       "         contact  day month  duration  campaign  pdays  previous poutcome    y  \n",
       "0        unknown    5   may       261         1     -1         0  unknown   no  \n",
       "1        unknown    5   may       151         1     -1         0  unknown   no  \n",
       "2        unknown    5   may        76         1     -1         0  unknown   no  \n",
       "3        unknown    5   may        92         1     -1         0  unknown   no  \n",
       "4        unknown    5   may       198         1     -1         0  unknown   no  \n",
       "...          ...  ...   ...       ...       ...    ...       ...      ...  ...  \n",
       "45206   cellular   17   nov       977         3     -1         0  unknown  yes  \n",
       "45207   cellular   17   nov       456         2     -1         0  unknown  yes  \n",
       "45208   cellular   17   nov      1127         5    184         3  success  yes  \n",
       "45209  telephone   17   nov       508         4     -1         0  unknown   no  \n",
       "45210   cellular   17   nov       361         2    188        11    other   no  \n",
       "\n",
       "[45211 rows x 17 columns]"
      ]
     },
     "execution_count": 3,
     "metadata": {},
     "output_type": "execute_result"
    }
   ],
   "source": [
    "df = pd.read_csv('bank-full.csv', delimiter = ';')\n",
    "df"
   ]
  },
  {
   "cell_type": "code",
   "execution_count": 4,
   "id": "9a7dddca",
   "metadata": {
    "ExecuteTime": {
     "end_time": "2023-02-28T08:56:20.226192Z",
     "start_time": "2023-02-28T08:56:20.211490Z"
    }
   },
   "outputs": [],
   "source": [
    "# EDA"
   ]
  },
  {
   "cell_type": "code",
   "execution_count": 5,
   "id": "86c3438e",
   "metadata": {
    "ExecuteTime": {
     "end_time": "2023-02-28T08:56:26.150231Z",
     "start_time": "2023-02-28T08:56:25.981691Z"
    }
   },
   "outputs": [
    {
     "name": "stdout",
     "output_type": "stream",
     "text": [
      "<class 'pandas.core.frame.DataFrame'>\n",
      "RangeIndex: 45211 entries, 0 to 45210\n",
      "Data columns (total 17 columns):\n",
      " #   Column     Non-Null Count  Dtype \n",
      "---  ------     --------------  ----- \n",
      " 0   age        45211 non-null  int64 \n",
      " 1   job        45211 non-null  object\n",
      " 2   marital    45211 non-null  object\n",
      " 3   education  45211 non-null  object\n",
      " 4   default    45211 non-null  object\n",
      " 5   balance    45211 non-null  int64 \n",
      " 6   housing    45211 non-null  object\n",
      " 7   loan       45211 non-null  object\n",
      " 8   contact    45211 non-null  object\n",
      " 9   day        45211 non-null  int64 \n",
      " 10  month      45211 non-null  object\n",
      " 11  duration   45211 non-null  int64 \n",
      " 12  campaign   45211 non-null  int64 \n",
      " 13  pdays      45211 non-null  int64 \n",
      " 14  previous   45211 non-null  int64 \n",
      " 15  poutcome   45211 non-null  object\n",
      " 16  y          45211 non-null  object\n",
      "dtypes: int64(7), object(10)\n",
      "memory usage: 5.9+ MB\n"
     ]
    }
   ],
   "source": [
    "df.info()"
   ]
  },
  {
   "cell_type": "code",
   "execution_count": 6,
   "id": "8587213f",
   "metadata": {
    "ExecuteTime": {
     "end_time": "2023-02-28T08:56:38.391365Z",
     "start_time": "2023-02-28T08:56:38.306090Z"
    }
   },
   "outputs": [
    {
     "data": {
      "text/html": [
       "<div>\n",
       "<style scoped>\n",
       "    .dataframe tbody tr th:only-of-type {\n",
       "        vertical-align: middle;\n",
       "    }\n",
       "\n",
       "    .dataframe tbody tr th {\n",
       "        vertical-align: top;\n",
       "    }\n",
       "\n",
       "    .dataframe thead th {\n",
       "        text-align: right;\n",
       "    }\n",
       "</style>\n",
       "<table border=\"1\" class=\"dataframe\">\n",
       "  <thead>\n",
       "    <tr style=\"text-align: right;\">\n",
       "      <th></th>\n",
       "      <th>age</th>\n",
       "      <th>balance</th>\n",
       "      <th>day</th>\n",
       "      <th>duration</th>\n",
       "      <th>campaign</th>\n",
       "      <th>pdays</th>\n",
       "      <th>previous</th>\n",
       "    </tr>\n",
       "  </thead>\n",
       "  <tbody>\n",
       "    <tr>\n",
       "      <th>count</th>\n",
       "      <td>45211.000000</td>\n",
       "      <td>45211.000000</td>\n",
       "      <td>45211.000000</td>\n",
       "      <td>45211.000000</td>\n",
       "      <td>45211.000000</td>\n",
       "      <td>45211.000000</td>\n",
       "      <td>45211.000000</td>\n",
       "    </tr>\n",
       "    <tr>\n",
       "      <th>mean</th>\n",
       "      <td>40.936210</td>\n",
       "      <td>1362.272058</td>\n",
       "      <td>15.806419</td>\n",
       "      <td>258.163080</td>\n",
       "      <td>2.763841</td>\n",
       "      <td>40.197828</td>\n",
       "      <td>0.580323</td>\n",
       "    </tr>\n",
       "    <tr>\n",
       "      <th>std</th>\n",
       "      <td>10.618762</td>\n",
       "      <td>3044.765829</td>\n",
       "      <td>8.322476</td>\n",
       "      <td>257.527812</td>\n",
       "      <td>3.098021</td>\n",
       "      <td>100.128746</td>\n",
       "      <td>2.303441</td>\n",
       "    </tr>\n",
       "    <tr>\n",
       "      <th>min</th>\n",
       "      <td>18.000000</td>\n",
       "      <td>-8019.000000</td>\n",
       "      <td>1.000000</td>\n",
       "      <td>0.000000</td>\n",
       "      <td>1.000000</td>\n",
       "      <td>-1.000000</td>\n",
       "      <td>0.000000</td>\n",
       "    </tr>\n",
       "    <tr>\n",
       "      <th>25%</th>\n",
       "      <td>33.000000</td>\n",
       "      <td>72.000000</td>\n",
       "      <td>8.000000</td>\n",
       "      <td>103.000000</td>\n",
       "      <td>1.000000</td>\n",
       "      <td>-1.000000</td>\n",
       "      <td>0.000000</td>\n",
       "    </tr>\n",
       "    <tr>\n",
       "      <th>50%</th>\n",
       "      <td>39.000000</td>\n",
       "      <td>448.000000</td>\n",
       "      <td>16.000000</td>\n",
       "      <td>180.000000</td>\n",
       "      <td>2.000000</td>\n",
       "      <td>-1.000000</td>\n",
       "      <td>0.000000</td>\n",
       "    </tr>\n",
       "    <tr>\n",
       "      <th>75%</th>\n",
       "      <td>48.000000</td>\n",
       "      <td>1428.000000</td>\n",
       "      <td>21.000000</td>\n",
       "      <td>319.000000</td>\n",
       "      <td>3.000000</td>\n",
       "      <td>-1.000000</td>\n",
       "      <td>0.000000</td>\n",
       "    </tr>\n",
       "    <tr>\n",
       "      <th>max</th>\n",
       "      <td>95.000000</td>\n",
       "      <td>102127.000000</td>\n",
       "      <td>31.000000</td>\n",
       "      <td>4918.000000</td>\n",
       "      <td>63.000000</td>\n",
       "      <td>871.000000</td>\n",
       "      <td>275.000000</td>\n",
       "    </tr>\n",
       "  </tbody>\n",
       "</table>\n",
       "</div>"
      ],
      "text/plain": [
       "                age        balance           day      duration      campaign  \\\n",
       "count  45211.000000   45211.000000  45211.000000  45211.000000  45211.000000   \n",
       "mean      40.936210    1362.272058     15.806419    258.163080      2.763841   \n",
       "std       10.618762    3044.765829      8.322476    257.527812      3.098021   \n",
       "min       18.000000   -8019.000000      1.000000      0.000000      1.000000   \n",
       "25%       33.000000      72.000000      8.000000    103.000000      1.000000   \n",
       "50%       39.000000     448.000000     16.000000    180.000000      2.000000   \n",
       "75%       48.000000    1428.000000     21.000000    319.000000      3.000000   \n",
       "max       95.000000  102127.000000     31.000000   4918.000000     63.000000   \n",
       "\n",
       "              pdays      previous  \n",
       "count  45211.000000  45211.000000  \n",
       "mean      40.197828      0.580323  \n",
       "std      100.128746      2.303441  \n",
       "min       -1.000000      0.000000  \n",
       "25%       -1.000000      0.000000  \n",
       "50%       -1.000000      0.000000  \n",
       "75%       -1.000000      0.000000  \n",
       "max      871.000000    275.000000  "
      ]
     },
     "execution_count": 6,
     "metadata": {},
     "output_type": "execute_result"
    }
   ],
   "source": [
    "df.describe()"
   ]
  },
  {
   "cell_type": "code",
   "execution_count": 8,
   "id": "2141f995",
   "metadata": {
    "ExecuteTime": {
     "end_time": "2023-02-28T08:57:20.029325Z",
     "start_time": "2023-02-28T08:57:19.873179Z"
    }
   },
   "outputs": [
    {
     "data": {
      "text/html": [
       "<div>\n",
       "<style scoped>\n",
       "    .dataframe tbody tr th:only-of-type {\n",
       "        vertical-align: middle;\n",
       "    }\n",
       "\n",
       "    .dataframe tbody tr th {\n",
       "        vertical-align: top;\n",
       "    }\n",
       "\n",
       "    .dataframe thead th {\n",
       "        text-align: right;\n",
       "    }\n",
       "</style>\n",
       "<table border=\"1\" class=\"dataframe\">\n",
       "  <thead>\n",
       "    <tr style=\"text-align: right;\">\n",
       "      <th></th>\n",
       "      <th>job</th>\n",
       "      <th>marital</th>\n",
       "      <th>education</th>\n",
       "      <th>default</th>\n",
       "      <th>housing</th>\n",
       "      <th>loan</th>\n",
       "      <th>contact</th>\n",
       "      <th>month</th>\n",
       "      <th>poutcome</th>\n",
       "      <th>y</th>\n",
       "    </tr>\n",
       "  </thead>\n",
       "  <tbody>\n",
       "    <tr>\n",
       "      <th>count</th>\n",
       "      <td>45211</td>\n",
       "      <td>45211</td>\n",
       "      <td>45211</td>\n",
       "      <td>45211</td>\n",
       "      <td>45211</td>\n",
       "      <td>45211</td>\n",
       "      <td>45211</td>\n",
       "      <td>45211</td>\n",
       "      <td>45211</td>\n",
       "      <td>45211</td>\n",
       "    </tr>\n",
       "    <tr>\n",
       "      <th>unique</th>\n",
       "      <td>12</td>\n",
       "      <td>3</td>\n",
       "      <td>4</td>\n",
       "      <td>2</td>\n",
       "      <td>2</td>\n",
       "      <td>2</td>\n",
       "      <td>3</td>\n",
       "      <td>12</td>\n",
       "      <td>4</td>\n",
       "      <td>2</td>\n",
       "    </tr>\n",
       "    <tr>\n",
       "      <th>top</th>\n",
       "      <td>blue-collar</td>\n",
       "      <td>married</td>\n",
       "      <td>secondary</td>\n",
       "      <td>no</td>\n",
       "      <td>yes</td>\n",
       "      <td>no</td>\n",
       "      <td>cellular</td>\n",
       "      <td>may</td>\n",
       "      <td>unknown</td>\n",
       "      <td>no</td>\n",
       "    </tr>\n",
       "    <tr>\n",
       "      <th>freq</th>\n",
       "      <td>9732</td>\n",
       "      <td>27214</td>\n",
       "      <td>23202</td>\n",
       "      <td>44396</td>\n",
       "      <td>25130</td>\n",
       "      <td>37967</td>\n",
       "      <td>29285</td>\n",
       "      <td>13766</td>\n",
       "      <td>36959</td>\n",
       "      <td>39922</td>\n",
       "    </tr>\n",
       "  </tbody>\n",
       "</table>\n",
       "</div>"
      ],
      "text/plain": [
       "                job  marital  education default housing   loan   contact  \\\n",
       "count         45211    45211      45211   45211   45211  45211     45211   \n",
       "unique           12        3          4       2       2      2         3   \n",
       "top     blue-collar  married  secondary      no     yes     no  cellular   \n",
       "freq           9732    27214      23202   44396   25130  37967     29285   \n",
       "\n",
       "        month poutcome      y  \n",
       "count   45211    45211  45211  \n",
       "unique     12        4      2  \n",
       "top       may  unknown     no  \n",
       "freq    13766    36959  39922  "
      ]
     },
     "execution_count": 8,
     "metadata": {},
     "output_type": "execute_result"
    }
   ],
   "source": [
    "df.describe(include = 'O')"
   ]
  },
  {
   "cell_type": "code",
   "execution_count": 9,
   "id": "64ee28bc",
   "metadata": {
    "ExecuteTime": {
     "end_time": "2023-02-28T08:57:40.306387Z",
     "start_time": "2023-02-28T08:57:40.153263Z"
    }
   },
   "outputs": [
    {
     "data": {
      "text/plain": [
       "age          0\n",
       "job          0\n",
       "marital      0\n",
       "education    0\n",
       "default      0\n",
       "balance      0\n",
       "housing      0\n",
       "loan         0\n",
       "contact      0\n",
       "day          0\n",
       "month        0\n",
       "duration     0\n",
       "campaign     0\n",
       "pdays        0\n",
       "previous     0\n",
       "poutcome     0\n",
       "y            0\n",
       "dtype: int64"
      ]
     },
     "execution_count": 9,
     "metadata": {},
     "output_type": "execute_result"
    }
   ],
   "source": [
    "df.isna().sum()"
   ]
  },
  {
   "cell_type": "code",
   "execution_count": 10,
   "id": "697c5e75",
   "metadata": {
    "ExecuteTime": {
     "end_time": "2023-02-28T08:57:52.291433Z",
     "start_time": "2023-02-28T08:57:52.273988Z"
    }
   },
   "outputs": [],
   "source": [
    "# Check duplicates"
   ]
  },
  {
   "cell_type": "code",
   "execution_count": 11,
   "id": "4b7c84ad",
   "metadata": {
    "ExecuteTime": {
     "end_time": "2023-02-28T08:58:11.820628Z",
     "start_time": "2023-02-28T08:58:11.712422Z"
    }
   },
   "outputs": [
    {
     "data": {
      "text/html": [
       "<div>\n",
       "<style scoped>\n",
       "    .dataframe tbody tr th:only-of-type {\n",
       "        vertical-align: middle;\n",
       "    }\n",
       "\n",
       "    .dataframe tbody tr th {\n",
       "        vertical-align: top;\n",
       "    }\n",
       "\n",
       "    .dataframe thead th {\n",
       "        text-align: right;\n",
       "    }\n",
       "</style>\n",
       "<table border=\"1\" class=\"dataframe\">\n",
       "  <thead>\n",
       "    <tr style=\"text-align: right;\">\n",
       "      <th></th>\n",
       "      <th>age</th>\n",
       "      <th>job</th>\n",
       "      <th>marital</th>\n",
       "      <th>education</th>\n",
       "      <th>default</th>\n",
       "      <th>balance</th>\n",
       "      <th>housing</th>\n",
       "      <th>loan</th>\n",
       "      <th>contact</th>\n",
       "      <th>day</th>\n",
       "      <th>month</th>\n",
       "      <th>duration</th>\n",
       "      <th>campaign</th>\n",
       "      <th>pdays</th>\n",
       "      <th>previous</th>\n",
       "      <th>poutcome</th>\n",
       "      <th>y</th>\n",
       "    </tr>\n",
       "  </thead>\n",
       "  <tbody>\n",
       "  </tbody>\n",
       "</table>\n",
       "</div>"
      ],
      "text/plain": [
       "Empty DataFrame\n",
       "Columns: [age, job, marital, education, default, balance, housing, loan, contact, day, month, duration, campaign, pdays, previous, poutcome, y]\n",
       "Index: []"
      ]
     },
     "execution_count": 11,
     "metadata": {},
     "output_type": "execute_result"
    }
   ],
   "source": [
    "df[df.duplicated()]"
   ]
  },
  {
   "cell_type": "code",
   "execution_count": 12,
   "id": "83f23909",
   "metadata": {
    "ExecuteTime": {
     "end_time": "2023-02-28T08:58:30.599121Z",
     "start_time": "2023-02-28T08:58:30.583469Z"
    }
   },
   "outputs": [],
   "source": [
    "# Checking data range"
   ]
  },
  {
   "cell_type": "code",
   "execution_count": 13,
   "id": "97cffaec",
   "metadata": {
    "ExecuteTime": {
     "end_time": "2023-02-28T08:59:03.005242Z",
     "start_time": "2023-02-28T08:59:02.955708Z"
    }
   },
   "outputs": [
    {
     "data": {
      "text/html": [
       "<div>\n",
       "<style scoped>\n",
       "    .dataframe tbody tr th:only-of-type {\n",
       "        vertical-align: middle;\n",
       "    }\n",
       "\n",
       "    .dataframe tbody tr th {\n",
       "        vertical-align: top;\n",
       "    }\n",
       "\n",
       "    .dataframe thead th {\n",
       "        text-align: right;\n",
       "    }\n",
       "</style>\n",
       "<table border=\"1\" class=\"dataframe\">\n",
       "  <thead>\n",
       "    <tr style=\"text-align: right;\">\n",
       "      <th></th>\n",
       "      <th>age</th>\n",
       "      <th>balance</th>\n",
       "      <th>duration</th>\n",
       "      <th>campaign</th>\n",
       "      <th>pdays</th>\n",
       "      <th>previous</th>\n",
       "    </tr>\n",
       "  </thead>\n",
       "  <tbody>\n",
       "    <tr>\n",
       "      <th>min</th>\n",
       "      <td>18</td>\n",
       "      <td>-8019</td>\n",
       "      <td>0</td>\n",
       "      <td>1</td>\n",
       "      <td>-1</td>\n",
       "      <td>0</td>\n",
       "    </tr>\n",
       "    <tr>\n",
       "      <th>max</th>\n",
       "      <td>95</td>\n",
       "      <td>102127</td>\n",
       "      <td>4918</td>\n",
       "      <td>63</td>\n",
       "      <td>871</td>\n",
       "      <td>275</td>\n",
       "    </tr>\n",
       "  </tbody>\n",
       "</table>\n",
       "</div>"
      ],
      "text/plain": [
       "     age  balance  duration  campaign  pdays  previous\n",
       "min   18    -8019         0         1     -1         0\n",
       "max   95   102127      4918        63    871       275"
      ]
     },
     "execution_count": 13,
     "metadata": {},
     "output_type": "execute_result"
    }
   ],
   "source": [
    "df[['age','balance','duration','campaign','pdays','previous']].agg(['min','max'])"
   ]
  },
  {
   "cell_type": "markdown",
   "id": "79816aa0",
   "metadata": {},
   "source": [
    "**Checking unique values to find whether special characters, invalid entries are present in the dataset.**\n",
    "\n",
    "1) Age column"
   ]
  },
  {
   "cell_type": "code",
   "execution_count": 14,
   "id": "53572513",
   "metadata": {
    "ExecuteTime": {
     "end_time": "2023-02-28T08:59:56.659385Z",
     "start_time": "2023-02-28T08:59:56.641903Z"
    }
   },
   "outputs": [
    {
     "data": {
      "text/plain": [
       "array([58, 44, 33, 47, 35, 28, 42, 43, 41, 29, 53, 57, 51, 45, 60, 56, 32,\n",
       "       25, 40, 39, 52, 46, 36, 49, 59, 37, 50, 54, 55, 48, 24, 38, 31, 30,\n",
       "       27, 34, 23, 26, 61, 22, 21, 20, 66, 62, 83, 75, 67, 70, 65, 68, 64,\n",
       "       69, 72, 71, 19, 76, 85, 63, 90, 82, 73, 74, 78, 80, 94, 79, 77, 86,\n",
       "       95, 81, 18, 89, 84, 87, 92, 93, 88], dtype=int64)"
      ]
     },
     "execution_count": 14,
     "metadata": {},
     "output_type": "execute_result"
    }
   ],
   "source": [
    "df['age'].unique()"
   ]
  },
  {
   "cell_type": "markdown",
   "id": "14b7037a",
   "metadata": {},
   "source": [
    "- **no special characters & invalid entries found**\n",
    "\n",
    "2) Job Column"
   ]
  },
  {
   "cell_type": "code",
   "execution_count": 15,
   "id": "c4ee64c5",
   "metadata": {
    "ExecuteTime": {
     "end_time": "2023-02-28T09:00:50.101666Z",
     "start_time": "2023-02-28T09:00:50.081224Z"
    }
   },
   "outputs": [
    {
     "data": {
      "text/plain": [
       "array(['management', 'technician', 'entrepreneur', 'blue-collar',\n",
       "       'unknown', 'retired', 'admin.', 'services', 'self-employed',\n",
       "       'unemployed', 'housemaid', 'student'], dtype=object)"
      ]
     },
     "execution_count": 15,
     "metadata": {},
     "output_type": "execute_result"
    }
   ],
   "source": [
    "df['job'].unique()"
   ]
  },
  {
   "cell_type": "markdown",
   "id": "f401755f",
   "metadata": {},
   "source": [
    "- **invalid entry = 'unknown'**"
   ]
  },
  {
   "cell_type": "code",
   "execution_count": 16,
   "id": "17efa7de",
   "metadata": {
    "ExecuteTime": {
     "end_time": "2023-02-28T09:02:03.905531Z",
     "start_time": "2023-02-28T09:02:03.896822Z"
    }
   },
   "outputs": [],
   "source": [
    "# All unknown entries present in job column"
   ]
  },
  {
   "cell_type": "code",
   "execution_count": 17,
   "id": "647f4251",
   "metadata": {
    "ExecuteTime": {
     "end_time": "2023-02-28T09:02:45.265419Z",
     "start_time": "2023-02-28T09:02:45.205668Z"
    }
   },
   "outputs": [
    {
     "data": {
      "text/html": [
       "<div>\n",
       "<style scoped>\n",
       "    .dataframe tbody tr th:only-of-type {\n",
       "        vertical-align: middle;\n",
       "    }\n",
       "\n",
       "    .dataframe tbody tr th {\n",
       "        vertical-align: top;\n",
       "    }\n",
       "\n",
       "    .dataframe thead th {\n",
       "        text-align: right;\n",
       "    }\n",
       "</style>\n",
       "<table border=\"1\" class=\"dataframe\">\n",
       "  <thead>\n",
       "    <tr style=\"text-align: right;\">\n",
       "      <th></th>\n",
       "      <th>age</th>\n",
       "      <th>job</th>\n",
       "      <th>marital</th>\n",
       "      <th>education</th>\n",
       "      <th>default</th>\n",
       "      <th>balance</th>\n",
       "      <th>housing</th>\n",
       "      <th>loan</th>\n",
       "      <th>contact</th>\n",
       "      <th>day</th>\n",
       "      <th>month</th>\n",
       "      <th>duration</th>\n",
       "      <th>campaign</th>\n",
       "      <th>pdays</th>\n",
       "      <th>previous</th>\n",
       "      <th>poutcome</th>\n",
       "      <th>y</th>\n",
       "    </tr>\n",
       "  </thead>\n",
       "  <tbody>\n",
       "    <tr>\n",
       "      <th>4</th>\n",
       "      <td>33</td>\n",
       "      <td>unknown</td>\n",
       "      <td>single</td>\n",
       "      <td>unknown</td>\n",
       "      <td>no</td>\n",
       "      <td>1</td>\n",
       "      <td>no</td>\n",
       "      <td>no</td>\n",
       "      <td>unknown</td>\n",
       "      <td>5</td>\n",
       "      <td>may</td>\n",
       "      <td>198</td>\n",
       "      <td>1</td>\n",
       "      <td>-1</td>\n",
       "      <td>0</td>\n",
       "      <td>unknown</td>\n",
       "      <td>no</td>\n",
       "    </tr>\n",
       "    <tr>\n",
       "      <th>216</th>\n",
       "      <td>47</td>\n",
       "      <td>unknown</td>\n",
       "      <td>married</td>\n",
       "      <td>unknown</td>\n",
       "      <td>no</td>\n",
       "      <td>28</td>\n",
       "      <td>no</td>\n",
       "      <td>no</td>\n",
       "      <td>unknown</td>\n",
       "      <td>5</td>\n",
       "      <td>may</td>\n",
       "      <td>338</td>\n",
       "      <td>2</td>\n",
       "      <td>-1</td>\n",
       "      <td>0</td>\n",
       "      <td>unknown</td>\n",
       "      <td>no</td>\n",
       "    </tr>\n",
       "    <tr>\n",
       "      <th>354</th>\n",
       "      <td>59</td>\n",
       "      <td>unknown</td>\n",
       "      <td>divorced</td>\n",
       "      <td>unknown</td>\n",
       "      <td>no</td>\n",
       "      <td>27</td>\n",
       "      <td>no</td>\n",
       "      <td>no</td>\n",
       "      <td>unknown</td>\n",
       "      <td>5</td>\n",
       "      <td>may</td>\n",
       "      <td>347</td>\n",
       "      <td>3</td>\n",
       "      <td>-1</td>\n",
       "      <td>0</td>\n",
       "      <td>unknown</td>\n",
       "      <td>no</td>\n",
       "    </tr>\n",
       "    <tr>\n",
       "      <th>876</th>\n",
       "      <td>37</td>\n",
       "      <td>unknown</td>\n",
       "      <td>single</td>\n",
       "      <td>unknown</td>\n",
       "      <td>no</td>\n",
       "      <td>414</td>\n",
       "      <td>yes</td>\n",
       "      <td>no</td>\n",
       "      <td>unknown</td>\n",
       "      <td>7</td>\n",
       "      <td>may</td>\n",
       "      <td>131</td>\n",
       "      <td>1</td>\n",
       "      <td>-1</td>\n",
       "      <td>0</td>\n",
       "      <td>unknown</td>\n",
       "      <td>no</td>\n",
       "    </tr>\n",
       "    <tr>\n",
       "      <th>1072</th>\n",
       "      <td>29</td>\n",
       "      <td>unknown</td>\n",
       "      <td>single</td>\n",
       "      <td>primary</td>\n",
       "      <td>no</td>\n",
       "      <td>50</td>\n",
       "      <td>yes</td>\n",
       "      <td>no</td>\n",
       "      <td>unknown</td>\n",
       "      <td>7</td>\n",
       "      <td>may</td>\n",
       "      <td>50</td>\n",
       "      <td>2</td>\n",
       "      <td>-1</td>\n",
       "      <td>0</td>\n",
       "      <td>unknown</td>\n",
       "      <td>no</td>\n",
       "    </tr>\n",
       "    <tr>\n",
       "      <th>...</th>\n",
       "      <td>...</td>\n",
       "      <td>...</td>\n",
       "      <td>...</td>\n",
       "      <td>...</td>\n",
       "      <td>...</td>\n",
       "      <td>...</td>\n",
       "      <td>...</td>\n",
       "      <td>...</td>\n",
       "      <td>...</td>\n",
       "      <td>...</td>\n",
       "      <td>...</td>\n",
       "      <td>...</td>\n",
       "      <td>...</td>\n",
       "      <td>...</td>\n",
       "      <td>...</td>\n",
       "      <td>...</td>\n",
       "      <td>...</td>\n",
       "    </tr>\n",
       "    <tr>\n",
       "      <th>44714</th>\n",
       "      <td>45</td>\n",
       "      <td>unknown</td>\n",
       "      <td>married</td>\n",
       "      <td>tertiary</td>\n",
       "      <td>no</td>\n",
       "      <td>406</td>\n",
       "      <td>no</td>\n",
       "      <td>no</td>\n",
       "      <td>cellular</td>\n",
       "      <td>7</td>\n",
       "      <td>sep</td>\n",
       "      <td>314</td>\n",
       "      <td>1</td>\n",
       "      <td>-1</td>\n",
       "      <td>0</td>\n",
       "      <td>unknown</td>\n",
       "      <td>yes</td>\n",
       "    </tr>\n",
       "    <tr>\n",
       "      <th>44742</th>\n",
       "      <td>64</td>\n",
       "      <td>unknown</td>\n",
       "      <td>married</td>\n",
       "      <td>unknown</td>\n",
       "      <td>no</td>\n",
       "      <td>2799</td>\n",
       "      <td>no</td>\n",
       "      <td>no</td>\n",
       "      <td>telephone</td>\n",
       "      <td>9</td>\n",
       "      <td>sep</td>\n",
       "      <td>378</td>\n",
       "      <td>4</td>\n",
       "      <td>-1</td>\n",
       "      <td>0</td>\n",
       "      <td>unknown</td>\n",
       "      <td>no</td>\n",
       "    </tr>\n",
       "    <tr>\n",
       "      <th>44970</th>\n",
       "      <td>28</td>\n",
       "      <td>unknown</td>\n",
       "      <td>single</td>\n",
       "      <td>unknown</td>\n",
       "      <td>no</td>\n",
       "      <td>326</td>\n",
       "      <td>no</td>\n",
       "      <td>no</td>\n",
       "      <td>cellular</td>\n",
       "      <td>11</td>\n",
       "      <td>oct</td>\n",
       "      <td>450</td>\n",
       "      <td>1</td>\n",
       "      <td>231</td>\n",
       "      <td>1</td>\n",
       "      <td>success</td>\n",
       "      <td>yes</td>\n",
       "    </tr>\n",
       "    <tr>\n",
       "      <th>45141</th>\n",
       "      <td>77</td>\n",
       "      <td>unknown</td>\n",
       "      <td>married</td>\n",
       "      <td>unknown</td>\n",
       "      <td>no</td>\n",
       "      <td>397</td>\n",
       "      <td>no</td>\n",
       "      <td>no</td>\n",
       "      <td>telephone</td>\n",
       "      <td>8</td>\n",
       "      <td>nov</td>\n",
       "      <td>207</td>\n",
       "      <td>1</td>\n",
       "      <td>185</td>\n",
       "      <td>3</td>\n",
       "      <td>success</td>\n",
       "      <td>no</td>\n",
       "    </tr>\n",
       "    <tr>\n",
       "      <th>45186</th>\n",
       "      <td>59</td>\n",
       "      <td>unknown</td>\n",
       "      <td>married</td>\n",
       "      <td>unknown</td>\n",
       "      <td>no</td>\n",
       "      <td>1500</td>\n",
       "      <td>no</td>\n",
       "      <td>no</td>\n",
       "      <td>cellular</td>\n",
       "      <td>16</td>\n",
       "      <td>nov</td>\n",
       "      <td>280</td>\n",
       "      <td>1</td>\n",
       "      <td>104</td>\n",
       "      <td>2</td>\n",
       "      <td>failure</td>\n",
       "      <td>no</td>\n",
       "    </tr>\n",
       "  </tbody>\n",
       "</table>\n",
       "<p>288 rows × 17 columns</p>\n",
       "</div>"
      ],
      "text/plain": [
       "       age      job   marital education default  balance housing loan  \\\n",
       "4       33  unknown    single   unknown      no        1      no   no   \n",
       "216     47  unknown   married   unknown      no       28      no   no   \n",
       "354     59  unknown  divorced   unknown      no       27      no   no   \n",
       "876     37  unknown    single   unknown      no      414     yes   no   \n",
       "1072    29  unknown    single   primary      no       50     yes   no   \n",
       "...    ...      ...       ...       ...     ...      ...     ...  ...   \n",
       "44714   45  unknown   married  tertiary      no      406      no   no   \n",
       "44742   64  unknown   married   unknown      no     2799      no   no   \n",
       "44970   28  unknown    single   unknown      no      326      no   no   \n",
       "45141   77  unknown   married   unknown      no      397      no   no   \n",
       "45186   59  unknown   married   unknown      no     1500      no   no   \n",
       "\n",
       "         contact  day month  duration  campaign  pdays  previous poutcome    y  \n",
       "4        unknown    5   may       198         1     -1         0  unknown   no  \n",
       "216      unknown    5   may       338         2     -1         0  unknown   no  \n",
       "354      unknown    5   may       347         3     -1         0  unknown   no  \n",
       "876      unknown    7   may       131         1     -1         0  unknown   no  \n",
       "1072     unknown    7   may        50         2     -1         0  unknown   no  \n",
       "...          ...  ...   ...       ...       ...    ...       ...      ...  ...  \n",
       "44714   cellular    7   sep       314         1     -1         0  unknown  yes  \n",
       "44742  telephone    9   sep       378         4     -1         0  unknown   no  \n",
       "44970   cellular   11   oct       450         1    231         1  success  yes  \n",
       "45141  telephone    8   nov       207         1    185         3  success   no  \n",
       "45186   cellular   16   nov       280         1    104         2  failure   no  \n",
       "\n",
       "[288 rows x 17 columns]"
      ]
     },
     "execution_count": 17,
     "metadata": {},
     "output_type": "execute_result"
    }
   ],
   "source": [
    "df[df['job'] == ('unknown')]"
   ]
  },
  {
   "cell_type": "code",
   "execution_count": 18,
   "id": "e33b70d6",
   "metadata": {
    "ExecuteTime": {
     "end_time": "2023-02-28T09:03:05.743798Z",
     "start_time": "2023-02-28T09:03:05.725051Z"
    }
   },
   "outputs": [],
   "source": [
    "# Calculating model value for job column"
   ]
  },
  {
   "cell_type": "code",
   "execution_count": 19,
   "id": "24528daf",
   "metadata": {
    "ExecuteTime": {
     "end_time": "2023-02-28T09:03:29.083305Z",
     "start_time": "2023-02-28T09:03:29.054601Z"
    }
   },
   "outputs": [
    {
     "data": {
      "text/plain": [
       "'blue-collar'"
      ]
     },
     "execution_count": 19,
     "metadata": {},
     "output_type": "execute_result"
    }
   ],
   "source": [
    "df['job'].mode()[0]"
   ]
  },
  {
   "cell_type": "code",
   "execution_count": 20,
   "id": "1fcdeff6",
   "metadata": {
    "ExecuteTime": {
     "end_time": "2023-02-28T09:03:45.181772Z",
     "start_time": "2023-02-28T09:03:45.173039Z"
    }
   },
   "outputs": [],
   "source": [
    "# imputing mode value"
   ]
  },
  {
   "cell_type": "code",
   "execution_count": 21,
   "id": "ec4a9e8f",
   "metadata": {
    "ExecuteTime": {
     "end_time": "2023-02-28T09:04:47.688001Z",
     "start_time": "2023-02-28T09:04:47.655118Z"
    }
   },
   "outputs": [],
   "source": [
    "df['job'].replace('unknown', 'blue-collar', inplace = True)"
   ]
  },
  {
   "cell_type": "code",
   "execution_count": 22,
   "id": "34dcb375",
   "metadata": {
    "ExecuteTime": {
     "end_time": "2023-02-28T09:05:01.678321Z",
     "start_time": "2023-02-28T09:05:01.654389Z"
    }
   },
   "outputs": [
    {
     "data": {
      "text/plain": [
       "array(['management', 'technician', 'entrepreneur', 'blue-collar',\n",
       "       'retired', 'admin.', 'services', 'self-employed', 'unemployed',\n",
       "       'housemaid', 'student'], dtype=object)"
      ]
     },
     "execution_count": 22,
     "metadata": {},
     "output_type": "execute_result"
    }
   ],
   "source": [
    "df['job'].unique()"
   ]
  },
  {
   "cell_type": "markdown",
   "id": "ec54c6dc",
   "metadata": {},
   "source": [
    "3) Martial column"
   ]
  },
  {
   "cell_type": "code",
   "execution_count": 24,
   "id": "3510dc77",
   "metadata": {
    "ExecuteTime": {
     "end_time": "2023-02-28T09:06:32.675615Z",
     "start_time": "2023-02-28T09:06:32.658997Z"
    }
   },
   "outputs": [
    {
     "data": {
      "text/plain": [
       "array(['married', 'single', 'divorced'], dtype=object)"
      ]
     },
     "execution_count": 24,
     "metadata": {},
     "output_type": "execute_result"
    }
   ],
   "source": [
    "df['marital'].unique()"
   ]
  },
  {
   "cell_type": "markdown",
   "id": "eeb0d35b",
   "metadata": {},
   "source": [
    "- **no special characters & invalid entries found.**\n",
    "\n",
    "4) Education Column"
   ]
  },
  {
   "cell_type": "code",
   "execution_count": 25,
   "id": "e2bdaf13",
   "metadata": {
    "ExecuteTime": {
     "end_time": "2023-02-28T09:07:37.124743Z",
     "start_time": "2023-02-28T09:07:37.090490Z"
    }
   },
   "outputs": [
    {
     "data": {
      "text/plain": [
       "array(['tertiary', 'secondary', 'unknown', 'primary'], dtype=object)"
      ]
     },
     "execution_count": 25,
     "metadata": {},
     "output_type": "execute_result"
    }
   ],
   "source": [
    "df['education'].unique()"
   ]
  },
  {
   "cell_type": "markdown",
   "id": "93ad9cd9",
   "metadata": {},
   "source": [
    "- **invalid entries = 'unknown'**"
   ]
  },
  {
   "cell_type": "code",
   "execution_count": 26,
   "id": "278c5f6a",
   "metadata": {
    "ExecuteTime": {
     "end_time": "2023-02-28T09:08:25.076138Z",
     "start_time": "2023-02-28T09:08:25.063247Z"
    }
   },
   "outputs": [],
   "source": [
    "# All unknown entries present in the education column"
   ]
  },
  {
   "cell_type": "code",
   "execution_count": 27,
   "id": "74535bda",
   "metadata": {
    "ExecuteTime": {
     "end_time": "2023-02-28T09:08:41.139489Z",
     "start_time": "2023-02-28T09:08:41.074777Z"
    }
   },
   "outputs": [
    {
     "data": {
      "text/html": [
       "<div>\n",
       "<style scoped>\n",
       "    .dataframe tbody tr th:only-of-type {\n",
       "        vertical-align: middle;\n",
       "    }\n",
       "\n",
       "    .dataframe tbody tr th {\n",
       "        vertical-align: top;\n",
       "    }\n",
       "\n",
       "    .dataframe thead th {\n",
       "        text-align: right;\n",
       "    }\n",
       "</style>\n",
       "<table border=\"1\" class=\"dataframe\">\n",
       "  <thead>\n",
       "    <tr style=\"text-align: right;\">\n",
       "      <th></th>\n",
       "      <th>age</th>\n",
       "      <th>job</th>\n",
       "      <th>marital</th>\n",
       "      <th>education</th>\n",
       "      <th>default</th>\n",
       "      <th>balance</th>\n",
       "      <th>housing</th>\n",
       "      <th>loan</th>\n",
       "      <th>contact</th>\n",
       "      <th>day</th>\n",
       "      <th>month</th>\n",
       "      <th>duration</th>\n",
       "      <th>campaign</th>\n",
       "      <th>pdays</th>\n",
       "      <th>previous</th>\n",
       "      <th>poutcome</th>\n",
       "      <th>y</th>\n",
       "    </tr>\n",
       "  </thead>\n",
       "  <tbody>\n",
       "    <tr>\n",
       "      <th>3</th>\n",
       "      <td>47</td>\n",
       "      <td>blue-collar</td>\n",
       "      <td>married</td>\n",
       "      <td>unknown</td>\n",
       "      <td>no</td>\n",
       "      <td>1506</td>\n",
       "      <td>yes</td>\n",
       "      <td>no</td>\n",
       "      <td>unknown</td>\n",
       "      <td>5</td>\n",
       "      <td>may</td>\n",
       "      <td>92</td>\n",
       "      <td>1</td>\n",
       "      <td>-1</td>\n",
       "      <td>0</td>\n",
       "      <td>unknown</td>\n",
       "      <td>no</td>\n",
       "    </tr>\n",
       "    <tr>\n",
       "      <th>4</th>\n",
       "      <td>33</td>\n",
       "      <td>blue-collar</td>\n",
       "      <td>single</td>\n",
       "      <td>unknown</td>\n",
       "      <td>no</td>\n",
       "      <td>1</td>\n",
       "      <td>no</td>\n",
       "      <td>no</td>\n",
       "      <td>unknown</td>\n",
       "      <td>5</td>\n",
       "      <td>may</td>\n",
       "      <td>198</td>\n",
       "      <td>1</td>\n",
       "      <td>-1</td>\n",
       "      <td>0</td>\n",
       "      <td>unknown</td>\n",
       "      <td>no</td>\n",
       "    </tr>\n",
       "    <tr>\n",
       "      <th>13</th>\n",
       "      <td>58</td>\n",
       "      <td>technician</td>\n",
       "      <td>married</td>\n",
       "      <td>unknown</td>\n",
       "      <td>no</td>\n",
       "      <td>71</td>\n",
       "      <td>yes</td>\n",
       "      <td>no</td>\n",
       "      <td>unknown</td>\n",
       "      <td>5</td>\n",
       "      <td>may</td>\n",
       "      <td>71</td>\n",
       "      <td>1</td>\n",
       "      <td>-1</td>\n",
       "      <td>0</td>\n",
       "      <td>unknown</td>\n",
       "      <td>no</td>\n",
       "    </tr>\n",
       "    <tr>\n",
       "      <th>16</th>\n",
       "      <td>45</td>\n",
       "      <td>admin.</td>\n",
       "      <td>single</td>\n",
       "      <td>unknown</td>\n",
       "      <td>no</td>\n",
       "      <td>13</td>\n",
       "      <td>yes</td>\n",
       "      <td>no</td>\n",
       "      <td>unknown</td>\n",
       "      <td>5</td>\n",
       "      <td>may</td>\n",
       "      <td>98</td>\n",
       "      <td>1</td>\n",
       "      <td>-1</td>\n",
       "      <td>0</td>\n",
       "      <td>unknown</td>\n",
       "      <td>no</td>\n",
       "    </tr>\n",
       "    <tr>\n",
       "      <th>42</th>\n",
       "      <td>60</td>\n",
       "      <td>blue-collar</td>\n",
       "      <td>married</td>\n",
       "      <td>unknown</td>\n",
       "      <td>no</td>\n",
       "      <td>104</td>\n",
       "      <td>yes</td>\n",
       "      <td>no</td>\n",
       "      <td>unknown</td>\n",
       "      <td>5</td>\n",
       "      <td>may</td>\n",
       "      <td>22</td>\n",
       "      <td>1</td>\n",
       "      <td>-1</td>\n",
       "      <td>0</td>\n",
       "      <td>unknown</td>\n",
       "      <td>no</td>\n",
       "    </tr>\n",
       "    <tr>\n",
       "      <th>...</th>\n",
       "      <td>...</td>\n",
       "      <td>...</td>\n",
       "      <td>...</td>\n",
       "      <td>...</td>\n",
       "      <td>...</td>\n",
       "      <td>...</td>\n",
       "      <td>...</td>\n",
       "      <td>...</td>\n",
       "      <td>...</td>\n",
       "      <td>...</td>\n",
       "      <td>...</td>\n",
       "      <td>...</td>\n",
       "      <td>...</td>\n",
       "      <td>...</td>\n",
       "      <td>...</td>\n",
       "      <td>...</td>\n",
       "      <td>...</td>\n",
       "    </tr>\n",
       "    <tr>\n",
       "      <th>45129</th>\n",
       "      <td>46</td>\n",
       "      <td>technician</td>\n",
       "      <td>married</td>\n",
       "      <td>unknown</td>\n",
       "      <td>no</td>\n",
       "      <td>3308</td>\n",
       "      <td>no</td>\n",
       "      <td>no</td>\n",
       "      <td>cellular</td>\n",
       "      <td>27</td>\n",
       "      <td>oct</td>\n",
       "      <td>171</td>\n",
       "      <td>1</td>\n",
       "      <td>91</td>\n",
       "      <td>2</td>\n",
       "      <td>success</td>\n",
       "      <td>yes</td>\n",
       "    </tr>\n",
       "    <tr>\n",
       "      <th>45141</th>\n",
       "      <td>77</td>\n",
       "      <td>blue-collar</td>\n",
       "      <td>married</td>\n",
       "      <td>unknown</td>\n",
       "      <td>no</td>\n",
       "      <td>397</td>\n",
       "      <td>no</td>\n",
       "      <td>no</td>\n",
       "      <td>telephone</td>\n",
       "      <td>8</td>\n",
       "      <td>nov</td>\n",
       "      <td>207</td>\n",
       "      <td>1</td>\n",
       "      <td>185</td>\n",
       "      <td>3</td>\n",
       "      <td>success</td>\n",
       "      <td>no</td>\n",
       "    </tr>\n",
       "    <tr>\n",
       "      <th>45150</th>\n",
       "      <td>65</td>\n",
       "      <td>management</td>\n",
       "      <td>married</td>\n",
       "      <td>unknown</td>\n",
       "      <td>no</td>\n",
       "      <td>2352</td>\n",
       "      <td>no</td>\n",
       "      <td>no</td>\n",
       "      <td>cellular</td>\n",
       "      <td>8</td>\n",
       "      <td>nov</td>\n",
       "      <td>354</td>\n",
       "      <td>3</td>\n",
       "      <td>188</td>\n",
       "      <td>13</td>\n",
       "      <td>success</td>\n",
       "      <td>no</td>\n",
       "    </tr>\n",
       "    <tr>\n",
       "      <th>45158</th>\n",
       "      <td>34</td>\n",
       "      <td>student</td>\n",
       "      <td>single</td>\n",
       "      <td>unknown</td>\n",
       "      <td>no</td>\n",
       "      <td>2321</td>\n",
       "      <td>no</td>\n",
       "      <td>no</td>\n",
       "      <td>cellular</td>\n",
       "      <td>9</td>\n",
       "      <td>nov</td>\n",
       "      <td>600</td>\n",
       "      <td>2</td>\n",
       "      <td>99</td>\n",
       "      <td>5</td>\n",
       "      <td>failure</td>\n",
       "      <td>no</td>\n",
       "    </tr>\n",
       "    <tr>\n",
       "      <th>45186</th>\n",
       "      <td>59</td>\n",
       "      <td>blue-collar</td>\n",
       "      <td>married</td>\n",
       "      <td>unknown</td>\n",
       "      <td>no</td>\n",
       "      <td>1500</td>\n",
       "      <td>no</td>\n",
       "      <td>no</td>\n",
       "      <td>cellular</td>\n",
       "      <td>16</td>\n",
       "      <td>nov</td>\n",
       "      <td>280</td>\n",
       "      <td>1</td>\n",
       "      <td>104</td>\n",
       "      <td>2</td>\n",
       "      <td>failure</td>\n",
       "      <td>no</td>\n",
       "    </tr>\n",
       "  </tbody>\n",
       "</table>\n",
       "<p>1857 rows × 17 columns</p>\n",
       "</div>"
      ],
      "text/plain": [
       "       age          job  marital education default  balance housing loan  \\\n",
       "3       47  blue-collar  married   unknown      no     1506     yes   no   \n",
       "4       33  blue-collar   single   unknown      no        1      no   no   \n",
       "13      58   technician  married   unknown      no       71     yes   no   \n",
       "16      45       admin.   single   unknown      no       13     yes   no   \n",
       "42      60  blue-collar  married   unknown      no      104     yes   no   \n",
       "...    ...          ...      ...       ...     ...      ...     ...  ...   \n",
       "45129   46   technician  married   unknown      no     3308      no   no   \n",
       "45141   77  blue-collar  married   unknown      no      397      no   no   \n",
       "45150   65   management  married   unknown      no     2352      no   no   \n",
       "45158   34      student   single   unknown      no     2321      no   no   \n",
       "45186   59  blue-collar  married   unknown      no     1500      no   no   \n",
       "\n",
       "         contact  day month  duration  campaign  pdays  previous poutcome    y  \n",
       "3        unknown    5   may        92         1     -1         0  unknown   no  \n",
       "4        unknown    5   may       198         1     -1         0  unknown   no  \n",
       "13       unknown    5   may        71         1     -1         0  unknown   no  \n",
       "16       unknown    5   may        98         1     -1         0  unknown   no  \n",
       "42       unknown    5   may        22         1     -1         0  unknown   no  \n",
       "...          ...  ...   ...       ...       ...    ...       ...      ...  ...  \n",
       "45129   cellular   27   oct       171         1     91         2  success  yes  \n",
       "45141  telephone    8   nov       207         1    185         3  success   no  \n",
       "45150   cellular    8   nov       354         3    188        13  success   no  \n",
       "45158   cellular    9   nov       600         2     99         5  failure   no  \n",
       "45186   cellular   16   nov       280         1    104         2  failure   no  \n",
       "\n",
       "[1857 rows x 17 columns]"
      ]
     },
     "execution_count": 27,
     "metadata": {},
     "output_type": "execute_result"
    }
   ],
   "source": [
    "df[df['education'] == ('unknown')]"
   ]
  },
  {
   "cell_type": "code",
   "execution_count": 28,
   "id": "08958ab2",
   "metadata": {
    "ExecuteTime": {
     "end_time": "2023-02-28T09:09:24.852418Z",
     "start_time": "2023-02-28T09:09:24.835947Z"
    }
   },
   "outputs": [],
   "source": [
    "# Calculating model mode value for education column"
   ]
  },
  {
   "cell_type": "code",
   "execution_count": 29,
   "id": "30f6c742",
   "metadata": {
    "ExecuteTime": {
     "end_time": "2023-02-28T09:09:43.988166Z",
     "start_time": "2023-02-28T09:09:43.956210Z"
    }
   },
   "outputs": [
    {
     "data": {
      "text/plain": [
       "0    secondary\n",
       "Name: education, dtype: object"
      ]
     },
     "execution_count": 29,
     "metadata": {},
     "output_type": "execute_result"
    }
   ],
   "source": [
    "df['education'].mode()"
   ]
  },
  {
   "cell_type": "code",
   "execution_count": 30,
   "id": "51400de1",
   "metadata": {
    "ExecuteTime": {
     "end_time": "2023-02-28T09:10:02.216760Z",
     "start_time": "2023-02-28T09:10:02.206587Z"
    }
   },
   "outputs": [],
   "source": [
    "# Imputing mode value"
   ]
  },
  {
   "cell_type": "code",
   "execution_count": 31,
   "id": "b7ae509b",
   "metadata": {
    "ExecuteTime": {
     "end_time": "2023-02-28T09:11:00.088034Z",
     "start_time": "2023-02-28T09:11:00.063944Z"
    }
   },
   "outputs": [],
   "source": [
    "df['education'].replace('unknown', 'secondary', inplace = True)"
   ]
  },
  {
   "cell_type": "code",
   "execution_count": 32,
   "id": "fe51668b",
   "metadata": {
    "ExecuteTime": {
     "end_time": "2023-02-28T09:11:14.759024Z",
     "start_time": "2023-02-28T09:11:14.732671Z"
    }
   },
   "outputs": [
    {
     "data": {
      "text/plain": [
       "array(['tertiary', 'secondary', 'primary'], dtype=object)"
      ]
     },
     "execution_count": 32,
     "metadata": {},
     "output_type": "execute_result"
    }
   ],
   "source": [
    "df['education'].unique()"
   ]
  },
  {
   "cell_type": "markdown",
   "id": "d2833d52",
   "metadata": {},
   "source": [
    "5) Default column"
   ]
  },
  {
   "cell_type": "code",
   "execution_count": 33,
   "id": "924045b3",
   "metadata": {
    "ExecuteTime": {
     "end_time": "2023-02-28T09:12:05.883707Z",
     "start_time": "2023-02-28T09:12:05.844025Z"
    }
   },
   "outputs": [
    {
     "data": {
      "text/plain": [
       "array(['no', 'yes'], dtype=object)"
      ]
     },
     "execution_count": 33,
     "metadata": {},
     "output_type": "execute_result"
    }
   ],
   "source": [
    "df['default'].unique()"
   ]
  },
  {
   "cell_type": "markdown",
   "id": "64d9cb93",
   "metadata": {},
   "source": [
    "- **no special characters & invalid entries found**"
   ]
  },
  {
   "cell_type": "markdown",
   "id": "468c22cb",
   "metadata": {},
   "source": [
    "6) Balance column"
   ]
  },
  {
   "cell_type": "code",
   "execution_count": 34,
   "id": "49f59ad5",
   "metadata": {
    "ExecuteTime": {
     "end_time": "2023-02-28T09:13:13.474123Z",
     "start_time": "2023-02-28T09:13:13.454722Z"
    }
   },
   "outputs": [
    {
     "data": {
      "text/plain": [
       "array([ 2143,    29,     2, ...,  8205, 14204, 16353], dtype=int64)"
      ]
     },
     "execution_count": 34,
     "metadata": {},
     "output_type": "execute_result"
    }
   ],
   "source": [
    "df['balance'].unique()"
   ]
  },
  {
   "cell_type": "markdown",
   "id": "bf82fe97",
   "metadata": {},
   "source": [
    "- **no special characters & invalid entries found**"
   ]
  },
  {
   "cell_type": "markdown",
   "id": "cf2584fd",
   "metadata": {},
   "source": [
    "7) Housing column"
   ]
  },
  {
   "cell_type": "code",
   "execution_count": 35,
   "id": "4a0b0cc1",
   "metadata": {
    "ExecuteTime": {
     "end_time": "2023-02-28T09:14:25.039516Z",
     "start_time": "2023-02-28T09:14:25.013529Z"
    }
   },
   "outputs": [
    {
     "data": {
      "text/plain": [
       "array(['yes', 'no'], dtype=object)"
      ]
     },
     "execution_count": 35,
     "metadata": {},
     "output_type": "execute_result"
    }
   ],
   "source": [
    "df['housing'].unique()"
   ]
  },
  {
   "cell_type": "markdown",
   "id": "2f0fd93b",
   "metadata": {},
   "source": [
    "- **no special characters & invalid entries found**"
   ]
  },
  {
   "cell_type": "markdown",
   "id": "774f0b47",
   "metadata": {},
   "source": [
    "8) Loan column"
   ]
  },
  {
   "cell_type": "code",
   "execution_count": 36,
   "id": "f4a26f85",
   "metadata": {
    "ExecuteTime": {
     "end_time": "2023-02-28T09:15:35.081143Z",
     "start_time": "2023-02-28T09:15:35.060715Z"
    }
   },
   "outputs": [
    {
     "data": {
      "text/plain": [
       "array(['no', 'yes'], dtype=object)"
      ]
     },
     "execution_count": 36,
     "metadata": {},
     "output_type": "execute_result"
    }
   ],
   "source": [
    "df['loan'].unique()"
   ]
  },
  {
   "cell_type": "markdown",
   "id": "73a85cce",
   "metadata": {},
   "source": [
    "- **no special characters & invalid entries found**"
   ]
  },
  {
   "cell_type": "markdown",
   "id": "8ba96937",
   "metadata": {
    "ExecuteTime": {
     "end_time": "2023-02-28T09:16:14.356738Z",
     "start_time": "2023-02-28T09:16:14.337627Z"
    }
   },
   "source": [
    "9) Contact column"
   ]
  },
  {
   "cell_type": "code",
   "execution_count": 38,
   "id": "c2d0c9b5",
   "metadata": {
    "ExecuteTime": {
     "end_time": "2023-02-28T09:16:56.566969Z",
     "start_time": "2023-02-28T09:16:56.543561Z"
    }
   },
   "outputs": [
    {
     "data": {
      "text/plain": [
       "array(['unknown', 'cellular', 'telephone'], dtype=object)"
      ]
     },
     "execution_count": 38,
     "metadata": {},
     "output_type": "execute_result"
    }
   ],
   "source": [
    "df['contact'].unique()"
   ]
  },
  {
   "cell_type": "markdown",
   "id": "20a4dbd6",
   "metadata": {},
   "source": [
    "- **invalid entry = 'unknown'**"
   ]
  },
  {
   "cell_type": "code",
   "execution_count": 39,
   "id": "faa89500",
   "metadata": {
    "ExecuteTime": {
     "end_time": "2023-02-28T09:17:59.676832Z",
     "start_time": "2023-02-28T09:17:59.672582Z"
    }
   },
   "outputs": [],
   "source": [
    "# All unknown entries present in the contact column"
   ]
  },
  {
   "cell_type": "code",
   "execution_count": 40,
   "id": "67ce5b96",
   "metadata": {
    "ExecuteTime": {
     "end_time": "2023-02-28T09:18:18.406688Z",
     "start_time": "2023-02-28T09:18:18.342607Z"
    }
   },
   "outputs": [
    {
     "data": {
      "text/html": [
       "<div>\n",
       "<style scoped>\n",
       "    .dataframe tbody tr th:only-of-type {\n",
       "        vertical-align: middle;\n",
       "    }\n",
       "\n",
       "    .dataframe tbody tr th {\n",
       "        vertical-align: top;\n",
       "    }\n",
       "\n",
       "    .dataframe thead th {\n",
       "        text-align: right;\n",
       "    }\n",
       "</style>\n",
       "<table border=\"1\" class=\"dataframe\">\n",
       "  <thead>\n",
       "    <tr style=\"text-align: right;\">\n",
       "      <th></th>\n",
       "      <th>age</th>\n",
       "      <th>job</th>\n",
       "      <th>marital</th>\n",
       "      <th>education</th>\n",
       "      <th>default</th>\n",
       "      <th>balance</th>\n",
       "      <th>housing</th>\n",
       "      <th>loan</th>\n",
       "      <th>contact</th>\n",
       "      <th>day</th>\n",
       "      <th>month</th>\n",
       "      <th>duration</th>\n",
       "      <th>campaign</th>\n",
       "      <th>pdays</th>\n",
       "      <th>previous</th>\n",
       "      <th>poutcome</th>\n",
       "      <th>y</th>\n",
       "    </tr>\n",
       "  </thead>\n",
       "  <tbody>\n",
       "    <tr>\n",
       "      <th>0</th>\n",
       "      <td>58</td>\n",
       "      <td>management</td>\n",
       "      <td>married</td>\n",
       "      <td>tertiary</td>\n",
       "      <td>no</td>\n",
       "      <td>2143</td>\n",
       "      <td>yes</td>\n",
       "      <td>no</td>\n",
       "      <td>unknown</td>\n",
       "      <td>5</td>\n",
       "      <td>may</td>\n",
       "      <td>261</td>\n",
       "      <td>1</td>\n",
       "      <td>-1</td>\n",
       "      <td>0</td>\n",
       "      <td>unknown</td>\n",
       "      <td>no</td>\n",
       "    </tr>\n",
       "    <tr>\n",
       "      <th>1</th>\n",
       "      <td>44</td>\n",
       "      <td>technician</td>\n",
       "      <td>single</td>\n",
       "      <td>secondary</td>\n",
       "      <td>no</td>\n",
       "      <td>29</td>\n",
       "      <td>yes</td>\n",
       "      <td>no</td>\n",
       "      <td>unknown</td>\n",
       "      <td>5</td>\n",
       "      <td>may</td>\n",
       "      <td>151</td>\n",
       "      <td>1</td>\n",
       "      <td>-1</td>\n",
       "      <td>0</td>\n",
       "      <td>unknown</td>\n",
       "      <td>no</td>\n",
       "    </tr>\n",
       "    <tr>\n",
       "      <th>2</th>\n",
       "      <td>33</td>\n",
       "      <td>entrepreneur</td>\n",
       "      <td>married</td>\n",
       "      <td>secondary</td>\n",
       "      <td>no</td>\n",
       "      <td>2</td>\n",
       "      <td>yes</td>\n",
       "      <td>yes</td>\n",
       "      <td>unknown</td>\n",
       "      <td>5</td>\n",
       "      <td>may</td>\n",
       "      <td>76</td>\n",
       "      <td>1</td>\n",
       "      <td>-1</td>\n",
       "      <td>0</td>\n",
       "      <td>unknown</td>\n",
       "      <td>no</td>\n",
       "    </tr>\n",
       "    <tr>\n",
       "      <th>3</th>\n",
       "      <td>47</td>\n",
       "      <td>blue-collar</td>\n",
       "      <td>married</td>\n",
       "      <td>secondary</td>\n",
       "      <td>no</td>\n",
       "      <td>1506</td>\n",
       "      <td>yes</td>\n",
       "      <td>no</td>\n",
       "      <td>unknown</td>\n",
       "      <td>5</td>\n",
       "      <td>may</td>\n",
       "      <td>92</td>\n",
       "      <td>1</td>\n",
       "      <td>-1</td>\n",
       "      <td>0</td>\n",
       "      <td>unknown</td>\n",
       "      <td>no</td>\n",
       "    </tr>\n",
       "    <tr>\n",
       "      <th>4</th>\n",
       "      <td>33</td>\n",
       "      <td>blue-collar</td>\n",
       "      <td>single</td>\n",
       "      <td>secondary</td>\n",
       "      <td>no</td>\n",
       "      <td>1</td>\n",
       "      <td>no</td>\n",
       "      <td>no</td>\n",
       "      <td>unknown</td>\n",
       "      <td>5</td>\n",
       "      <td>may</td>\n",
       "      <td>198</td>\n",
       "      <td>1</td>\n",
       "      <td>-1</td>\n",
       "      <td>0</td>\n",
       "      <td>unknown</td>\n",
       "      <td>no</td>\n",
       "    </tr>\n",
       "    <tr>\n",
       "      <th>...</th>\n",
       "      <td>...</td>\n",
       "      <td>...</td>\n",
       "      <td>...</td>\n",
       "      <td>...</td>\n",
       "      <td>...</td>\n",
       "      <td>...</td>\n",
       "      <td>...</td>\n",
       "      <td>...</td>\n",
       "      <td>...</td>\n",
       "      <td>...</td>\n",
       "      <td>...</td>\n",
       "      <td>...</td>\n",
       "      <td>...</td>\n",
       "      <td>...</td>\n",
       "      <td>...</td>\n",
       "      <td>...</td>\n",
       "      <td>...</td>\n",
       "    </tr>\n",
       "    <tr>\n",
       "      <th>45061</th>\n",
       "      <td>30</td>\n",
       "      <td>self-employed</td>\n",
       "      <td>single</td>\n",
       "      <td>secondary</td>\n",
       "      <td>no</td>\n",
       "      <td>1031</td>\n",
       "      <td>no</td>\n",
       "      <td>no</td>\n",
       "      <td>unknown</td>\n",
       "      <td>20</td>\n",
       "      <td>oct</td>\n",
       "      <td>7</td>\n",
       "      <td>1</td>\n",
       "      <td>-1</td>\n",
       "      <td>0</td>\n",
       "      <td>unknown</td>\n",
       "      <td>no</td>\n",
       "    </tr>\n",
       "    <tr>\n",
       "      <th>45062</th>\n",
       "      <td>58</td>\n",
       "      <td>retired</td>\n",
       "      <td>married</td>\n",
       "      <td>primary</td>\n",
       "      <td>no</td>\n",
       "      <td>742</td>\n",
       "      <td>no</td>\n",
       "      <td>no</td>\n",
       "      <td>unknown</td>\n",
       "      <td>20</td>\n",
       "      <td>oct</td>\n",
       "      <td>5</td>\n",
       "      <td>1</td>\n",
       "      <td>-1</td>\n",
       "      <td>0</td>\n",
       "      <td>unknown</td>\n",
       "      <td>no</td>\n",
       "    </tr>\n",
       "    <tr>\n",
       "      <th>45122</th>\n",
       "      <td>40</td>\n",
       "      <td>entrepreneur</td>\n",
       "      <td>single</td>\n",
       "      <td>tertiary</td>\n",
       "      <td>no</td>\n",
       "      <td>262</td>\n",
       "      <td>yes</td>\n",
       "      <td>yes</td>\n",
       "      <td>unknown</td>\n",
       "      <td>26</td>\n",
       "      <td>oct</td>\n",
       "      <td>17</td>\n",
       "      <td>1</td>\n",
       "      <td>-1</td>\n",
       "      <td>0</td>\n",
       "      <td>unknown</td>\n",
       "      <td>no</td>\n",
       "    </tr>\n",
       "    <tr>\n",
       "      <th>45135</th>\n",
       "      <td>53</td>\n",
       "      <td>blue-collar</td>\n",
       "      <td>married</td>\n",
       "      <td>primary</td>\n",
       "      <td>no</td>\n",
       "      <td>1294</td>\n",
       "      <td>no</td>\n",
       "      <td>no</td>\n",
       "      <td>unknown</td>\n",
       "      <td>28</td>\n",
       "      <td>oct</td>\n",
       "      <td>71</td>\n",
       "      <td>1</td>\n",
       "      <td>-1</td>\n",
       "      <td>0</td>\n",
       "      <td>unknown</td>\n",
       "      <td>no</td>\n",
       "    </tr>\n",
       "    <tr>\n",
       "      <th>45136</th>\n",
       "      <td>53</td>\n",
       "      <td>self-employed</td>\n",
       "      <td>married</td>\n",
       "      <td>tertiary</td>\n",
       "      <td>no</td>\n",
       "      <td>730</td>\n",
       "      <td>yes</td>\n",
       "      <td>no</td>\n",
       "      <td>unknown</td>\n",
       "      <td>2</td>\n",
       "      <td>nov</td>\n",
       "      <td>18</td>\n",
       "      <td>1</td>\n",
       "      <td>368</td>\n",
       "      <td>2</td>\n",
       "      <td>failure</td>\n",
       "      <td>no</td>\n",
       "    </tr>\n",
       "  </tbody>\n",
       "</table>\n",
       "<p>13020 rows × 17 columns</p>\n",
       "</div>"
      ],
      "text/plain": [
       "       age            job  marital  education default  balance housing loan  \\\n",
       "0       58     management  married   tertiary      no     2143     yes   no   \n",
       "1       44     technician   single  secondary      no       29     yes   no   \n",
       "2       33   entrepreneur  married  secondary      no        2     yes  yes   \n",
       "3       47    blue-collar  married  secondary      no     1506     yes   no   \n",
       "4       33    blue-collar   single  secondary      no        1      no   no   \n",
       "...    ...            ...      ...        ...     ...      ...     ...  ...   \n",
       "45061   30  self-employed   single  secondary      no     1031      no   no   \n",
       "45062   58        retired  married    primary      no      742      no   no   \n",
       "45122   40   entrepreneur   single   tertiary      no      262     yes  yes   \n",
       "45135   53    blue-collar  married    primary      no     1294      no   no   \n",
       "45136   53  self-employed  married   tertiary      no      730     yes   no   \n",
       "\n",
       "       contact  day month  duration  campaign  pdays  previous poutcome   y  \n",
       "0      unknown    5   may       261         1     -1         0  unknown  no  \n",
       "1      unknown    5   may       151         1     -1         0  unknown  no  \n",
       "2      unknown    5   may        76         1     -1         0  unknown  no  \n",
       "3      unknown    5   may        92         1     -1         0  unknown  no  \n",
       "4      unknown    5   may       198         1     -1         0  unknown  no  \n",
       "...        ...  ...   ...       ...       ...    ...       ...      ...  ..  \n",
       "45061  unknown   20   oct         7         1     -1         0  unknown  no  \n",
       "45062  unknown   20   oct         5         1     -1         0  unknown  no  \n",
       "45122  unknown   26   oct        17         1     -1         0  unknown  no  \n",
       "45135  unknown   28   oct        71         1     -1         0  unknown  no  \n",
       "45136  unknown    2   nov        18         1    368         2  failure  no  \n",
       "\n",
       "[13020 rows x 17 columns]"
      ]
     },
     "execution_count": 40,
     "metadata": {},
     "output_type": "execute_result"
    }
   ],
   "source": [
    "df[df['contact'] == ('unknown')]"
   ]
  },
  {
   "cell_type": "code",
   "execution_count": 41,
   "id": "b995462c",
   "metadata": {
    "ExecuteTime": {
     "end_time": "2023-02-28T09:18:35.823421Z",
     "start_time": "2023-02-28T09:18:35.800354Z"
    }
   },
   "outputs": [],
   "source": [
    "# Find mode"
   ]
  },
  {
   "cell_type": "code",
   "execution_count": 42,
   "id": "5573f448",
   "metadata": {
    "ExecuteTime": {
     "end_time": "2023-02-28T09:18:54.572438Z",
     "start_time": "2023-02-28T09:18:54.555519Z"
    }
   },
   "outputs": [
    {
     "data": {
      "text/plain": [
       "0    cellular\n",
       "Name: contact, dtype: object"
      ]
     },
     "execution_count": 42,
     "metadata": {},
     "output_type": "execute_result"
    }
   ],
   "source": [
    "df['contact'].mode()"
   ]
  },
  {
   "cell_type": "code",
   "execution_count": 43,
   "id": "85660ff5",
   "metadata": {
    "ExecuteTime": {
     "end_time": "2023-02-28T09:19:10.921963Z",
     "start_time": "2023-02-28T09:19:10.902119Z"
    }
   },
   "outputs": [],
   "source": [
    "# Imputing mode value"
   ]
  },
  {
   "cell_type": "code",
   "execution_count": 44,
   "id": "b56aa4e3",
   "metadata": {
    "ExecuteTime": {
     "end_time": "2023-02-28T09:20:00.499440Z",
     "start_time": "2023-02-28T09:20:00.475254Z"
    }
   },
   "outputs": [],
   "source": [
    "df['contact'].replace('unknown', 'cellular', inplace = True)"
   ]
  },
  {
   "cell_type": "code",
   "execution_count": 45,
   "id": "c06c880b",
   "metadata": {
    "ExecuteTime": {
     "end_time": "2023-02-28T09:20:20.459870Z",
     "start_time": "2023-02-28T09:20:20.436590Z"
    }
   },
   "outputs": [
    {
     "data": {
      "text/plain": [
       "array(['cellular', 'telephone'], dtype=object)"
      ]
     },
     "execution_count": 45,
     "metadata": {},
     "output_type": "execute_result"
    }
   ],
   "source": [
    "df['contact'].unique()"
   ]
  },
  {
   "cell_type": "markdown",
   "id": "eff71f39",
   "metadata": {},
   "source": [
    "10) Day column"
   ]
  },
  {
   "cell_type": "code",
   "execution_count": 46,
   "id": "dfcff3f7",
   "metadata": {
    "ExecuteTime": {
     "end_time": "2023-02-28T09:20:59.952958Z",
     "start_time": "2023-02-28T09:20:59.922604Z"
    }
   },
   "outputs": [
    {
     "data": {
      "text/plain": [
       "array([ 5,  6,  7,  8,  9, 12, 13, 14, 15, 16, 19, 20, 21, 23, 26, 27, 28,\n",
       "       29, 30,  2,  3,  4, 11, 17, 18, 24, 25,  1, 10, 22, 31],\n",
       "      dtype=int64)"
      ]
     },
     "execution_count": 46,
     "metadata": {},
     "output_type": "execute_result"
    }
   ],
   "source": [
    "df['day'].unique()"
   ]
  },
  {
   "cell_type": "markdown",
   "id": "48322402",
   "metadata": {},
   "source": [
    "- **no special characters & invalid entries found**\n",
    "\n",
    "11) Month Column"
   ]
  },
  {
   "cell_type": "code",
   "execution_count": 47,
   "id": "ec598c56",
   "metadata": {
    "ExecuteTime": {
     "end_time": "2023-02-28T09:22:00.481570Z",
     "start_time": "2023-02-28T09:22:00.458580Z"
    }
   },
   "outputs": [
    {
     "data": {
      "text/plain": [
       "array(['may', 'jun', 'jul', 'aug', 'oct', 'nov', 'dec', 'jan', 'feb',\n",
       "       'mar', 'apr', 'sep'], dtype=object)"
      ]
     },
     "execution_count": 47,
     "metadata": {},
     "output_type": "execute_result"
    }
   ],
   "source": [
    "df['month'].unique()"
   ]
  },
  {
   "cell_type": "markdown",
   "id": "9c7870c4",
   "metadata": {},
   "source": [
    "- **no special characters & invalid entries found**\n",
    "\n",
    "12) Duration Column"
   ]
  },
  {
   "cell_type": "code",
   "execution_count": 48,
   "id": "d7274abe",
   "metadata": {
    "ExecuteTime": {
     "end_time": "2023-02-28T09:22:59.330969Z",
     "start_time": "2023-02-28T09:22:59.308890Z"
    }
   },
   "outputs": [
    {
     "data": {
      "text/plain": [
       "array([ 261,  151,   76, ..., 1298, 1246, 1556], dtype=int64)"
      ]
     },
     "execution_count": 48,
     "metadata": {},
     "output_type": "execute_result"
    }
   ],
   "source": [
    "df['duration'].unique()"
   ]
  },
  {
   "cell_type": "markdown",
   "id": "89bec644",
   "metadata": {},
   "source": [
    "- **no special characters & invalid entries found**\n",
    "\n",
    "13) campaign Column"
   ]
  },
  {
   "cell_type": "code",
   "execution_count": 49,
   "id": "c799c910",
   "metadata": {
    "ExecuteTime": {
     "end_time": "2023-02-28T09:23:58.454103Z",
     "start_time": "2023-02-28T09:23:58.413931Z"
    }
   },
   "outputs": [
    {
     "data": {
      "text/plain": [
       "array([ 1,  2,  3,  5,  4,  6,  7,  8,  9, 10, 11, 12, 13, 19, 14, 24, 16,\n",
       "       32, 18, 22, 15, 17, 25, 21, 43, 51, 63, 41, 26, 28, 55, 50, 38, 23,\n",
       "       20, 29, 31, 37, 30, 46, 27, 58, 33, 35, 34, 36, 39, 44],\n",
       "      dtype=int64)"
      ]
     },
     "execution_count": 49,
     "metadata": {},
     "output_type": "execute_result"
    }
   ],
   "source": [
    "df['campaign'].unique()"
   ]
  },
  {
   "cell_type": "markdown",
   "id": "d8164209",
   "metadata": {
    "ExecuteTime": {
     "end_time": "2023-02-28T09:24:25.657960Z",
     "start_time": "2023-02-28T09:24:25.649316Z"
    }
   },
   "source": [
    "- **no special characters & invalid entries found**\n",
    "\n",
    "14) Pdays Column"
   ]
  },
  {
   "cell_type": "code",
   "execution_count": 51,
   "id": "d138e704",
   "metadata": {
    "ExecuteTime": {
     "end_time": "2023-02-28T09:24:59.467180Z",
     "start_time": "2023-02-28T09:24:59.444651Z"
    }
   },
   "outputs": [
    {
     "data": {
      "text/plain": [
       "array([ -1, 151, 166,  91,  86, 143, 147,  89, 140, 176, 101, 174, 170,\n",
       "       167, 195, 165, 129, 188, 196, 172, 118, 119, 104, 171, 117, 164,\n",
       "       132, 131, 123, 159, 186, 111, 115, 116, 173, 178, 110, 152,  96,\n",
       "       103, 150, 175, 193, 181, 185, 154, 145, 138, 126, 180, 109, 158,\n",
       "       168,  97, 182, 127, 130, 194, 125, 105, 102,  26, 179,  28, 183,\n",
       "       155, 112, 120, 137, 124, 187, 190, 113, 162, 134, 169, 189,   8,\n",
       "       144, 191, 184, 177,   5,  99, 133,  93,  92,  10, 100, 156, 198,\n",
       "       106, 153, 146, 128,   7, 121, 160, 107,  90,  27, 197, 136, 139,\n",
       "       122, 157, 149, 135,  30, 114,  98, 192, 163,  34,  95, 141,  31,\n",
       "       199,  94, 108,  29, 268, 247, 253, 226, 244, 239, 245, 204, 231,\n",
       "       238, 258, 230, 254, 265,  71, 223, 246, 250, 266, 240, 205, 261,\n",
       "       259, 241, 260, 234, 251, 225, 161, 237, 262, 248, 255, 220, 227,\n",
       "       206, 224, 249, 235, 228, 263,   2, 270, 232, 252, 207, 200, 269,\n",
       "       233, 256, 273, 272, 242, 264, 208, 214, 222, 271, 203, 221, 202,\n",
       "       216, 201, 257, 229, 210, 217,  75, 213,  73,  76, 267, 211, 215,\n",
       "        77, 236,  82,   6, 209, 274,   1, 243, 212, 275,  80, 276,   9,\n",
       "       279,  12, 280,  88, 277,  85,  84, 219,  24,  21, 282,  41, 294,\n",
       "        49, 329, 307, 303, 331, 308, 300,  64, 314, 287, 330, 332, 302,\n",
       "       323, 318, 333,  60, 326, 335, 313, 312, 305, 325, 327, 336, 309,\n",
       "       328, 322,  39, 316, 292, 295, 310, 306, 320, 317, 289,  57, 321,\n",
       "       142, 339, 301, 315, 337, 334, 340, 319,  17,  74, 148, 341, 299,\n",
       "       344, 342, 324, 345, 346, 304, 281, 343, 338,  14, 347,  15, 291,\n",
       "       348, 349, 285, 350, 284,  25, 283, 278,  81,   4,  87,  83,  79,\n",
       "        70,  13, 293,  37,  78,  63,  22, 296, 355,  66,  19,  35, 360,\n",
       "       357, 354, 351, 362, 358, 365, 298, 286, 364, 363,  47, 361, 288,\n",
       "       366, 356, 352, 359, 297, 367, 353, 368,  42, 290,  67, 371, 370,\n",
       "       369,  50,  36, 373, 374, 372, 311, 375, 378,  59, 379,  40,  18,\n",
       "        43,  20,  69,  38, 385,  56,  55,  44, 391,  72, 390,  32,  62,\n",
       "       399, 393,  65, 377, 395, 388, 389, 386,  61, 412, 405, 434, 394,\n",
       "       382, 459, 440, 397, 383,  68, 461, 462, 463, 422,  51, 457, 430,\n",
       "       442, 403, 454, 428, 392, 410, 401, 474, 475, 477, 478,  54, 476,\n",
       "       380, 479,  45,  46, 495,  58,  48, 518,  52, 515, 520, 511, 536,\n",
       "       387, 218,  33, 544, 435, 436, 555, 433, 446, 558, 469, 616, 561,\n",
       "       553, 384, 592, 467, 585, 480, 421, 667, 626, 426, 595, 381, 376,\n",
       "       648, 521, 452, 449, 633, 398,  53, 460, 670, 551, 414, 557, 687,\n",
       "       404, 651, 686, 425, 504, 578, 674, 416, 586, 411, 756, 450, 745,\n",
       "       514, 417, 424, 776, 396, 683, 529, 439, 415, 456, 407, 458, 532,\n",
       "       481, 791, 701, 531, 792, 413, 445, 535, 784, 419, 455, 491, 431,\n",
       "       542, 470, 472, 717, 437,   3, 782, 728, 828, 524, 562, 761, 492,\n",
       "       775, 579, 493, 464, 760, 466, 465, 656, 831, 490, 432, 655, 427,\n",
       "       749, 838, 769, 587, 778, 854, 779, 850, 771, 594, 842, 589, 603,\n",
       "       484, 489, 486, 409, 444, 680, 808, 485, 503, 690, 772, 774, 526,\n",
       "       420, 528, 500, 826, 804, 508, 547, 805, 541, 543, 871, 550, 530],\n",
       "      dtype=int64)"
      ]
     },
     "execution_count": 51,
     "metadata": {},
     "output_type": "execute_result"
    }
   ],
   "source": [
    "df['pdays'].unique()"
   ]
  },
  {
   "cell_type": "markdown",
   "id": "c2f8f092",
   "metadata": {},
   "source": [
    "- **no special characters & invalid entries found**\n",
    "\n",
    "15) Previous Column"
   ]
  },
  {
   "cell_type": "code",
   "execution_count": 52,
   "id": "8fa85e57",
   "metadata": {
    "ExecuteTime": {
     "end_time": "2023-02-28T09:26:05.882794Z",
     "start_time": "2023-02-28T09:26:05.860983Z"
    }
   },
   "outputs": [
    {
     "data": {
      "text/plain": [
       "array([  0,   3,   1,   4,   2,  11,  16,   6,   5,  10,  12,   7,  18,\n",
       "         9,  21,   8,  14,  15,  26,  37,  13,  25,  20,  27,  17,  23,\n",
       "        38,  29,  24,  51, 275,  22,  19,  30,  58,  28,  32,  40,  55,\n",
       "        35,  41], dtype=int64)"
      ]
     },
     "execution_count": 52,
     "metadata": {},
     "output_type": "execute_result"
    }
   ],
   "source": [
    "df['previous'].unique()"
   ]
  },
  {
   "cell_type": "markdown",
   "id": "dbd369b7",
   "metadata": {},
   "source": [
    "- **no special characters & invalid entries found**\n",
    "\n",
    "16) Poutcome Column"
   ]
  },
  {
   "cell_type": "code",
   "execution_count": 53,
   "id": "0d01e283",
   "metadata": {
    "ExecuteTime": {
     "end_time": "2023-02-28T09:27:06.945493Z",
     "start_time": "2023-02-28T09:27:06.910607Z"
    }
   },
   "outputs": [
    {
     "data": {
      "text/plain": [
       "array(['unknown', 'failure', 'other', 'success'], dtype=object)"
      ]
     },
     "execution_count": 53,
     "metadata": {},
     "output_type": "execute_result"
    }
   ],
   "source": [
    "df['poutcome'].unique()"
   ]
  },
  {
   "cell_type": "markdown",
   "id": "a3fd230c",
   "metadata": {},
   "source": [
    "- **invalid entries = 'unknown' , 'other'**"
   ]
  },
  {
   "cell_type": "code",
   "execution_count": 54,
   "id": "bd739c57",
   "metadata": {
    "ExecuteTime": {
     "end_time": "2023-02-28T09:28:20.165377Z",
     "start_time": "2023-02-28T09:28:20.147311Z"
    }
   },
   "outputs": [],
   "source": [
    "# all unknown entries present on the poutcome column"
   ]
  },
  {
   "cell_type": "code",
   "execution_count": 55,
   "id": "6b694913",
   "metadata": {
    "ExecuteTime": {
     "end_time": "2023-02-28T09:28:35.115786Z",
     "start_time": "2023-02-28T09:28:35.044066Z"
    }
   },
   "outputs": [
    {
     "data": {
      "text/html": [
       "<div>\n",
       "<style scoped>\n",
       "    .dataframe tbody tr th:only-of-type {\n",
       "        vertical-align: middle;\n",
       "    }\n",
       "\n",
       "    .dataframe tbody tr th {\n",
       "        vertical-align: top;\n",
       "    }\n",
       "\n",
       "    .dataframe thead th {\n",
       "        text-align: right;\n",
       "    }\n",
       "</style>\n",
       "<table border=\"1\" class=\"dataframe\">\n",
       "  <thead>\n",
       "    <tr style=\"text-align: right;\">\n",
       "      <th></th>\n",
       "      <th>age</th>\n",
       "      <th>job</th>\n",
       "      <th>marital</th>\n",
       "      <th>education</th>\n",
       "      <th>default</th>\n",
       "      <th>balance</th>\n",
       "      <th>housing</th>\n",
       "      <th>loan</th>\n",
       "      <th>contact</th>\n",
       "      <th>day</th>\n",
       "      <th>month</th>\n",
       "      <th>duration</th>\n",
       "      <th>campaign</th>\n",
       "      <th>pdays</th>\n",
       "      <th>previous</th>\n",
       "      <th>poutcome</th>\n",
       "      <th>y</th>\n",
       "    </tr>\n",
       "  </thead>\n",
       "  <tbody>\n",
       "    <tr>\n",
       "      <th>0</th>\n",
       "      <td>58</td>\n",
       "      <td>management</td>\n",
       "      <td>married</td>\n",
       "      <td>tertiary</td>\n",
       "      <td>no</td>\n",
       "      <td>2143</td>\n",
       "      <td>yes</td>\n",
       "      <td>no</td>\n",
       "      <td>cellular</td>\n",
       "      <td>5</td>\n",
       "      <td>may</td>\n",
       "      <td>261</td>\n",
       "      <td>1</td>\n",
       "      <td>-1</td>\n",
       "      <td>0</td>\n",
       "      <td>unknown</td>\n",
       "      <td>no</td>\n",
       "    </tr>\n",
       "    <tr>\n",
       "      <th>1</th>\n",
       "      <td>44</td>\n",
       "      <td>technician</td>\n",
       "      <td>single</td>\n",
       "      <td>secondary</td>\n",
       "      <td>no</td>\n",
       "      <td>29</td>\n",
       "      <td>yes</td>\n",
       "      <td>no</td>\n",
       "      <td>cellular</td>\n",
       "      <td>5</td>\n",
       "      <td>may</td>\n",
       "      <td>151</td>\n",
       "      <td>1</td>\n",
       "      <td>-1</td>\n",
       "      <td>0</td>\n",
       "      <td>unknown</td>\n",
       "      <td>no</td>\n",
       "    </tr>\n",
       "    <tr>\n",
       "      <th>2</th>\n",
       "      <td>33</td>\n",
       "      <td>entrepreneur</td>\n",
       "      <td>married</td>\n",
       "      <td>secondary</td>\n",
       "      <td>no</td>\n",
       "      <td>2</td>\n",
       "      <td>yes</td>\n",
       "      <td>yes</td>\n",
       "      <td>cellular</td>\n",
       "      <td>5</td>\n",
       "      <td>may</td>\n",
       "      <td>76</td>\n",
       "      <td>1</td>\n",
       "      <td>-1</td>\n",
       "      <td>0</td>\n",
       "      <td>unknown</td>\n",
       "      <td>no</td>\n",
       "    </tr>\n",
       "    <tr>\n",
       "      <th>3</th>\n",
       "      <td>47</td>\n",
       "      <td>blue-collar</td>\n",
       "      <td>married</td>\n",
       "      <td>secondary</td>\n",
       "      <td>no</td>\n",
       "      <td>1506</td>\n",
       "      <td>yes</td>\n",
       "      <td>no</td>\n",
       "      <td>cellular</td>\n",
       "      <td>5</td>\n",
       "      <td>may</td>\n",
       "      <td>92</td>\n",
       "      <td>1</td>\n",
       "      <td>-1</td>\n",
       "      <td>0</td>\n",
       "      <td>unknown</td>\n",
       "      <td>no</td>\n",
       "    </tr>\n",
       "    <tr>\n",
       "      <th>4</th>\n",
       "      <td>33</td>\n",
       "      <td>blue-collar</td>\n",
       "      <td>single</td>\n",
       "      <td>secondary</td>\n",
       "      <td>no</td>\n",
       "      <td>1</td>\n",
       "      <td>no</td>\n",
       "      <td>no</td>\n",
       "      <td>cellular</td>\n",
       "      <td>5</td>\n",
       "      <td>may</td>\n",
       "      <td>198</td>\n",
       "      <td>1</td>\n",
       "      <td>-1</td>\n",
       "      <td>0</td>\n",
       "      <td>unknown</td>\n",
       "      <td>no</td>\n",
       "    </tr>\n",
       "    <tr>\n",
       "      <th>...</th>\n",
       "      <td>...</td>\n",
       "      <td>...</td>\n",
       "      <td>...</td>\n",
       "      <td>...</td>\n",
       "      <td>...</td>\n",
       "      <td>...</td>\n",
       "      <td>...</td>\n",
       "      <td>...</td>\n",
       "      <td>...</td>\n",
       "      <td>...</td>\n",
       "      <td>...</td>\n",
       "      <td>...</td>\n",
       "      <td>...</td>\n",
       "      <td>...</td>\n",
       "      <td>...</td>\n",
       "      <td>...</td>\n",
       "      <td>...</td>\n",
       "    </tr>\n",
       "    <tr>\n",
       "      <th>45203</th>\n",
       "      <td>23</td>\n",
       "      <td>student</td>\n",
       "      <td>single</td>\n",
       "      <td>tertiary</td>\n",
       "      <td>no</td>\n",
       "      <td>113</td>\n",
       "      <td>no</td>\n",
       "      <td>no</td>\n",
       "      <td>cellular</td>\n",
       "      <td>17</td>\n",
       "      <td>nov</td>\n",
       "      <td>266</td>\n",
       "      <td>1</td>\n",
       "      <td>-1</td>\n",
       "      <td>0</td>\n",
       "      <td>unknown</td>\n",
       "      <td>yes</td>\n",
       "    </tr>\n",
       "    <tr>\n",
       "      <th>45205</th>\n",
       "      <td>25</td>\n",
       "      <td>technician</td>\n",
       "      <td>single</td>\n",
       "      <td>secondary</td>\n",
       "      <td>no</td>\n",
       "      <td>505</td>\n",
       "      <td>no</td>\n",
       "      <td>yes</td>\n",
       "      <td>cellular</td>\n",
       "      <td>17</td>\n",
       "      <td>nov</td>\n",
       "      <td>386</td>\n",
       "      <td>2</td>\n",
       "      <td>-1</td>\n",
       "      <td>0</td>\n",
       "      <td>unknown</td>\n",
       "      <td>yes</td>\n",
       "    </tr>\n",
       "    <tr>\n",
       "      <th>45206</th>\n",
       "      <td>51</td>\n",
       "      <td>technician</td>\n",
       "      <td>married</td>\n",
       "      <td>tertiary</td>\n",
       "      <td>no</td>\n",
       "      <td>825</td>\n",
       "      <td>no</td>\n",
       "      <td>no</td>\n",
       "      <td>cellular</td>\n",
       "      <td>17</td>\n",
       "      <td>nov</td>\n",
       "      <td>977</td>\n",
       "      <td>3</td>\n",
       "      <td>-1</td>\n",
       "      <td>0</td>\n",
       "      <td>unknown</td>\n",
       "      <td>yes</td>\n",
       "    </tr>\n",
       "    <tr>\n",
       "      <th>45207</th>\n",
       "      <td>71</td>\n",
       "      <td>retired</td>\n",
       "      <td>divorced</td>\n",
       "      <td>primary</td>\n",
       "      <td>no</td>\n",
       "      <td>1729</td>\n",
       "      <td>no</td>\n",
       "      <td>no</td>\n",
       "      <td>cellular</td>\n",
       "      <td>17</td>\n",
       "      <td>nov</td>\n",
       "      <td>456</td>\n",
       "      <td>2</td>\n",
       "      <td>-1</td>\n",
       "      <td>0</td>\n",
       "      <td>unknown</td>\n",
       "      <td>yes</td>\n",
       "    </tr>\n",
       "    <tr>\n",
       "      <th>45209</th>\n",
       "      <td>57</td>\n",
       "      <td>blue-collar</td>\n",
       "      <td>married</td>\n",
       "      <td>secondary</td>\n",
       "      <td>no</td>\n",
       "      <td>668</td>\n",
       "      <td>no</td>\n",
       "      <td>no</td>\n",
       "      <td>telephone</td>\n",
       "      <td>17</td>\n",
       "      <td>nov</td>\n",
       "      <td>508</td>\n",
       "      <td>4</td>\n",
       "      <td>-1</td>\n",
       "      <td>0</td>\n",
       "      <td>unknown</td>\n",
       "      <td>no</td>\n",
       "    </tr>\n",
       "  </tbody>\n",
       "</table>\n",
       "<p>36959 rows × 17 columns</p>\n",
       "</div>"
      ],
      "text/plain": [
       "       age           job   marital  education default  balance housing loan  \\\n",
       "0       58    management   married   tertiary      no     2143     yes   no   \n",
       "1       44    technician    single  secondary      no       29     yes   no   \n",
       "2       33  entrepreneur   married  secondary      no        2     yes  yes   \n",
       "3       47   blue-collar   married  secondary      no     1506     yes   no   \n",
       "4       33   blue-collar    single  secondary      no        1      no   no   \n",
       "...    ...           ...       ...        ...     ...      ...     ...  ...   \n",
       "45203   23       student    single   tertiary      no      113      no   no   \n",
       "45205   25    technician    single  secondary      no      505      no  yes   \n",
       "45206   51    technician   married   tertiary      no      825      no   no   \n",
       "45207   71       retired  divorced    primary      no     1729      no   no   \n",
       "45209   57   blue-collar   married  secondary      no      668      no   no   \n",
       "\n",
       "         contact  day month  duration  campaign  pdays  previous poutcome    y  \n",
       "0       cellular    5   may       261         1     -1         0  unknown   no  \n",
       "1       cellular    5   may       151         1     -1         0  unknown   no  \n",
       "2       cellular    5   may        76         1     -1         0  unknown   no  \n",
       "3       cellular    5   may        92         1     -1         0  unknown   no  \n",
       "4       cellular    5   may       198         1     -1         0  unknown   no  \n",
       "...          ...  ...   ...       ...       ...    ...       ...      ...  ...  \n",
       "45203   cellular   17   nov       266         1     -1         0  unknown  yes  \n",
       "45205   cellular   17   nov       386         2     -1         0  unknown  yes  \n",
       "45206   cellular   17   nov       977         3     -1         0  unknown  yes  \n",
       "45207   cellular   17   nov       456         2     -1         0  unknown  yes  \n",
       "45209  telephone   17   nov       508         4     -1         0  unknown   no  \n",
       "\n",
       "[36959 rows x 17 columns]"
      ]
     },
     "execution_count": 55,
     "metadata": {},
     "output_type": "execute_result"
    }
   ],
   "source": [
    "df[df['poutcome'] == ('unknown')]"
   ]
  },
  {
   "cell_type": "markdown",
   "id": "48c6ef09",
   "metadata": {},
   "source": [
    "- Too many unknown entries present in the column"
   ]
  },
  {
   "cell_type": "code",
   "execution_count": 56,
   "id": "2c9eb1a1",
   "metadata": {
    "ExecuteTime": {
     "end_time": "2023-02-28T09:29:23.024309Z",
     "start_time": "2023-02-28T09:29:23.013243Z"
    }
   },
   "outputs": [],
   "source": [
    "#All other entries present in the poutcome column"
   ]
  },
  {
   "cell_type": "code",
   "execution_count": 57,
   "id": "f550fd04",
   "metadata": {
    "ExecuteTime": {
     "end_time": "2023-02-28T09:29:37.561091Z",
     "start_time": "2023-02-28T09:29:37.511113Z"
    }
   },
   "outputs": [
    {
     "data": {
      "text/html": [
       "<div>\n",
       "<style scoped>\n",
       "    .dataframe tbody tr th:only-of-type {\n",
       "        vertical-align: middle;\n",
       "    }\n",
       "\n",
       "    .dataframe tbody tr th {\n",
       "        vertical-align: top;\n",
       "    }\n",
       "\n",
       "    .dataframe thead th {\n",
       "        text-align: right;\n",
       "    }\n",
       "</style>\n",
       "<table border=\"1\" class=\"dataframe\">\n",
       "  <thead>\n",
       "    <tr style=\"text-align: right;\">\n",
       "      <th></th>\n",
       "      <th>age</th>\n",
       "      <th>job</th>\n",
       "      <th>marital</th>\n",
       "      <th>education</th>\n",
       "      <th>default</th>\n",
       "      <th>balance</th>\n",
       "      <th>housing</th>\n",
       "      <th>loan</th>\n",
       "      <th>contact</th>\n",
       "      <th>day</th>\n",
       "      <th>month</th>\n",
       "      <th>duration</th>\n",
       "      <th>campaign</th>\n",
       "      <th>pdays</th>\n",
       "      <th>previous</th>\n",
       "      <th>poutcome</th>\n",
       "      <th>y</th>\n",
       "    </tr>\n",
       "  </thead>\n",
       "  <tbody>\n",
       "    <tr>\n",
       "      <th>24062</th>\n",
       "      <td>42</td>\n",
       "      <td>admin.</td>\n",
       "      <td>single</td>\n",
       "      <td>secondary</td>\n",
       "      <td>no</td>\n",
       "      <td>-247</td>\n",
       "      <td>yes</td>\n",
       "      <td>yes</td>\n",
       "      <td>telephone</td>\n",
       "      <td>21</td>\n",
       "      <td>oct</td>\n",
       "      <td>519</td>\n",
       "      <td>1</td>\n",
       "      <td>166</td>\n",
       "      <td>1</td>\n",
       "      <td>other</td>\n",
       "      <td>yes</td>\n",
       "    </tr>\n",
       "    <tr>\n",
       "      <th>24072</th>\n",
       "      <td>36</td>\n",
       "      <td>management</td>\n",
       "      <td>married</td>\n",
       "      <td>tertiary</td>\n",
       "      <td>no</td>\n",
       "      <td>2415</td>\n",
       "      <td>yes</td>\n",
       "      <td>no</td>\n",
       "      <td>telephone</td>\n",
       "      <td>22</td>\n",
       "      <td>oct</td>\n",
       "      <td>73</td>\n",
       "      <td>1</td>\n",
       "      <td>86</td>\n",
       "      <td>4</td>\n",
       "      <td>other</td>\n",
       "      <td>no</td>\n",
       "    </tr>\n",
       "    <tr>\n",
       "      <th>24086</th>\n",
       "      <td>44</td>\n",
       "      <td>blue-collar</td>\n",
       "      <td>married</td>\n",
       "      <td>secondary</td>\n",
       "      <td>no</td>\n",
       "      <td>1324</td>\n",
       "      <td>yes</td>\n",
       "      <td>no</td>\n",
       "      <td>telephone</td>\n",
       "      <td>25</td>\n",
       "      <td>oct</td>\n",
       "      <td>119</td>\n",
       "      <td>1</td>\n",
       "      <td>89</td>\n",
       "      <td>2</td>\n",
       "      <td>other</td>\n",
       "      <td>no</td>\n",
       "    </tr>\n",
       "    <tr>\n",
       "      <th>24122</th>\n",
       "      <td>26</td>\n",
       "      <td>technician</td>\n",
       "      <td>single</td>\n",
       "      <td>tertiary</td>\n",
       "      <td>no</td>\n",
       "      <td>172</td>\n",
       "      <td>no</td>\n",
       "      <td>yes</td>\n",
       "      <td>telephone</td>\n",
       "      <td>4</td>\n",
       "      <td>nov</td>\n",
       "      <td>21</td>\n",
       "      <td>1</td>\n",
       "      <td>140</td>\n",
       "      <td>4</td>\n",
       "      <td>other</td>\n",
       "      <td>no</td>\n",
       "    </tr>\n",
       "    <tr>\n",
       "      <th>24136</th>\n",
       "      <td>34</td>\n",
       "      <td>management</td>\n",
       "      <td>married</td>\n",
       "      <td>tertiary</td>\n",
       "      <td>no</td>\n",
       "      <td>1770</td>\n",
       "      <td>yes</td>\n",
       "      <td>no</td>\n",
       "      <td>cellular</td>\n",
       "      <td>6</td>\n",
       "      <td>nov</td>\n",
       "      <td>26</td>\n",
       "      <td>1</td>\n",
       "      <td>101</td>\n",
       "      <td>11</td>\n",
       "      <td>other</td>\n",
       "      <td>no</td>\n",
       "    </tr>\n",
       "    <tr>\n",
       "      <th>...</th>\n",
       "      <td>...</td>\n",
       "      <td>...</td>\n",
       "      <td>...</td>\n",
       "      <td>...</td>\n",
       "      <td>...</td>\n",
       "      <td>...</td>\n",
       "      <td>...</td>\n",
       "      <td>...</td>\n",
       "      <td>...</td>\n",
       "      <td>...</td>\n",
       "      <td>...</td>\n",
       "      <td>...</td>\n",
       "      <td>...</td>\n",
       "      <td>...</td>\n",
       "      <td>...</td>\n",
       "      <td>...</td>\n",
       "      <td>...</td>\n",
       "    </tr>\n",
       "    <tr>\n",
       "      <th>45153</th>\n",
       "      <td>64</td>\n",
       "      <td>retired</td>\n",
       "      <td>married</td>\n",
       "      <td>tertiary</td>\n",
       "      <td>no</td>\n",
       "      <td>2059</td>\n",
       "      <td>no</td>\n",
       "      <td>yes</td>\n",
       "      <td>cellular</td>\n",
       "      <td>9</td>\n",
       "      <td>nov</td>\n",
       "      <td>326</td>\n",
       "      <td>1</td>\n",
       "      <td>95</td>\n",
       "      <td>1</td>\n",
       "      <td>other</td>\n",
       "      <td>no</td>\n",
       "    </tr>\n",
       "    <tr>\n",
       "      <th>45165</th>\n",
       "      <td>33</td>\n",
       "      <td>technician</td>\n",
       "      <td>married</td>\n",
       "      <td>tertiary</td>\n",
       "      <td>no</td>\n",
       "      <td>2976</td>\n",
       "      <td>yes</td>\n",
       "      <td>no</td>\n",
       "      <td>cellular</td>\n",
       "      <td>9</td>\n",
       "      <td>nov</td>\n",
       "      <td>465</td>\n",
       "      <td>2</td>\n",
       "      <td>95</td>\n",
       "      <td>12</td>\n",
       "      <td>other</td>\n",
       "      <td>no</td>\n",
       "    </tr>\n",
       "    <tr>\n",
       "      <th>45170</th>\n",
       "      <td>19</td>\n",
       "      <td>student</td>\n",
       "      <td>single</td>\n",
       "      <td>primary</td>\n",
       "      <td>no</td>\n",
       "      <td>245</td>\n",
       "      <td>no</td>\n",
       "      <td>no</td>\n",
       "      <td>telephone</td>\n",
       "      <td>10</td>\n",
       "      <td>nov</td>\n",
       "      <td>98</td>\n",
       "      <td>2</td>\n",
       "      <td>110</td>\n",
       "      <td>2</td>\n",
       "      <td>other</td>\n",
       "      <td>no</td>\n",
       "    </tr>\n",
       "    <tr>\n",
       "      <th>45199</th>\n",
       "      <td>34</td>\n",
       "      <td>blue-collar</td>\n",
       "      <td>single</td>\n",
       "      <td>secondary</td>\n",
       "      <td>no</td>\n",
       "      <td>1475</td>\n",
       "      <td>yes</td>\n",
       "      <td>no</td>\n",
       "      <td>cellular</td>\n",
       "      <td>16</td>\n",
       "      <td>nov</td>\n",
       "      <td>1166</td>\n",
       "      <td>3</td>\n",
       "      <td>530</td>\n",
       "      <td>12</td>\n",
       "      <td>other</td>\n",
       "      <td>no</td>\n",
       "    </tr>\n",
       "    <tr>\n",
       "      <th>45210</th>\n",
       "      <td>37</td>\n",
       "      <td>entrepreneur</td>\n",
       "      <td>married</td>\n",
       "      <td>secondary</td>\n",
       "      <td>no</td>\n",
       "      <td>2971</td>\n",
       "      <td>no</td>\n",
       "      <td>no</td>\n",
       "      <td>cellular</td>\n",
       "      <td>17</td>\n",
       "      <td>nov</td>\n",
       "      <td>361</td>\n",
       "      <td>2</td>\n",
       "      <td>188</td>\n",
       "      <td>11</td>\n",
       "      <td>other</td>\n",
       "      <td>no</td>\n",
       "    </tr>\n",
       "  </tbody>\n",
       "</table>\n",
       "<p>1840 rows × 17 columns</p>\n",
       "</div>"
      ],
      "text/plain": [
       "       age           job  marital  education default  balance housing loan  \\\n",
       "24062   42        admin.   single  secondary      no     -247     yes  yes   \n",
       "24072   36    management  married   tertiary      no     2415     yes   no   \n",
       "24086   44   blue-collar  married  secondary      no     1324     yes   no   \n",
       "24122   26    technician   single   tertiary      no      172      no  yes   \n",
       "24136   34    management  married   tertiary      no     1770     yes   no   \n",
       "...    ...           ...      ...        ...     ...      ...     ...  ...   \n",
       "45153   64       retired  married   tertiary      no     2059      no  yes   \n",
       "45165   33    technician  married   tertiary      no     2976     yes   no   \n",
       "45170   19       student   single    primary      no      245      no   no   \n",
       "45199   34   blue-collar   single  secondary      no     1475     yes   no   \n",
       "45210   37  entrepreneur  married  secondary      no     2971      no   no   \n",
       "\n",
       "         contact  day month  duration  campaign  pdays  previous poutcome    y  \n",
       "24062  telephone   21   oct       519         1    166         1    other  yes  \n",
       "24072  telephone   22   oct        73         1     86         4    other   no  \n",
       "24086  telephone   25   oct       119         1     89         2    other   no  \n",
       "24122  telephone    4   nov        21         1    140         4    other   no  \n",
       "24136   cellular    6   nov        26         1    101        11    other   no  \n",
       "...          ...  ...   ...       ...       ...    ...       ...      ...  ...  \n",
       "45153   cellular    9   nov       326         1     95         1    other   no  \n",
       "45165   cellular    9   nov       465         2     95        12    other   no  \n",
       "45170  telephone   10   nov        98         2    110         2    other   no  \n",
       "45199   cellular   16   nov      1166         3    530        12    other   no  \n",
       "45210   cellular   17   nov       361         2    188        11    other   no  \n",
       "\n",
       "[1840 rows x 17 columns]"
      ]
     },
     "execution_count": 57,
     "metadata": {},
     "output_type": "execute_result"
    }
   ],
   "source": [
    "df[df['poutcome'] == ('other')]"
   ]
  },
  {
   "cell_type": "markdown",
   "id": "9af045a6",
   "metadata": {},
   "source": [
    "- In this column there are too many invalid entries so it does not going to add any value in the dataset, so we can drop this column"
   ]
  },
  {
   "cell_type": "code",
   "execution_count": 58,
   "id": "f649909c",
   "metadata": {
    "ExecuteTime": {
     "end_time": "2023-02-28T09:30:42.158420Z",
     "start_time": "2023-02-28T09:30:42.138705Z"
    }
   },
   "outputs": [],
   "source": [
    "# Drop poutcome column"
   ]
  },
  {
   "cell_type": "code",
   "execution_count": 59,
   "id": "849442dc",
   "metadata": {
    "ExecuteTime": {
     "end_time": "2023-02-28T09:31:03.197873Z",
     "start_time": "2023-02-28T09:31:03.171136Z"
    }
   },
   "outputs": [],
   "source": [
    "df.drop('poutcome', axis = 1, inplace = True)"
   ]
  },
  {
   "cell_type": "markdown",
   "id": "50d4e076",
   "metadata": {},
   "source": [
    "17) y column"
   ]
  },
  {
   "cell_type": "code",
   "execution_count": 60,
   "id": "3cb86b3c",
   "metadata": {
    "ExecuteTime": {
     "end_time": "2023-02-28T09:31:38.398560Z",
     "start_time": "2023-02-28T09:31:38.376162Z"
    }
   },
   "outputs": [
    {
     "data": {
      "text/plain": [
       "array(['no', 'yes'], dtype=object)"
      ]
     },
     "execution_count": 60,
     "metadata": {},
     "output_type": "execute_result"
    }
   ],
   "source": [
    "df['y'].unique()"
   ]
  },
  {
   "cell_type": "markdown",
   "id": "05ed1859",
   "metadata": {},
   "source": [
    "- **no special characters & invalid entries found**"
   ]
  },
  {
   "cell_type": "markdown",
   "id": "f0c52d91",
   "metadata": {},
   "source": [
    "# Visualization"
   ]
  },
  {
   "cell_type": "code",
   "execution_count": 61,
   "id": "55d7176c",
   "metadata": {
    "ExecuteTime": {
     "end_time": "2023-02-28T09:32:46.244452Z",
     "start_time": "2023-02-28T09:32:46.226312Z"
    }
   },
   "outputs": [],
   "source": [
    "# Age column"
   ]
  },
  {
   "cell_type": "code",
   "execution_count": 62,
   "id": "61280c36",
   "metadata": {
    "ExecuteTime": {
     "end_time": "2023-02-28T09:38:50.351254Z",
     "start_time": "2023-02-28T09:38:50.338678Z"
    }
   },
   "outputs": [],
   "source": [
    "plt.rcParams['figure.dpi'] = 200"
   ]
  },
  {
   "cell_type": "code",
   "execution_count": 63,
   "id": "d194b52e",
   "metadata": {
    "ExecuteTime": {
     "end_time": "2023-02-28T09:39:31.950100Z",
     "start_time": "2023-02-28T09:39:30.529917Z"
    }
   },
   "outputs": [
    {
     "data": {
      "text/plain": [
       "{'whiskers': [<matplotlib.lines.Line2D at 0x2d835e452e0>,\n",
       "  <matplotlib.lines.Line2D at 0x2d835e45e20>],\n",
       " 'caps': [<matplotlib.lines.Line2D at 0x2d835e45b20>,\n",
       "  <matplotlib.lines.Line2D at 0x2d835e45190>],\n",
       " 'boxes': [<matplotlib.lines.Line2D at 0x2d835e451f0>],\n",
       " 'medians': [<matplotlib.lines.Line2D at 0x2d834096a30>],\n",
       " 'fliers': [<matplotlib.lines.Line2D at 0x2d834096760>],\n",
       " 'means': []}"
      ]
     },
     "execution_count": 63,
     "metadata": {},
     "output_type": "execute_result"
    },
    {
     "data": {
      "image/png": "[encoded data removed]",
      "text/plain": [
       "<Figure size 2400x1000 with 2 Axes>"
      ]
     },
     "metadata": {},
     "output_type": "display_data"
    }
   ],
   "source": [
    "plt.figure(figsize = (12,5))\n",
    "plt.subplot(1,2,1)\n",
    "sns.distplot(df['age'])\n",
    "plt.subplot(1,2,2)\n",
    "plt.boxplot(df['age'])"
   ]
  },
  {
   "cell_type": "code",
   "execution_count": 64,
   "id": "f8c8ce25",
   "metadata": {
    "ExecuteTime": {
     "end_time": "2023-02-28T09:39:52.128969Z",
     "start_time": "2023-02-28T09:39:52.107253Z"
    }
   },
   "outputs": [],
   "source": [
    "# Job column"
   ]
  },
  {
   "cell_type": "code",
   "execution_count": 65,
   "id": "45aaa0d6",
   "metadata": {
    "ExecuteTime": {
     "end_time": "2023-02-28T09:42:22.252842Z",
     "start_time": "2023-02-28T09:42:21.551379Z"
    }
   },
   "outputs": [
    {
     "data": {
      "image/png": "[encoded data removed]",
      "text/plain": [
       "<Figure size 2400x1000 with 1 Axes>"
      ]
     },
     "metadata": {},
     "output_type": "display_data"
    }
   ],
   "source": [
    "plt.figure(figsize = (12,5))\n",
    "ax = sns.barplot(df['job'].unique(), df['job'].value_counts(), data = df)\n",
    "ax.bar_label(ax.containers[0])\n",
    "plt.tight_layout()"
   ]
  },
  {
   "cell_type": "code",
   "execution_count": 66,
   "id": "1792585a",
   "metadata": {
    "ExecuteTime": {
     "end_time": "2023-02-28T09:42:41.380719Z",
     "start_time": "2023-02-28T09:42:41.360906Z"
    }
   },
   "outputs": [],
   "source": [
    "# Martial column"
   ]
  },
  {
   "cell_type": "code",
   "execution_count": 74,
   "id": "a9ca96b4",
   "metadata": {
    "ExecuteTime": {
     "end_time": "2023-02-28T09:52:50.216843Z",
     "start_time": "2023-02-28T09:52:49.607316Z"
    }
   },
   "outputs": [
    {
     "data": {
      "image/png": "[encoded data removed]",
      "text/plain": [
       "<Figure size 1800x800 with 2 Axes>"
      ]
     },
     "metadata": {},
     "output_type": "display_data"
    }
   ],
   "source": [
    "plt.figure(figsize = (9,4))\n",
    "plt.subplot(1,2,1)\n",
    "ax = sns.barplot(x = df['marital'].unique(), y = df['marital'].value_counts())\n",
    "ax.bar_label(ax.containers[0])\n",
    "\n",
    "plt.subplot(1,2,2)\n",
    "plt.pie(df['marital'].value_counts(), labels = df['marital'].unique(), autopct = '%1.1f%%')\n",
    "plt.tight_layout(w_pad = 10)"
   ]
  },
  {
   "cell_type": "code",
   "execution_count": 73,
   "id": "334f87a8",
   "metadata": {
    "ExecuteTime": {
     "end_time": "2023-02-28T09:52:29.924261Z",
     "start_time": "2023-02-28T09:52:29.916265Z"
    }
   },
   "outputs": [],
   "source": [
    "# Educational column"
   ]
  },
  {
   "cell_type": "code",
   "execution_count": 75,
   "id": "46061e86",
   "metadata": {
    "ExecuteTime": {
     "end_time": "2023-02-28T09:54:07.877660Z",
     "start_time": "2023-02-28T09:54:07.293661Z"
    }
   },
   "outputs": [
    {
     "data": {
      "image/png": "[encoded data removed]",
      "text/plain": [
       "<Figure size 1800x800 with 2 Axes>"
      ]
     },
     "metadata": {},
     "output_type": "display_data"
    }
   ],
   "source": [
    "plt.figure(figsize = (9,4))\n",
    "plt.subplot(1,2,1)\n",
    "ax = sns.barplot(x = df['education'].unique(), y = df['education'].value_counts())\n",
    "ax.bar_label(ax.containers[0])\n",
    "\n",
    "plt.subplot(1,2,2)\n",
    "plt.pie(df['education'].value_counts(), labels = df['education'].unique(), autopct = '%1.1f%%')\n",
    "plt.tight_layout(w_pad = 10)"
   ]
  },
  {
   "cell_type": "code",
   "execution_count": 76,
   "id": "0b2b36e1",
   "metadata": {
    "ExecuteTime": {
     "end_time": "2023-02-28T09:54:27.011515Z",
     "start_time": "2023-02-28T09:54:27.003517Z"
    }
   },
   "outputs": [],
   "source": [
    "# Balance column"
   ]
  },
  {
   "cell_type": "code",
   "execution_count": 77,
   "id": "281e2e54",
   "metadata": {
    "ExecuteTime": {
     "end_time": "2023-02-28T09:55:01.589162Z",
     "start_time": "2023-02-28T09:55:00.044723Z"
    }
   },
   "outputs": [
    {
     "data": {
      "text/plain": [
       "{'whiskers': [<matplotlib.lines.Line2D at 0x2d838b7ab20>,\n",
       "  <matplotlib.lines.Line2D at 0x2d83911d550>],\n",
       " 'caps': [<matplotlib.lines.Line2D at 0x2d838c8c640>,\n",
       "  <matplotlib.lines.Line2D at 0x2d838c8c910>],\n",
       " 'boxes': [<matplotlib.lines.Line2D at 0x2d838b7ad60>],\n",
       " 'medians': [<matplotlib.lines.Line2D at 0x2d838c8cbe0>],\n",
       " 'fliers': [<matplotlib.lines.Line2D at 0x2d838c8ceb0>],\n",
       " 'means': []}"
      ]
     },
     "execution_count": 77,
     "metadata": {},
     "output_type": "execute_result"
    },
    {
     "data": {
      "image/png": "[encoded data removed]",
      "text/plain": [
       "<Figure size 2400x1000 with 2 Axes>"
      ]
     },
     "metadata": {},
     "output_type": "display_data"
    }
   ],
   "source": [
    "plt.figure(figsize = (12,5))\n",
    "plt.subplot(1,2,1)\n",
    "sns.distplot(df['balance'])\n",
    "plt.subplot(1,2,2)\n",
    "plt.boxplot(df['balance'])"
   ]
  },
  {
   "cell_type": "code",
   "execution_count": 78,
   "id": "d4013703",
   "metadata": {
    "ExecuteTime": {
     "end_time": "2023-02-28T09:55:26.501375Z",
     "start_time": "2023-02-28T09:55:26.485306Z"
    }
   },
   "outputs": [],
   "source": [
    "# Duration column"
   ]
  },
  {
   "cell_type": "code",
   "execution_count": 79,
   "id": "dffb1079",
   "metadata": {
    "ExecuteTime": {
     "end_time": "2023-02-28T09:55:56.399530Z",
     "start_time": "2023-02-28T09:55:54.880352Z"
    }
   },
   "outputs": [
    {
     "data": {
      "text/plain": [
       "{'whiskers': [<matplotlib.lines.Line2D at 0x2d8391c7ee0>,\n",
       "  <matplotlib.lines.Line2D at 0x2d8391c73d0>],\n",
       " 'caps': [<matplotlib.lines.Line2D at 0x2d8391cb0a0>,\n",
       "  <matplotlib.lines.Line2D at 0x2d8391cb3d0>],\n",
       " 'boxes': [<matplotlib.lines.Line2D at 0x2d8391c72e0>],\n",
       " 'medians': [<matplotlib.lines.Line2D at 0x2d8391cb520>],\n",
       " 'fliers': [<matplotlib.lines.Line2D at 0x2d8391cb7f0>],\n",
       " 'means': []}"
      ]
     },
     "execution_count": 79,
     "metadata": {},
     "output_type": "execute_result"
    },
    {
     "data": {
      "image/png": "[encoded data removed]",
      "text/plain": [
       "<Figure size 2400x1000 with 2 Axes>"
      ]
     },
     "metadata": {},
     "output_type": "display_data"
    }
   ],
   "source": [
    "plt.figure(figsize = (12,5))\n",
    "plt.subplot(1,2,1)\n",
    "sns.distplot(df['duration'])\n",
    "plt.subplot(1,2,2)\n",
    "plt.boxplot(df['duration'])"
   ]
  },
  {
   "cell_type": "code",
   "execution_count": 80,
   "id": "c79cccc6",
   "metadata": {
    "ExecuteTime": {
     "end_time": "2023-02-28T09:56:22.816161Z",
     "start_time": "2023-02-28T09:56:22.805798Z"
    }
   },
   "outputs": [],
   "source": [
    "# Number of calls make in each month"
   ]
  },
  {
   "cell_type": "code",
   "execution_count": 81,
   "id": "462a1e47",
   "metadata": {
    "ExecuteTime": {
     "end_time": "2023-02-28T09:58:45.691459Z",
     "start_time": "2023-02-28T09:58:44.957539Z"
    }
   },
   "outputs": [
    {
     "data": {
      "image/png": "[encoded data removed]",
      "text/plain": [
       "<Figure size 2400x1000 with 1 Axes>"
      ]
     },
     "metadata": {},
     "output_type": "display_data"
    }
   ],
   "source": [
    "plt.figure(figsize = (12,5))\n",
    "ax = sns.barplot(x = df['month'].unique(), y = df['month'].value_counts(), data = df)\n",
    "ax.bar_label(ax.containers[0])\n",
    "plt.tight_layout()"
   ]
  },
  {
   "cell_type": "code",
   "execution_count": 82,
   "id": "9450e0d7",
   "metadata": {
    "ExecuteTime": {
     "end_time": "2023-02-28T09:59:11.915232Z",
     "start_time": "2023-02-28T09:59:11.906758Z"
    }
   },
   "outputs": [],
   "source": [
    "# Data obtain after EDA"
   ]
  },
  {
   "cell_type": "code",
   "execution_count": 83,
   "id": "ed05134a",
   "metadata": {
    "ExecuteTime": {
     "end_time": "2023-02-28T09:59:14.640929Z",
     "start_time": "2023-02-28T09:59:14.598736Z"
    }
   },
   "outputs": [
    {
     "data": {
      "text/html": [
       "<div>\n",
       "<style scoped>\n",
       "    .dataframe tbody tr th:only-of-type {\n",
       "        vertical-align: middle;\n",
       "    }\n",
       "\n",
       "    .dataframe tbody tr th {\n",
       "        vertical-align: top;\n",
       "    }\n",
       "\n",
       "    .dataframe thead th {\n",
       "        text-align: right;\n",
       "    }\n",
       "</style>\n",
       "<table border=\"1\" class=\"dataframe\">\n",
       "  <thead>\n",
       "    <tr style=\"text-align: right;\">\n",
       "      <th></th>\n",
       "      <th>age</th>\n",
       "      <th>job</th>\n",
       "      <th>marital</th>\n",
       "      <th>education</th>\n",
       "      <th>default</th>\n",
       "      <th>balance</th>\n",
       "      <th>housing</th>\n",
       "      <th>loan</th>\n",
       "      <th>contact</th>\n",
       "      <th>day</th>\n",
       "      <th>month</th>\n",
       "      <th>duration</th>\n",
       "      <th>campaign</th>\n",
       "      <th>pdays</th>\n",
       "      <th>previous</th>\n",
       "      <th>y</th>\n",
       "    </tr>\n",
       "  </thead>\n",
       "  <tbody>\n",
       "    <tr>\n",
       "      <th>0</th>\n",
       "      <td>58</td>\n",
       "      <td>management</td>\n",
       "      <td>married</td>\n",
       "      <td>tertiary</td>\n",
       "      <td>no</td>\n",
       "      <td>2143</td>\n",
       "      <td>yes</td>\n",
       "      <td>no</td>\n",
       "      <td>cellular</td>\n",
       "      <td>5</td>\n",
       "      <td>may</td>\n",
       "      <td>261</td>\n",
       "      <td>1</td>\n",
       "      <td>-1</td>\n",
       "      <td>0</td>\n",
       "      <td>no</td>\n",
       "    </tr>\n",
       "    <tr>\n",
       "      <th>1</th>\n",
       "      <td>44</td>\n",
       "      <td>technician</td>\n",
       "      <td>single</td>\n",
       "      <td>secondary</td>\n",
       "      <td>no</td>\n",
       "      <td>29</td>\n",
       "      <td>yes</td>\n",
       "      <td>no</td>\n",
       "      <td>cellular</td>\n",
       "      <td>5</td>\n",
       "      <td>may</td>\n",
       "      <td>151</td>\n",
       "      <td>1</td>\n",
       "      <td>-1</td>\n",
       "      <td>0</td>\n",
       "      <td>no</td>\n",
       "    </tr>\n",
       "    <tr>\n",
       "      <th>2</th>\n",
       "      <td>33</td>\n",
       "      <td>entrepreneur</td>\n",
       "      <td>married</td>\n",
       "      <td>secondary</td>\n",
       "      <td>no</td>\n",
       "      <td>2</td>\n",
       "      <td>yes</td>\n",
       "      <td>yes</td>\n",
       "      <td>cellular</td>\n",
       "      <td>5</td>\n",
       "      <td>may</td>\n",
       "      <td>76</td>\n",
       "      <td>1</td>\n",
       "      <td>-1</td>\n",
       "      <td>0</td>\n",
       "      <td>no</td>\n",
       "    </tr>\n",
       "    <tr>\n",
       "      <th>3</th>\n",
       "      <td>47</td>\n",
       "      <td>blue-collar</td>\n",
       "      <td>married</td>\n",
       "      <td>secondary</td>\n",
       "      <td>no</td>\n",
       "      <td>1506</td>\n",
       "      <td>yes</td>\n",
       "      <td>no</td>\n",
       "      <td>cellular</td>\n",
       "      <td>5</td>\n",
       "      <td>may</td>\n",
       "      <td>92</td>\n",
       "      <td>1</td>\n",
       "      <td>-1</td>\n",
       "      <td>0</td>\n",
       "      <td>no</td>\n",
       "    </tr>\n",
       "    <tr>\n",
       "      <th>4</th>\n",
       "      <td>33</td>\n",
       "      <td>blue-collar</td>\n",
       "      <td>single</td>\n",
       "      <td>secondary</td>\n",
       "      <td>no</td>\n",
       "      <td>1</td>\n",
       "      <td>no</td>\n",
       "      <td>no</td>\n",
       "      <td>cellular</td>\n",
       "      <td>5</td>\n",
       "      <td>may</td>\n",
       "      <td>198</td>\n",
       "      <td>1</td>\n",
       "      <td>-1</td>\n",
       "      <td>0</td>\n",
       "      <td>no</td>\n",
       "    </tr>\n",
       "    <tr>\n",
       "      <th>...</th>\n",
       "      <td>...</td>\n",
       "      <td>...</td>\n",
       "      <td>...</td>\n",
       "      <td>...</td>\n",
       "      <td>...</td>\n",
       "      <td>...</td>\n",
       "      <td>...</td>\n",
       "      <td>...</td>\n",
       "      <td>...</td>\n",
       "      <td>...</td>\n",
       "      <td>...</td>\n",
       "      <td>...</td>\n",
       "      <td>...</td>\n",
       "      <td>...</td>\n",
       "      <td>...</td>\n",
       "      <td>...</td>\n",
       "    </tr>\n",
       "    <tr>\n",
       "      <th>45206</th>\n",
       "      <td>51</td>\n",
       "      <td>technician</td>\n",
       "      <td>married</td>\n",
       "      <td>tertiary</td>\n",
       "      <td>no</td>\n",
       "      <td>825</td>\n",
       "      <td>no</td>\n",
       "      <td>no</td>\n",
       "      <td>cellular</td>\n",
       "      <td>17</td>\n",
       "      <td>nov</td>\n",
       "      <td>977</td>\n",
       "      <td>3</td>\n",
       "      <td>-1</td>\n",
       "      <td>0</td>\n",
       "      <td>yes</td>\n",
       "    </tr>\n",
       "    <tr>\n",
       "      <th>45207</th>\n",
       "      <td>71</td>\n",
       "      <td>retired</td>\n",
       "      <td>divorced</td>\n",
       "      <td>primary</td>\n",
       "      <td>no</td>\n",
       "      <td>1729</td>\n",
       "      <td>no</td>\n",
       "      <td>no</td>\n",
       "      <td>cellular</td>\n",
       "      <td>17</td>\n",
       "      <td>nov</td>\n",
       "      <td>456</td>\n",
       "      <td>2</td>\n",
       "      <td>-1</td>\n",
       "      <td>0</td>\n",
       "      <td>yes</td>\n",
       "    </tr>\n",
       "    <tr>\n",
       "      <th>45208</th>\n",
       "      <td>72</td>\n",
       "      <td>retired</td>\n",
       "      <td>married</td>\n",
       "      <td>secondary</td>\n",
       "      <td>no</td>\n",
       "      <td>5715</td>\n",
       "      <td>no</td>\n",
       "      <td>no</td>\n",
       "      <td>cellular</td>\n",
       "      <td>17</td>\n",
       "      <td>nov</td>\n",
       "      <td>1127</td>\n",
       "      <td>5</td>\n",
       "      <td>184</td>\n",
       "      <td>3</td>\n",
       "      <td>yes</td>\n",
       "    </tr>\n",
       "    <tr>\n",
       "      <th>45209</th>\n",
       "      <td>57</td>\n",
       "      <td>blue-collar</td>\n",
       "      <td>married</td>\n",
       "      <td>secondary</td>\n",
       "      <td>no</td>\n",
       "      <td>668</td>\n",
       "      <td>no</td>\n",
       "      <td>no</td>\n",
       "      <td>telephone</td>\n",
       "      <td>17</td>\n",
       "      <td>nov</td>\n",
       "      <td>508</td>\n",
       "      <td>4</td>\n",
       "      <td>-1</td>\n",
       "      <td>0</td>\n",
       "      <td>no</td>\n",
       "    </tr>\n",
       "    <tr>\n",
       "      <th>45210</th>\n",
       "      <td>37</td>\n",
       "      <td>entrepreneur</td>\n",
       "      <td>married</td>\n",
       "      <td>secondary</td>\n",
       "      <td>no</td>\n",
       "      <td>2971</td>\n",
       "      <td>no</td>\n",
       "      <td>no</td>\n",
       "      <td>cellular</td>\n",
       "      <td>17</td>\n",
       "      <td>nov</td>\n",
       "      <td>361</td>\n",
       "      <td>2</td>\n",
       "      <td>188</td>\n",
       "      <td>11</td>\n",
       "      <td>no</td>\n",
       "    </tr>\n",
       "  </tbody>\n",
       "</table>\n",
       "<p>45211 rows × 16 columns</p>\n",
       "</div>"
      ],
      "text/plain": [
       "       age           job   marital  education default  balance housing loan  \\\n",
       "0       58    management   married   tertiary      no     2143     yes   no   \n",
       "1       44    technician    single  secondary      no       29     yes   no   \n",
       "2       33  entrepreneur   married  secondary      no        2     yes  yes   \n",
       "3       47   blue-collar   married  secondary      no     1506     yes   no   \n",
       "4       33   blue-collar    single  secondary      no        1      no   no   \n",
       "...    ...           ...       ...        ...     ...      ...     ...  ...   \n",
       "45206   51    technician   married   tertiary      no      825      no   no   \n",
       "45207   71       retired  divorced    primary      no     1729      no   no   \n",
       "45208   72       retired   married  secondary      no     5715      no   no   \n",
       "45209   57   blue-collar   married  secondary      no      668      no   no   \n",
       "45210   37  entrepreneur   married  secondary      no     2971      no   no   \n",
       "\n",
       "         contact  day month  duration  campaign  pdays  previous    y  \n",
       "0       cellular    5   may       261         1     -1         0   no  \n",
       "1       cellular    5   may       151         1     -1         0   no  \n",
       "2       cellular    5   may        76         1     -1         0   no  \n",
       "3       cellular    5   may        92         1     -1         0   no  \n",
       "4       cellular    5   may       198         1     -1         0   no  \n",
       "...          ...  ...   ...       ...       ...    ...       ...  ...  \n",
       "45206   cellular   17   nov       977         3     -1         0  yes  \n",
       "45207   cellular   17   nov       456         2     -1         0  yes  \n",
       "45208   cellular   17   nov      1127         5    184         3  yes  \n",
       "45209  telephone   17   nov       508         4     -1         0   no  \n",
       "45210   cellular   17   nov       361         2    188        11   no  \n",
       "\n",
       "[45211 rows x 16 columns]"
      ]
     },
     "execution_count": 83,
     "metadata": {},
     "output_type": "execute_result"
    }
   ],
   "source": [
    "df"
   ]
  },
  {
   "cell_type": "code",
   "execution_count": 84,
   "id": "b2f4e1cb",
   "metadata": {
    "ExecuteTime": {
     "end_time": "2023-02-28T09:59:33.006460Z",
     "start_time": "2023-02-28T09:59:32.928075Z"
    }
   },
   "outputs": [
    {
     "data": {
      "text/html": [
       "<div>\n",
       "<style scoped>\n",
       "    .dataframe tbody tr th:only-of-type {\n",
       "        vertical-align: middle;\n",
       "    }\n",
       "\n",
       "    .dataframe tbody tr th {\n",
       "        vertical-align: top;\n",
       "    }\n",
       "\n",
       "    .dataframe thead th {\n",
       "        text-align: right;\n",
       "    }\n",
       "</style>\n",
       "<table border=\"1\" class=\"dataframe\">\n",
       "  <thead>\n",
       "    <tr style=\"text-align: right;\">\n",
       "      <th></th>\n",
       "      <th>age</th>\n",
       "      <th>balance</th>\n",
       "      <th>day</th>\n",
       "      <th>duration</th>\n",
       "      <th>campaign</th>\n",
       "      <th>pdays</th>\n",
       "      <th>previous</th>\n",
       "    </tr>\n",
       "  </thead>\n",
       "  <tbody>\n",
       "    <tr>\n",
       "      <th>count</th>\n",
       "      <td>45211.000000</td>\n",
       "      <td>45211.000000</td>\n",
       "      <td>45211.000000</td>\n",
       "      <td>45211.000000</td>\n",
       "      <td>45211.000000</td>\n",
       "      <td>45211.000000</td>\n",
       "      <td>45211.000000</td>\n",
       "    </tr>\n",
       "    <tr>\n",
       "      <th>mean</th>\n",
       "      <td>40.936210</td>\n",
       "      <td>1362.272058</td>\n",
       "      <td>15.806419</td>\n",
       "      <td>258.163080</td>\n",
       "      <td>2.763841</td>\n",
       "      <td>40.197828</td>\n",
       "      <td>0.580323</td>\n",
       "    </tr>\n",
       "    <tr>\n",
       "      <th>std</th>\n",
       "      <td>10.618762</td>\n",
       "      <td>3044.765829</td>\n",
       "      <td>8.322476</td>\n",
       "      <td>257.527812</td>\n",
       "      <td>3.098021</td>\n",
       "      <td>100.128746</td>\n",
       "      <td>2.303441</td>\n",
       "    </tr>\n",
       "    <tr>\n",
       "      <th>min</th>\n",
       "      <td>18.000000</td>\n",
       "      <td>-8019.000000</td>\n",
       "      <td>1.000000</td>\n",
       "      <td>0.000000</td>\n",
       "      <td>1.000000</td>\n",
       "      <td>-1.000000</td>\n",
       "      <td>0.000000</td>\n",
       "    </tr>\n",
       "    <tr>\n",
       "      <th>25%</th>\n",
       "      <td>33.000000</td>\n",
       "      <td>72.000000</td>\n",
       "      <td>8.000000</td>\n",
       "      <td>103.000000</td>\n",
       "      <td>1.000000</td>\n",
       "      <td>-1.000000</td>\n",
       "      <td>0.000000</td>\n",
       "    </tr>\n",
       "    <tr>\n",
       "      <th>50%</th>\n",
       "      <td>39.000000</td>\n",
       "      <td>448.000000</td>\n",
       "      <td>16.000000</td>\n",
       "      <td>180.000000</td>\n",
       "      <td>2.000000</td>\n",
       "      <td>-1.000000</td>\n",
       "      <td>0.000000</td>\n",
       "    </tr>\n",
       "    <tr>\n",
       "      <th>75%</th>\n",
       "      <td>48.000000</td>\n",
       "      <td>1428.000000</td>\n",
       "      <td>21.000000</td>\n",
       "      <td>319.000000</td>\n",
       "      <td>3.000000</td>\n",
       "      <td>-1.000000</td>\n",
       "      <td>0.000000</td>\n",
       "    </tr>\n",
       "    <tr>\n",
       "      <th>max</th>\n",
       "      <td>95.000000</td>\n",
       "      <td>102127.000000</td>\n",
       "      <td>31.000000</td>\n",
       "      <td>4918.000000</td>\n",
       "      <td>63.000000</td>\n",
       "      <td>871.000000</td>\n",
       "      <td>275.000000</td>\n",
       "    </tr>\n",
       "  </tbody>\n",
       "</table>\n",
       "</div>"
      ],
      "text/plain": [
       "                age        balance           day      duration      campaign  \\\n",
       "count  45211.000000   45211.000000  45211.000000  45211.000000  45211.000000   \n",
       "mean      40.936210    1362.272058     15.806419    258.163080      2.763841   \n",
       "std       10.618762    3044.765829      8.322476    257.527812      3.098021   \n",
       "min       18.000000   -8019.000000      1.000000      0.000000      1.000000   \n",
       "25%       33.000000      72.000000      8.000000    103.000000      1.000000   \n",
       "50%       39.000000     448.000000     16.000000    180.000000      2.000000   \n",
       "75%       48.000000    1428.000000     21.000000    319.000000      3.000000   \n",
       "max       95.000000  102127.000000     31.000000   4918.000000     63.000000   \n",
       "\n",
       "              pdays      previous  \n",
       "count  45211.000000  45211.000000  \n",
       "mean      40.197828      0.580323  \n",
       "std      100.128746      2.303441  \n",
       "min       -1.000000      0.000000  \n",
       "25%       -1.000000      0.000000  \n",
       "50%       -1.000000      0.000000  \n",
       "75%       -1.000000      0.000000  \n",
       "max      871.000000    275.000000  "
      ]
     },
     "execution_count": 84,
     "metadata": {},
     "output_type": "execute_result"
    }
   ],
   "source": [
    "df.describe()"
   ]
  },
  {
   "cell_type": "code",
   "execution_count": 85,
   "id": "250b85b7",
   "metadata": {
    "ExecuteTime": {
     "end_time": "2023-02-28T09:59:49.755997Z",
     "start_time": "2023-02-28T09:59:49.653715Z"
    }
   },
   "outputs": [
    {
     "data": {
      "text/html": [
       "<div>\n",
       "<style scoped>\n",
       "    .dataframe tbody tr th:only-of-type {\n",
       "        vertical-align: middle;\n",
       "    }\n",
       "\n",
       "    .dataframe tbody tr th {\n",
       "        vertical-align: top;\n",
       "    }\n",
       "\n",
       "    .dataframe thead th {\n",
       "        text-align: right;\n",
       "    }\n",
       "</style>\n",
       "<table border=\"1\" class=\"dataframe\">\n",
       "  <thead>\n",
       "    <tr style=\"text-align: right;\">\n",
       "      <th></th>\n",
       "      <th>job</th>\n",
       "      <th>marital</th>\n",
       "      <th>education</th>\n",
       "      <th>default</th>\n",
       "      <th>housing</th>\n",
       "      <th>loan</th>\n",
       "      <th>contact</th>\n",
       "      <th>month</th>\n",
       "      <th>y</th>\n",
       "    </tr>\n",
       "  </thead>\n",
       "  <tbody>\n",
       "    <tr>\n",
       "      <th>count</th>\n",
       "      <td>45211</td>\n",
       "      <td>45211</td>\n",
       "      <td>45211</td>\n",
       "      <td>45211</td>\n",
       "      <td>45211</td>\n",
       "      <td>45211</td>\n",
       "      <td>45211</td>\n",
       "      <td>45211</td>\n",
       "      <td>45211</td>\n",
       "    </tr>\n",
       "    <tr>\n",
       "      <th>unique</th>\n",
       "      <td>11</td>\n",
       "      <td>3</td>\n",
       "      <td>3</td>\n",
       "      <td>2</td>\n",
       "      <td>2</td>\n",
       "      <td>2</td>\n",
       "      <td>2</td>\n",
       "      <td>12</td>\n",
       "      <td>2</td>\n",
       "    </tr>\n",
       "    <tr>\n",
       "      <th>top</th>\n",
       "      <td>blue-collar</td>\n",
       "      <td>married</td>\n",
       "      <td>secondary</td>\n",
       "      <td>no</td>\n",
       "      <td>yes</td>\n",
       "      <td>no</td>\n",
       "      <td>cellular</td>\n",
       "      <td>may</td>\n",
       "      <td>no</td>\n",
       "    </tr>\n",
       "    <tr>\n",
       "      <th>freq</th>\n",
       "      <td>10020</td>\n",
       "      <td>27214</td>\n",
       "      <td>25059</td>\n",
       "      <td>44396</td>\n",
       "      <td>25130</td>\n",
       "      <td>37967</td>\n",
       "      <td>42305</td>\n",
       "      <td>13766</td>\n",
       "      <td>39922</td>\n",
       "    </tr>\n",
       "  </tbody>\n",
       "</table>\n",
       "</div>"
      ],
      "text/plain": [
       "                job  marital  education default housing   loan   contact  \\\n",
       "count         45211    45211      45211   45211   45211  45211     45211   \n",
       "unique           11        3          3       2       2      2         2   \n",
       "top     blue-collar  married  secondary      no     yes     no  cellular   \n",
       "freq          10020    27214      25059   44396   25130  37967     42305   \n",
       "\n",
       "        month      y  \n",
       "count   45211  45211  \n",
       "unique     12      2  \n",
       "top       may     no  \n",
       "freq    13766  39922  "
      ]
     },
     "execution_count": 85,
     "metadata": {},
     "output_type": "execute_result"
    }
   ],
   "source": [
    "df.describe(include = 'O')"
   ]
  },
  {
   "cell_type": "code",
   "execution_count": 86,
   "id": "abaedfd0",
   "metadata": {
    "ExecuteTime": {
     "end_time": "2023-02-28T10:00:21.237474Z",
     "start_time": "2023-02-28T10:00:21.221791Z"
    }
   },
   "outputs": [],
   "source": [
    "# Creating new variable for model building with dummy variables"
   ]
  },
  {
   "cell_type": "code",
   "execution_count": 87,
   "id": "7b852793",
   "metadata": {
    "ExecuteTime": {
     "end_time": "2023-02-28T10:01:07.811035Z",
     "start_time": "2023-02-28T10:01:07.743526Z"
    }
   },
   "outputs": [],
   "source": [
    "df_new = pd.get_dummies(df, columns = ['job','marital','education','contact'])"
   ]
  },
  {
   "cell_type": "code",
   "execution_count": 89,
   "id": "fc4b9d46",
   "metadata": {
    "ExecuteTime": {
     "end_time": "2023-02-28T10:02:36.980452Z",
     "start_time": "2023-02-28T10:02:36.959299Z"
    }
   },
   "outputs": [],
   "source": [
    "pd.set_option('display.max.columns', None)"
   ]
  },
  {
   "cell_type": "code",
   "execution_count": 90,
   "id": "50c06d57",
   "metadata": {
    "ExecuteTime": {
     "end_time": "2023-02-28T10:02:54.435333Z",
     "start_time": "2023-02-28T10:02:54.399731Z"
    }
   },
   "outputs": [
    {
     "data": {
      "text/html": [
       "<div>\n",
       "<style scoped>\n",
       "    .dataframe tbody tr th:only-of-type {\n",
       "        vertical-align: middle;\n",
       "    }\n",
       "\n",
       "    .dataframe tbody tr th {\n",
       "        vertical-align: top;\n",
       "    }\n",
       "\n",
       "    .dataframe thead th {\n",
       "        text-align: right;\n",
       "    }\n",
       "</style>\n",
       "<table border=\"1\" class=\"dataframe\">\n",
       "  <thead>\n",
       "    <tr style=\"text-align: right;\">\n",
       "      <th></th>\n",
       "      <th>age</th>\n",
       "      <th>default</th>\n",
       "      <th>balance</th>\n",
       "      <th>housing</th>\n",
       "      <th>loan</th>\n",
       "      <th>day</th>\n",
       "      <th>month</th>\n",
       "      <th>duration</th>\n",
       "      <th>campaign</th>\n",
       "      <th>pdays</th>\n",
       "      <th>previous</th>\n",
       "      <th>y</th>\n",
       "      <th>job_admin.</th>\n",
       "      <th>job_blue-collar</th>\n",
       "      <th>job_entrepreneur</th>\n",
       "      <th>job_housemaid</th>\n",
       "      <th>job_management</th>\n",
       "      <th>job_retired</th>\n",
       "      <th>job_self-employed</th>\n",
       "      <th>job_services</th>\n",
       "      <th>job_student</th>\n",
       "      <th>job_technician</th>\n",
       "      <th>job_unemployed</th>\n",
       "      <th>marital_divorced</th>\n",
       "      <th>marital_married</th>\n",
       "      <th>marital_single</th>\n",
       "      <th>education_primary</th>\n",
       "      <th>education_secondary</th>\n",
       "      <th>education_tertiary</th>\n",
       "      <th>contact_cellular</th>\n",
       "      <th>contact_telephone</th>\n",
       "    </tr>\n",
       "  </thead>\n",
       "  <tbody>\n",
       "    <tr>\n",
       "      <th>0</th>\n",
       "      <td>58</td>\n",
       "      <td>no</td>\n",
       "      <td>2143</td>\n",
       "      <td>yes</td>\n",
       "      <td>no</td>\n",
       "      <td>5</td>\n",
       "      <td>may</td>\n",
       "      <td>261</td>\n",
       "      <td>1</td>\n",
       "      <td>-1</td>\n",
       "      <td>0</td>\n",
       "      <td>no</td>\n",
       "      <td>0</td>\n",
       "      <td>0</td>\n",
       "      <td>0</td>\n",
       "      <td>0</td>\n",
       "      <td>1</td>\n",
       "      <td>0</td>\n",
       "      <td>0</td>\n",
       "      <td>0</td>\n",
       "      <td>0</td>\n",
       "      <td>0</td>\n",
       "      <td>0</td>\n",
       "      <td>0</td>\n",
       "      <td>1</td>\n",
       "      <td>0</td>\n",
       "      <td>0</td>\n",
       "      <td>0</td>\n",
       "      <td>1</td>\n",
       "      <td>1</td>\n",
       "      <td>0</td>\n",
       "    </tr>\n",
       "    <tr>\n",
       "      <th>1</th>\n",
       "      <td>44</td>\n",
       "      <td>no</td>\n",
       "      <td>29</td>\n",
       "      <td>yes</td>\n",
       "      <td>no</td>\n",
       "      <td>5</td>\n",
       "      <td>may</td>\n",
       "      <td>151</td>\n",
       "      <td>1</td>\n",
       "      <td>-1</td>\n",
       "      <td>0</td>\n",
       "      <td>no</td>\n",
       "      <td>0</td>\n",
       "      <td>0</td>\n",
       "      <td>0</td>\n",
       "      <td>0</td>\n",
       "      <td>0</td>\n",
       "      <td>0</td>\n",
       "      <td>0</td>\n",
       "      <td>0</td>\n",
       "      <td>0</td>\n",
       "      <td>1</td>\n",
       "      <td>0</td>\n",
       "      <td>0</td>\n",
       "      <td>0</td>\n",
       "      <td>1</td>\n",
       "      <td>0</td>\n",
       "      <td>1</td>\n",
       "      <td>0</td>\n",
       "      <td>1</td>\n",
       "      <td>0</td>\n",
       "    </tr>\n",
       "    <tr>\n",
       "      <th>2</th>\n",
       "      <td>33</td>\n",
       "      <td>no</td>\n",
       "      <td>2</td>\n",
       "      <td>yes</td>\n",
       "      <td>yes</td>\n",
       "      <td>5</td>\n",
       "      <td>may</td>\n",
       "      <td>76</td>\n",
       "      <td>1</td>\n",
       "      <td>-1</td>\n",
       "      <td>0</td>\n",
       "      <td>no</td>\n",
       "      <td>0</td>\n",
       "      <td>0</td>\n",
       "      <td>1</td>\n",
       "      <td>0</td>\n",
       "      <td>0</td>\n",
       "      <td>0</td>\n",
       "      <td>0</td>\n",
       "      <td>0</td>\n",
       "      <td>0</td>\n",
       "      <td>0</td>\n",
       "      <td>0</td>\n",
       "      <td>0</td>\n",
       "      <td>1</td>\n",
       "      <td>0</td>\n",
       "      <td>0</td>\n",
       "      <td>1</td>\n",
       "      <td>0</td>\n",
       "      <td>1</td>\n",
       "      <td>0</td>\n",
       "    </tr>\n",
       "    <tr>\n",
       "      <th>3</th>\n",
       "      <td>47</td>\n",
       "      <td>no</td>\n",
       "      <td>1506</td>\n",
       "      <td>yes</td>\n",
       "      <td>no</td>\n",
       "      <td>5</td>\n",
       "      <td>may</td>\n",
       "      <td>92</td>\n",
       "      <td>1</td>\n",
       "      <td>-1</td>\n",
       "      <td>0</td>\n",
       "      <td>no</td>\n",
       "      <td>0</td>\n",
       "      <td>1</td>\n",
       "      <td>0</td>\n",
       "      <td>0</td>\n",
       "      <td>0</td>\n",
       "      <td>0</td>\n",
       "      <td>0</td>\n",
       "      <td>0</td>\n",
       "      <td>0</td>\n",
       "      <td>0</td>\n",
       "      <td>0</td>\n",
       "      <td>0</td>\n",
       "      <td>1</td>\n",
       "      <td>0</td>\n",
       "      <td>0</td>\n",
       "      <td>1</td>\n",
       "      <td>0</td>\n",
       "      <td>1</td>\n",
       "      <td>0</td>\n",
       "    </tr>\n",
       "    <tr>\n",
       "      <th>4</th>\n",
       "      <td>33</td>\n",
       "      <td>no</td>\n",
       "      <td>1</td>\n",
       "      <td>no</td>\n",
       "      <td>no</td>\n",
       "      <td>5</td>\n",
       "      <td>may</td>\n",
       "      <td>198</td>\n",
       "      <td>1</td>\n",
       "      <td>-1</td>\n",
       "      <td>0</td>\n",
       "      <td>no</td>\n",
       "      <td>0</td>\n",
       "      <td>1</td>\n",
       "      <td>0</td>\n",
       "      <td>0</td>\n",
       "      <td>0</td>\n",
       "      <td>0</td>\n",
       "      <td>0</td>\n",
       "      <td>0</td>\n",
       "      <td>0</td>\n",
       "      <td>0</td>\n",
       "      <td>0</td>\n",
       "      <td>0</td>\n",
       "      <td>0</td>\n",
       "      <td>1</td>\n",
       "      <td>0</td>\n",
       "      <td>1</td>\n",
       "      <td>0</td>\n",
       "      <td>1</td>\n",
       "      <td>0</td>\n",
       "    </tr>\n",
       "  </tbody>\n",
       "</table>\n",
       "</div>"
      ],
      "text/plain": [
       "   age default  balance housing loan  day month  duration  campaign  pdays  \\\n",
       "0   58      no     2143     yes   no    5   may       261         1     -1   \n",
       "1   44      no       29     yes   no    5   may       151         1     -1   \n",
       "2   33      no        2     yes  yes    5   may        76         1     -1   \n",
       "3   47      no     1506     yes   no    5   may        92         1     -1   \n",
       "4   33      no        1      no   no    5   may       198         1     -1   \n",
       "\n",
       "   previous   y  job_admin.  job_blue-collar  job_entrepreneur  job_housemaid  \\\n",
       "0         0  no           0                0                 0              0   \n",
       "1         0  no           0                0                 0              0   \n",
       "2         0  no           0                0                 1              0   \n",
       "3         0  no           0                1                 0              0   \n",
       "4         0  no           0                1                 0              0   \n",
       "\n",
       "   job_management  job_retired  job_self-employed  job_services  job_student  \\\n",
       "0               1            0                  0             0            0   \n",
       "1               0            0                  0             0            0   \n",
       "2               0            0                  0             0            0   \n",
       "3               0            0                  0             0            0   \n",
       "4               0            0                  0             0            0   \n",
       "\n",
       "   job_technician  job_unemployed  marital_divorced  marital_married  \\\n",
       "0               0               0                 0                1   \n",
       "1               1               0                 0                0   \n",
       "2               0               0                 0                1   \n",
       "3               0               0                 0                1   \n",
       "4               0               0                 0                0   \n",
       "\n",
       "   marital_single  education_primary  education_secondary  education_tertiary  \\\n",
       "0               0                  0                    0                   1   \n",
       "1               1                  0                    1                   0   \n",
       "2               0                  0                    1                   0   \n",
       "3               0                  0                    1                   0   \n",
       "4               1                  0                    1                   0   \n",
       "\n",
       "   contact_cellular  contact_telephone  \n",
       "0                 1                  0  \n",
       "1                 1                  0  \n",
       "2                 1                  0  \n",
       "3                 1                  0  \n",
       "4                 1                  0  "
      ]
     },
     "execution_count": 90,
     "metadata": {},
     "output_type": "execute_result"
    }
   ],
   "source": [
    "df_new.head()"
   ]
  },
  {
   "cell_type": "code",
   "execution_count": 91,
   "id": "fa3e8211",
   "metadata": {
    "ExecuteTime": {
     "end_time": "2023-02-28T10:03:42.183194Z",
     "start_time": "2023-02-28T10:03:42.173419Z"
    }
   },
   "outputs": [],
   "source": [
    "# Checking unique values present in month column"
   ]
  },
  {
   "cell_type": "code",
   "execution_count": 92,
   "id": "23fd1edc",
   "metadata": {
    "ExecuteTime": {
     "end_time": "2023-02-28T10:04:01.582904Z",
     "start_time": "2023-02-28T10:04:01.566528Z"
    }
   },
   "outputs": [
    {
     "data": {
      "text/plain": [
       "array(['may', 'jun', 'jul', 'aug', 'oct', 'nov', 'dec', 'jan', 'feb',\n",
       "       'mar', 'apr', 'sep'], dtype=object)"
      ]
     },
     "execution_count": 92,
     "metadata": {},
     "output_type": "execute_result"
    }
   ],
   "source": [
    "df_new['month'].unique()"
   ]
  },
  {
   "cell_type": "code",
   "execution_count": 93,
   "id": "b9767471",
   "metadata": {
    "ExecuteTime": {
     "end_time": "2023-02-28T10:04:33.841209Z",
     "start_time": "2023-02-28T10:04:33.825146Z"
    }
   },
   "outputs": [],
   "source": [
    "# Assigning numeric values to month"
   ]
  },
  {
   "cell_type": "code",
   "execution_count": 95,
   "id": "d8c1d1d4",
   "metadata": {
    "ExecuteTime": {
     "end_time": "2023-02-28T10:06:09.786114Z",
     "start_time": "2023-02-28T10:06:09.674487Z"
    }
   },
   "outputs": [],
   "source": [
    "df_new['month'] = df_new['month'].replace({'jan':1, 'feb':2, 'mar':3, 'apr':4, 'may':5, 'jun':6, 'jul':7, 'aug':8, 'sep':9, 'oct':10, 'nov':11, 'dec':12})"
   ]
  },
  {
   "cell_type": "code",
   "execution_count": 96,
   "id": "fa9dc16f",
   "metadata": {
    "ExecuteTime": {
     "end_time": "2023-02-28T10:06:33.013582Z",
     "start_time": "2023-02-28T10:06:32.993580Z"
    }
   },
   "outputs": [],
   "source": [
    "# Checking data"
   ]
  },
  {
   "cell_type": "code",
   "execution_count": 97,
   "id": "e17213dd",
   "metadata": {
    "ExecuteTime": {
     "end_time": "2023-02-28T10:06:39.821061Z",
     "start_time": "2023-02-28T10:06:39.779166Z"
    }
   },
   "outputs": [
    {
     "data": {
      "text/html": [
       "<div>\n",
       "<style scoped>\n",
       "    .dataframe tbody tr th:only-of-type {\n",
       "        vertical-align: middle;\n",
       "    }\n",
       "\n",
       "    .dataframe tbody tr th {\n",
       "        vertical-align: top;\n",
       "    }\n",
       "\n",
       "    .dataframe thead th {\n",
       "        text-align: right;\n",
       "    }\n",
       "</style>\n",
       "<table border=\"1\" class=\"dataframe\">\n",
       "  <thead>\n",
       "    <tr style=\"text-align: right;\">\n",
       "      <th></th>\n",
       "      <th>age</th>\n",
       "      <th>default</th>\n",
       "      <th>balance</th>\n",
       "      <th>housing</th>\n",
       "      <th>loan</th>\n",
       "      <th>day</th>\n",
       "      <th>month</th>\n",
       "      <th>duration</th>\n",
       "      <th>campaign</th>\n",
       "      <th>pdays</th>\n",
       "      <th>previous</th>\n",
       "      <th>y</th>\n",
       "      <th>job_admin.</th>\n",
       "      <th>job_blue-collar</th>\n",
       "      <th>job_entrepreneur</th>\n",
       "      <th>job_housemaid</th>\n",
       "      <th>job_management</th>\n",
       "      <th>job_retired</th>\n",
       "      <th>job_self-employed</th>\n",
       "      <th>job_services</th>\n",
       "      <th>job_student</th>\n",
       "      <th>job_technician</th>\n",
       "      <th>job_unemployed</th>\n",
       "      <th>marital_divorced</th>\n",
       "      <th>marital_married</th>\n",
       "      <th>marital_single</th>\n",
       "      <th>education_primary</th>\n",
       "      <th>education_secondary</th>\n",
       "      <th>education_tertiary</th>\n",
       "      <th>contact_cellular</th>\n",
       "      <th>contact_telephone</th>\n",
       "    </tr>\n",
       "  </thead>\n",
       "  <tbody>\n",
       "    <tr>\n",
       "      <th>0</th>\n",
       "      <td>58</td>\n",
       "      <td>no</td>\n",
       "      <td>2143</td>\n",
       "      <td>yes</td>\n",
       "      <td>no</td>\n",
       "      <td>5</td>\n",
       "      <td>5</td>\n",
       "      <td>261</td>\n",
       "      <td>1</td>\n",
       "      <td>-1</td>\n",
       "      <td>0</td>\n",
       "      <td>no</td>\n",
       "      <td>0</td>\n",
       "      <td>0</td>\n",
       "      <td>0</td>\n",
       "      <td>0</td>\n",
       "      <td>1</td>\n",
       "      <td>0</td>\n",
       "      <td>0</td>\n",
       "      <td>0</td>\n",
       "      <td>0</td>\n",
       "      <td>0</td>\n",
       "      <td>0</td>\n",
       "      <td>0</td>\n",
       "      <td>1</td>\n",
       "      <td>0</td>\n",
       "      <td>0</td>\n",
       "      <td>0</td>\n",
       "      <td>1</td>\n",
       "      <td>1</td>\n",
       "      <td>0</td>\n",
       "    </tr>\n",
       "    <tr>\n",
       "      <th>1</th>\n",
       "      <td>44</td>\n",
       "      <td>no</td>\n",
       "      <td>29</td>\n",
       "      <td>yes</td>\n",
       "      <td>no</td>\n",
       "      <td>5</td>\n",
       "      <td>5</td>\n",
       "      <td>151</td>\n",
       "      <td>1</td>\n",
       "      <td>-1</td>\n",
       "      <td>0</td>\n",
       "      <td>no</td>\n",
       "      <td>0</td>\n",
       "      <td>0</td>\n",
       "      <td>0</td>\n",
       "      <td>0</td>\n",
       "      <td>0</td>\n",
       "      <td>0</td>\n",
       "      <td>0</td>\n",
       "      <td>0</td>\n",
       "      <td>0</td>\n",
       "      <td>1</td>\n",
       "      <td>0</td>\n",
       "      <td>0</td>\n",
       "      <td>0</td>\n",
       "      <td>1</td>\n",
       "      <td>0</td>\n",
       "      <td>1</td>\n",
       "      <td>0</td>\n",
       "      <td>1</td>\n",
       "      <td>0</td>\n",
       "    </tr>\n",
       "    <tr>\n",
       "      <th>2</th>\n",
       "      <td>33</td>\n",
       "      <td>no</td>\n",
       "      <td>2</td>\n",
       "      <td>yes</td>\n",
       "      <td>yes</td>\n",
       "      <td>5</td>\n",
       "      <td>5</td>\n",
       "      <td>76</td>\n",
       "      <td>1</td>\n",
       "      <td>-1</td>\n",
       "      <td>0</td>\n",
       "      <td>no</td>\n",
       "      <td>0</td>\n",
       "      <td>0</td>\n",
       "      <td>1</td>\n",
       "      <td>0</td>\n",
       "      <td>0</td>\n",
       "      <td>0</td>\n",
       "      <td>0</td>\n",
       "      <td>0</td>\n",
       "      <td>0</td>\n",
       "      <td>0</td>\n",
       "      <td>0</td>\n",
       "      <td>0</td>\n",
       "      <td>1</td>\n",
       "      <td>0</td>\n",
       "      <td>0</td>\n",
       "      <td>1</td>\n",
       "      <td>0</td>\n",
       "      <td>1</td>\n",
       "      <td>0</td>\n",
       "    </tr>\n",
       "    <tr>\n",
       "      <th>3</th>\n",
       "      <td>47</td>\n",
       "      <td>no</td>\n",
       "      <td>1506</td>\n",
       "      <td>yes</td>\n",
       "      <td>no</td>\n",
       "      <td>5</td>\n",
       "      <td>5</td>\n",
       "      <td>92</td>\n",
       "      <td>1</td>\n",
       "      <td>-1</td>\n",
       "      <td>0</td>\n",
       "      <td>no</td>\n",
       "      <td>0</td>\n",
       "      <td>1</td>\n",
       "      <td>0</td>\n",
       "      <td>0</td>\n",
       "      <td>0</td>\n",
       "      <td>0</td>\n",
       "      <td>0</td>\n",
       "      <td>0</td>\n",
       "      <td>0</td>\n",
       "      <td>0</td>\n",
       "      <td>0</td>\n",
       "      <td>0</td>\n",
       "      <td>1</td>\n",
       "      <td>0</td>\n",
       "      <td>0</td>\n",
       "      <td>1</td>\n",
       "      <td>0</td>\n",
       "      <td>1</td>\n",
       "      <td>0</td>\n",
       "    </tr>\n",
       "    <tr>\n",
       "      <th>4</th>\n",
       "      <td>33</td>\n",
       "      <td>no</td>\n",
       "      <td>1</td>\n",
       "      <td>no</td>\n",
       "      <td>no</td>\n",
       "      <td>5</td>\n",
       "      <td>5</td>\n",
       "      <td>198</td>\n",
       "      <td>1</td>\n",
       "      <td>-1</td>\n",
       "      <td>0</td>\n",
       "      <td>no</td>\n",
       "      <td>0</td>\n",
       "      <td>1</td>\n",
       "      <td>0</td>\n",
       "      <td>0</td>\n",
       "      <td>0</td>\n",
       "      <td>0</td>\n",
       "      <td>0</td>\n",
       "      <td>0</td>\n",
       "      <td>0</td>\n",
       "      <td>0</td>\n",
       "      <td>0</td>\n",
       "      <td>0</td>\n",
       "      <td>0</td>\n",
       "      <td>1</td>\n",
       "      <td>0</td>\n",
       "      <td>1</td>\n",
       "      <td>0</td>\n",
       "      <td>1</td>\n",
       "      <td>0</td>\n",
       "    </tr>\n",
       "  </tbody>\n",
       "</table>\n",
       "</div>"
      ],
      "text/plain": [
       "   age default  balance housing loan  day  month  duration  campaign  pdays  \\\n",
       "0   58      no     2143     yes   no    5      5       261         1     -1   \n",
       "1   44      no       29     yes   no    5      5       151         1     -1   \n",
       "2   33      no        2     yes  yes    5      5        76         1     -1   \n",
       "3   47      no     1506     yes   no    5      5        92         1     -1   \n",
       "4   33      no        1      no   no    5      5       198         1     -1   \n",
       "\n",
       "   previous   y  job_admin.  job_blue-collar  job_entrepreneur  job_housemaid  \\\n",
       "0         0  no           0                0                 0              0   \n",
       "1         0  no           0                0                 0              0   \n",
       "2         0  no           0                0                 1              0   \n",
       "3         0  no           0                1                 0              0   \n",
       "4         0  no           0                1                 0              0   \n",
       "\n",
       "   job_management  job_retired  job_self-employed  job_services  job_student  \\\n",
       "0               1            0                  0             0            0   \n",
       "1               0            0                  0             0            0   \n",
       "2               0            0                  0             0            0   \n",
       "3               0            0                  0             0            0   \n",
       "4               0            0                  0             0            0   \n",
       "\n",
       "   job_technician  job_unemployed  marital_divorced  marital_married  \\\n",
       "0               0               0                 0                1   \n",
       "1               1               0                 0                0   \n",
       "2               0               0                 0                1   \n",
       "3               0               0                 0                1   \n",
       "4               0               0                 0                0   \n",
       "\n",
       "   marital_single  education_primary  education_secondary  education_tertiary  \\\n",
       "0               0                  0                    0                   1   \n",
       "1               1                  0                    1                   0   \n",
       "2               0                  0                    1                   0   \n",
       "3               0                  0                    1                   0   \n",
       "4               1                  0                    1                   0   \n",
       "\n",
       "   contact_cellular  contact_telephone  \n",
       "0                 1                  0  \n",
       "1                 1                  0  \n",
       "2                 1                  0  \n",
       "3                 1                  0  \n",
       "4                 1                  0  "
      ]
     },
     "execution_count": 97,
     "metadata": {},
     "output_type": "execute_result"
    }
   ],
   "source": [
    "df_new.head()"
   ]
  },
  {
   "cell_type": "code",
   "execution_count": 98,
   "id": "6912c6a3",
   "metadata": {
    "ExecuteTime": {
     "end_time": "2023-02-28T10:07:16.553017Z",
     "start_time": "2023-02-28T10:07:16.531678Z"
    }
   },
   "outputs": [],
   "source": [
    "# Binary encoding"
   ]
  },
  {
   "cell_type": "code",
   "execution_count": 99,
   "id": "26c18beb",
   "metadata": {
    "ExecuteTime": {
     "end_time": "2023-02-28T10:08:30.010375Z",
     "start_time": "2023-02-28T10:08:29.803665Z"
    }
   },
   "outputs": [],
   "source": [
    "df_new['default'] = np.where(df_new['default'].str.contains(\"yes\"), 1, 0)\n",
    "df_new['housing'] = np.where(df_new['housing'].str.contains(\"yes\"), 1, 0)\n",
    "df_new['loan'] = np.where(df_new['loan'].str.contains(\"yes\"), 1, 0)\n",
    "df_new['y'] = np.where(df_new['y'].str.contains(\"yes\"), 1, 0)"
   ]
  },
  {
   "cell_type": "code",
   "execution_count": 100,
   "id": "bb7006c7",
   "metadata": {
    "ExecuteTime": {
     "end_time": "2023-02-28T10:08:49.744233Z",
     "start_time": "2023-02-28T10:08:49.734099Z"
    }
   },
   "outputs": [],
   "source": [
    "# Final data for model building"
   ]
  },
  {
   "cell_type": "code",
   "execution_count": 101,
   "id": "2adffb08",
   "metadata": {
    "ExecuteTime": {
     "end_time": "2023-02-28T10:09:02.917930Z",
     "start_time": "2023-02-28T10:09:02.878980Z"
    }
   },
   "outputs": [
    {
     "data": {
      "text/html": [
       "<div>\n",
       "<style scoped>\n",
       "    .dataframe tbody tr th:only-of-type {\n",
       "        vertical-align: middle;\n",
       "    }\n",
       "\n",
       "    .dataframe tbody tr th {\n",
       "        vertical-align: top;\n",
       "    }\n",
       "\n",
       "    .dataframe thead th {\n",
       "        text-align: right;\n",
       "    }\n",
       "</style>\n",
       "<table border=\"1\" class=\"dataframe\">\n",
       "  <thead>\n",
       "    <tr style=\"text-align: right;\">\n",
       "      <th></th>\n",
       "      <th>age</th>\n",
       "      <th>default</th>\n",
       "      <th>balance</th>\n",
       "      <th>housing</th>\n",
       "      <th>loan</th>\n",
       "      <th>day</th>\n",
       "      <th>month</th>\n",
       "      <th>duration</th>\n",
       "      <th>campaign</th>\n",
       "      <th>pdays</th>\n",
       "      <th>previous</th>\n",
       "      <th>y</th>\n",
       "      <th>job_admin.</th>\n",
       "      <th>job_blue-collar</th>\n",
       "      <th>job_entrepreneur</th>\n",
       "      <th>job_housemaid</th>\n",
       "      <th>job_management</th>\n",
       "      <th>job_retired</th>\n",
       "      <th>job_self-employed</th>\n",
       "      <th>job_services</th>\n",
       "      <th>job_student</th>\n",
       "      <th>job_technician</th>\n",
       "      <th>job_unemployed</th>\n",
       "      <th>marital_divorced</th>\n",
       "      <th>marital_married</th>\n",
       "      <th>marital_single</th>\n",
       "      <th>education_primary</th>\n",
       "      <th>education_secondary</th>\n",
       "      <th>education_tertiary</th>\n",
       "      <th>contact_cellular</th>\n",
       "      <th>contact_telephone</th>\n",
       "    </tr>\n",
       "  </thead>\n",
       "  <tbody>\n",
       "    <tr>\n",
       "      <th>0</th>\n",
       "      <td>58</td>\n",
       "      <td>0</td>\n",
       "      <td>2143</td>\n",
       "      <td>1</td>\n",
       "      <td>0</td>\n",
       "      <td>5</td>\n",
       "      <td>5</td>\n",
       "      <td>261</td>\n",
       "      <td>1</td>\n",
       "      <td>-1</td>\n",
       "      <td>0</td>\n",
       "      <td>0</td>\n",
       "      <td>0</td>\n",
       "      <td>0</td>\n",
       "      <td>0</td>\n",
       "      <td>0</td>\n",
       "      <td>1</td>\n",
       "      <td>0</td>\n",
       "      <td>0</td>\n",
       "      <td>0</td>\n",
       "      <td>0</td>\n",
       "      <td>0</td>\n",
       "      <td>0</td>\n",
       "      <td>0</td>\n",
       "      <td>1</td>\n",
       "      <td>0</td>\n",
       "      <td>0</td>\n",
       "      <td>0</td>\n",
       "      <td>1</td>\n",
       "      <td>1</td>\n",
       "      <td>0</td>\n",
       "    </tr>\n",
       "    <tr>\n",
       "      <th>1</th>\n",
       "      <td>44</td>\n",
       "      <td>0</td>\n",
       "      <td>29</td>\n",
       "      <td>1</td>\n",
       "      <td>0</td>\n",
       "      <td>5</td>\n",
       "      <td>5</td>\n",
       "      <td>151</td>\n",
       "      <td>1</td>\n",
       "      <td>-1</td>\n",
       "      <td>0</td>\n",
       "      <td>0</td>\n",
       "      <td>0</td>\n",
       "      <td>0</td>\n",
       "      <td>0</td>\n",
       "      <td>0</td>\n",
       "      <td>0</td>\n",
       "      <td>0</td>\n",
       "      <td>0</td>\n",
       "      <td>0</td>\n",
       "      <td>0</td>\n",
       "      <td>1</td>\n",
       "      <td>0</td>\n",
       "      <td>0</td>\n",
       "      <td>0</td>\n",
       "      <td>1</td>\n",
       "      <td>0</td>\n",
       "      <td>1</td>\n",
       "      <td>0</td>\n",
       "      <td>1</td>\n",
       "      <td>0</td>\n",
       "    </tr>\n",
       "    <tr>\n",
       "      <th>2</th>\n",
       "      <td>33</td>\n",
       "      <td>0</td>\n",
       "      <td>2</td>\n",
       "      <td>1</td>\n",
       "      <td>1</td>\n",
       "      <td>5</td>\n",
       "      <td>5</td>\n",
       "      <td>76</td>\n",
       "      <td>1</td>\n",
       "      <td>-1</td>\n",
       "      <td>0</td>\n",
       "      <td>0</td>\n",
       "      <td>0</td>\n",
       "      <td>0</td>\n",
       "      <td>1</td>\n",
       "      <td>0</td>\n",
       "      <td>0</td>\n",
       "      <td>0</td>\n",
       "      <td>0</td>\n",
       "      <td>0</td>\n",
       "      <td>0</td>\n",
       "      <td>0</td>\n",
       "      <td>0</td>\n",
       "      <td>0</td>\n",
       "      <td>1</td>\n",
       "      <td>0</td>\n",
       "      <td>0</td>\n",
       "      <td>1</td>\n",
       "      <td>0</td>\n",
       "      <td>1</td>\n",
       "      <td>0</td>\n",
       "    </tr>\n",
       "    <tr>\n",
       "      <th>3</th>\n",
       "      <td>47</td>\n",
       "      <td>0</td>\n",
       "      <td>1506</td>\n",
       "      <td>1</td>\n",
       "      <td>0</td>\n",
       "      <td>5</td>\n",
       "      <td>5</td>\n",
       "      <td>92</td>\n",
       "      <td>1</td>\n",
       "      <td>-1</td>\n",
       "      <td>0</td>\n",
       "      <td>0</td>\n",
       "      <td>0</td>\n",
       "      <td>1</td>\n",
       "      <td>0</td>\n",
       "      <td>0</td>\n",
       "      <td>0</td>\n",
       "      <td>0</td>\n",
       "      <td>0</td>\n",
       "      <td>0</td>\n",
       "      <td>0</td>\n",
       "      <td>0</td>\n",
       "      <td>0</td>\n",
       "      <td>0</td>\n",
       "      <td>1</td>\n",
       "      <td>0</td>\n",
       "      <td>0</td>\n",
       "      <td>1</td>\n",
       "      <td>0</td>\n",
       "      <td>1</td>\n",
       "      <td>0</td>\n",
       "    </tr>\n",
       "    <tr>\n",
       "      <th>4</th>\n",
       "      <td>33</td>\n",
       "      <td>0</td>\n",
       "      <td>1</td>\n",
       "      <td>0</td>\n",
       "      <td>0</td>\n",
       "      <td>5</td>\n",
       "      <td>5</td>\n",
       "      <td>198</td>\n",
       "      <td>1</td>\n",
       "      <td>-1</td>\n",
       "      <td>0</td>\n",
       "      <td>0</td>\n",
       "      <td>0</td>\n",
       "      <td>1</td>\n",
       "      <td>0</td>\n",
       "      <td>0</td>\n",
       "      <td>0</td>\n",
       "      <td>0</td>\n",
       "      <td>0</td>\n",
       "      <td>0</td>\n",
       "      <td>0</td>\n",
       "      <td>0</td>\n",
       "      <td>0</td>\n",
       "      <td>0</td>\n",
       "      <td>0</td>\n",
       "      <td>1</td>\n",
       "      <td>0</td>\n",
       "      <td>1</td>\n",
       "      <td>0</td>\n",
       "      <td>1</td>\n",
       "      <td>0</td>\n",
       "    </tr>\n",
       "  </tbody>\n",
       "</table>\n",
       "</div>"
      ],
      "text/plain": [
       "   age  default  balance  housing  loan  day  month  duration  campaign  \\\n",
       "0   58        0     2143        1     0    5      5       261         1   \n",
       "1   44        0       29        1     0    5      5       151         1   \n",
       "2   33        0        2        1     1    5      5        76         1   \n",
       "3   47        0     1506        1     0    5      5        92         1   \n",
       "4   33        0        1        0     0    5      5       198         1   \n",
       "\n",
       "   pdays  previous  y  job_admin.  job_blue-collar  job_entrepreneur  \\\n",
       "0     -1         0  0           0                0                 0   \n",
       "1     -1         0  0           0                0                 0   \n",
       "2     -1         0  0           0                0                 1   \n",
       "3     -1         0  0           0                1                 0   \n",
       "4     -1         0  0           0                1                 0   \n",
       "\n",
       "   job_housemaid  job_management  job_retired  job_self-employed  \\\n",
       "0              0               1            0                  0   \n",
       "1              0               0            0                  0   \n",
       "2              0               0            0                  0   \n",
       "3              0               0            0                  0   \n",
       "4              0               0            0                  0   \n",
       "\n",
       "   job_services  job_student  job_technician  job_unemployed  \\\n",
       "0             0            0               0               0   \n",
       "1             0            0               1               0   \n",
       "2             0            0               0               0   \n",
       "3             0            0               0               0   \n",
       "4             0            0               0               0   \n",
       "\n",
       "   marital_divorced  marital_married  marital_single  education_primary  \\\n",
       "0                 0                1               0                  0   \n",
       "1                 0                0               1                  0   \n",
       "2                 0                1               0                  0   \n",
       "3                 0                1               0                  0   \n",
       "4                 0                0               1                  0   \n",
       "\n",
       "   education_secondary  education_tertiary  contact_cellular  \\\n",
       "0                    0                   1                 1   \n",
       "1                    1                   0                 1   \n",
       "2                    1                   0                 1   \n",
       "3                    1                   0                 1   \n",
       "4                    1                   0                 1   \n",
       "\n",
       "   contact_telephone  \n",
       "0                  0  \n",
       "1                  0  \n",
       "2                  0  \n",
       "3                  0  \n",
       "4                  0  "
      ]
     },
     "execution_count": 101,
     "metadata": {},
     "output_type": "execute_result"
    }
   ],
   "source": [
    "df_new.head()"
   ]
  },
  {
   "cell_type": "code",
   "execution_count": 102,
   "id": "c6d39b11",
   "metadata": {
    "ExecuteTime": {
     "end_time": "2023-02-28T10:09:28.883145Z",
     "start_time": "2023-02-28T10:09:28.860222Z"
    }
   },
   "outputs": [
    {
     "data": {
      "text/plain": [
       "(45211, 31)"
      ]
     },
     "execution_count": 102,
     "metadata": {},
     "output_type": "execute_result"
    }
   ],
   "source": [
    "df_new.shape"
   ]
  },
  {
   "cell_type": "code",
   "execution_count": 103,
   "id": "35728f55",
   "metadata": {
    "ExecuteTime": {
     "end_time": "2023-02-28T10:09:38.511442Z",
     "start_time": "2023-02-28T10:09:38.484691Z"
    }
   },
   "outputs": [
    {
     "name": "stdout",
     "output_type": "stream",
     "text": [
      "<class 'pandas.core.frame.DataFrame'>\n",
      "RangeIndex: 45211 entries, 0 to 45210\n",
      "Data columns (total 31 columns):\n",
      " #   Column               Non-Null Count  Dtype\n",
      "---  ------               --------------  -----\n",
      " 0   age                  45211 non-null  int64\n",
      " 1   default              45211 non-null  int32\n",
      " 2   balance              45211 non-null  int64\n",
      " 3   housing              45211 non-null  int32\n",
      " 4   loan                 45211 non-null  int32\n",
      " 5   day                  45211 non-null  int64\n",
      " 6   month                45211 non-null  int64\n",
      " 7   duration             45211 non-null  int64\n",
      " 8   campaign             45211 non-null  int64\n",
      " 9   pdays                45211 non-null  int64\n",
      " 10  previous             45211 non-null  int64\n",
      " 11  y                    45211 non-null  int32\n",
      " 12  job_admin.           45211 non-null  uint8\n",
      " 13  job_blue-collar      45211 non-null  uint8\n",
      " 14  job_entrepreneur     45211 non-null  uint8\n",
      " 15  job_housemaid        45211 non-null  uint8\n",
      " 16  job_management       45211 non-null  uint8\n",
      " 17  job_retired          45211 non-null  uint8\n",
      " 18  job_self-employed    45211 non-null  uint8\n",
      " 19  job_services         45211 non-null  uint8\n",
      " 20  job_student          45211 non-null  uint8\n",
      " 21  job_technician       45211 non-null  uint8\n",
      " 22  job_unemployed       45211 non-null  uint8\n",
      " 23  marital_divorced     45211 non-null  uint8\n",
      " 24  marital_married      45211 non-null  uint8\n",
      " 25  marital_single       45211 non-null  uint8\n",
      " 26  education_primary    45211 non-null  uint8\n",
      " 27  education_secondary  45211 non-null  uint8\n",
      " 28  education_tertiary   45211 non-null  uint8\n",
      " 29  contact_cellular     45211 non-null  uint8\n",
      " 30  contact_telephone    45211 non-null  uint8\n",
      "dtypes: int32(4), int64(8), uint8(19)\n",
      "memory usage: 4.3 MB\n"
     ]
    }
   ],
   "source": [
    "df_new.info()"
   ]
  },
  {
   "cell_type": "code",
   "execution_count": 104,
   "id": "23f43106",
   "metadata": {
    "ExecuteTime": {
     "end_time": "2023-02-28T10:09:57.524336Z",
     "start_time": "2023-02-28T10:09:57.515047Z"
    }
   },
   "outputs": [],
   "source": [
    "# Model building"
   ]
  },
  {
   "cell_type": "code",
   "execution_count": 105,
   "id": "4b97f30c",
   "metadata": {
    "ExecuteTime": {
     "end_time": "2023-02-28T10:10:27.784419Z",
     "start_time": "2023-02-28T10:10:27.768402Z"
    }
   },
   "outputs": [],
   "source": [
    "from sklearn.linear_model import LogisticRegression"
   ]
  },
  {
   "cell_type": "code",
   "execution_count": 106,
   "id": "1245ee83",
   "metadata": {
    "ExecuteTime": {
     "end_time": "2023-02-28T10:11:07.260837Z",
     "start_time": "2023-02-28T10:11:07.252840Z"
    }
   },
   "outputs": [],
   "source": [
    "# Dividing our data into input and output variables"
   ]
  },
  {
   "cell_type": "code",
   "execution_count": 107,
   "id": "4aba7dd8",
   "metadata": {
    "ExecuteTime": {
     "end_time": "2023-02-28T10:11:57.288727Z",
     "start_time": "2023-02-28T10:11:57.269448Z"
    }
   },
   "outputs": [],
   "source": [
    "X = pd.concat([df_new.iloc[:, 0:11], df_new.iloc[:, 12:]], axis = 1)\n",
    "Y = df_new.iloc[:,11]"
   ]
  },
  {
   "cell_type": "code",
   "execution_count": 108,
   "id": "112f40aa",
   "metadata": {
    "ExecuteTime": {
     "end_time": "2023-02-28T10:12:21.618634Z",
     "start_time": "2023-02-28T10:12:21.601915Z"
    }
   },
   "outputs": [],
   "source": [
    "# Logistic regression and fit the model"
   ]
  },
  {
   "cell_type": "code",
   "execution_count": 110,
   "id": "fb72c0e7",
   "metadata": {
    "ExecuteTime": {
     "end_time": "2023-02-28T10:13:24.208444Z",
     "start_time": "2023-02-28T10:13:23.334280Z"
    }
   },
   "outputs": [
    {
     "data": {
      "text/plain": [
       "LogisticRegression()"
      ]
     },
     "execution_count": 110,
     "metadata": {},
     "output_type": "execute_result"
    }
   ],
   "source": [
    "classifier = LogisticRegression()\n",
    "classifier.fit(X,Y)"
   ]
  },
  {
   "cell_type": "code",
   "execution_count": 111,
   "id": "526e5f7e",
   "metadata": {
    "ExecuteTime": {
     "end_time": "2023-02-28T10:13:40.262512Z",
     "start_time": "2023-02-28T10:13:40.254434Z"
    }
   },
   "outputs": [],
   "source": [
    "# Model predictions"
   ]
  },
  {
   "cell_type": "code",
   "execution_count": 113,
   "id": "fc587461",
   "metadata": {
    "ExecuteTime": {
     "end_time": "2023-02-28T10:14:39.971567Z",
     "start_time": "2023-02-28T10:14:39.935101Z"
    }
   },
   "outputs": [
    {
     "data": {
      "text/plain": [
       "array([0, 0, 0, ..., 0, 0, 1])"
      ]
     },
     "execution_count": 113,
     "metadata": {},
     "output_type": "execute_result"
    }
   ],
   "source": [
    "# Predict for x dataset\n",
    "\n",
    "y_pred = classifier.predict(X)\n",
    "y_pred"
   ]
  },
  {
   "cell_type": "code",
   "execution_count": 114,
   "id": "c2fae363",
   "metadata": {
    "ExecuteTime": {
     "end_time": "2023-02-28T10:16:31.756076Z",
     "start_time": "2023-02-28T10:16:31.730840Z"
    }
   },
   "outputs": [
    {
     "data": {
      "text/html": [
       "<div>\n",
       "<style scoped>\n",
       "    .dataframe tbody tr th:only-of-type {\n",
       "        vertical-align: middle;\n",
       "    }\n",
       "\n",
       "    .dataframe tbody tr th {\n",
       "        vertical-align: top;\n",
       "    }\n",
       "\n",
       "    .dataframe thead th {\n",
       "        text-align: right;\n",
       "    }\n",
       "</style>\n",
       "<table border=\"1\" class=\"dataframe\">\n",
       "  <thead>\n",
       "    <tr style=\"text-align: right;\">\n",
       "      <th></th>\n",
       "      <th>Actual_y</th>\n",
       "      <th>Predicted_y</th>\n",
       "    </tr>\n",
       "  </thead>\n",
       "  <tbody>\n",
       "    <tr>\n",
       "      <th>0</th>\n",
       "      <td>0</td>\n",
       "      <td>0</td>\n",
       "    </tr>\n",
       "    <tr>\n",
       "      <th>1</th>\n",
       "      <td>0</td>\n",
       "      <td>0</td>\n",
       "    </tr>\n",
       "    <tr>\n",
       "      <th>2</th>\n",
       "      <td>0</td>\n",
       "      <td>0</td>\n",
       "    </tr>\n",
       "    <tr>\n",
       "      <th>3</th>\n",
       "      <td>0</td>\n",
       "      <td>0</td>\n",
       "    </tr>\n",
       "    <tr>\n",
       "      <th>4</th>\n",
       "      <td>0</td>\n",
       "      <td>0</td>\n",
       "    </tr>\n",
       "    <tr>\n",
       "      <th>...</th>\n",
       "      <td>...</td>\n",
       "      <td>...</td>\n",
       "    </tr>\n",
       "    <tr>\n",
       "      <th>45206</th>\n",
       "      <td>1</td>\n",
       "      <td>0</td>\n",
       "    </tr>\n",
       "    <tr>\n",
       "      <th>45207</th>\n",
       "      <td>1</td>\n",
       "      <td>0</td>\n",
       "    </tr>\n",
       "    <tr>\n",
       "      <th>45208</th>\n",
       "      <td>1</td>\n",
       "      <td>0</td>\n",
       "    </tr>\n",
       "    <tr>\n",
       "      <th>45209</th>\n",
       "      <td>0</td>\n",
       "      <td>0</td>\n",
       "    </tr>\n",
       "    <tr>\n",
       "      <th>45210</th>\n",
       "      <td>0</td>\n",
       "      <td>1</td>\n",
       "    </tr>\n",
       "  </tbody>\n",
       "</table>\n",
       "<p>45211 rows × 2 columns</p>\n",
       "</div>"
      ],
      "text/plain": [
       "       Actual_y  Predicted_y\n",
       "0             0            0\n",
       "1             0            0\n",
       "2             0            0\n",
       "3             0            0\n",
       "4             0            0\n",
       "...         ...          ...\n",
       "45206         1            0\n",
       "45207         1            0\n",
       "45208         1            0\n",
       "45209         0            0\n",
       "45210         0            1\n",
       "\n",
       "[45211 rows x 2 columns]"
      ]
     },
     "execution_count": 114,
     "metadata": {},
     "output_type": "execute_result"
    }
   ],
   "source": [
    "y_pred_df = pd.DataFrame({'Actual_y': Y, 'Predicted_y': y_pred})\n",
    "y_pred_df"
   ]
  },
  {
   "cell_type": "code",
   "execution_count": 115,
   "id": "f2e01652",
   "metadata": {
    "ExecuteTime": {
     "end_time": "2023-02-28T10:16:51.274748Z",
     "start_time": "2023-02-28T10:16:51.266040Z"
    }
   },
   "outputs": [],
   "source": [
    "# Testing model accuracy"
   ]
  },
  {
   "cell_type": "code",
   "execution_count": 116,
   "id": "26132e67",
   "metadata": {
    "ExecuteTime": {
     "end_time": "2023-02-28T10:17:10.119243Z",
     "start_time": "2023-02-28T10:17:10.096137Z"
    }
   },
   "outputs": [
    {
     "name": "stdout",
     "output_type": "stream",
     "text": [
      "[[39183   739]\n",
      " [ 4348   941]]\n"
     ]
    }
   ],
   "source": [
    "# Confusion matrix for model accuracy\n",
    "\n",
    "from sklearn.metrics import confusion_matrix\n",
    "Confusion_matrix = confusion_matrix(Y, y_pred)\n",
    "print(Confusion_matrix)"
   ]
  },
  {
   "cell_type": "code",
   "execution_count": 117,
   "id": "0a8d3f9b",
   "metadata": {
    "ExecuteTime": {
     "end_time": "2023-02-28T10:17:22.913189Z",
     "start_time": "2023-02-28T10:17:22.898766Z"
    }
   },
   "outputs": [],
   "source": [
    "# Calculating model accuracy by formula. (a+d)/(a+b+c+d)"
   ]
  },
  {
   "cell_type": "code",
   "execution_count": 118,
   "id": "e53e2308",
   "metadata": {
    "ExecuteTime": {
     "end_time": "2023-02-28T10:17:33.451897Z",
     "start_time": "2023-02-28T10:17:33.430636Z"
    }
   },
   "outputs": [
    {
     "data": {
      "text/plain": [
       "88.7394660591449"
      ]
     },
     "execution_count": 118,
     "metadata": {},
     "output_type": "execute_result"
    }
   ],
   "source": [
    "(39181+939)/(39181+741+4350+939)*100"
   ]
  },
  {
   "cell_type": "code",
   "execution_count": 119,
   "id": "0c05c6ec",
   "metadata": {
    "ExecuteTime": {
     "end_time": "2023-02-28T10:17:46.176910Z",
     "start_time": "2023-02-28T10:17:46.160912Z"
    }
   },
   "outputs": [],
   "source": [
    "# Classification report"
   ]
  },
  {
   "cell_type": "code",
   "execution_count": 121,
   "id": "155f2d0e",
   "metadata": {
    "ExecuteTime": {
     "end_time": "2023-02-28T10:18:46.141338Z",
     "start_time": "2023-02-28T10:18:46.042968Z"
    }
   },
   "outputs": [
    {
     "name": "stdout",
     "output_type": "stream",
     "text": [
      "              precision    recall  f1-score   support\n",
      "\n",
      "           0       0.90      0.98      0.94     39922\n",
      "           1       0.56      0.18      0.27      5289\n",
      "\n",
      "    accuracy                           0.89     45211\n",
      "   macro avg       0.73      0.58      0.60     45211\n",
      "weighted avg       0.86      0.89      0.86     45211\n",
      "\n"
     ]
    }
   ],
   "source": [
    "from sklearn.metrics import classification_report\n",
    "print(classification_report(Y, y_pred))"
   ]
  },
  {
   "cell_type": "code",
   "execution_count": 122,
   "id": "2da0cf72",
   "metadata": {
    "ExecuteTime": {
     "end_time": "2023-02-28T10:19:12.155499Z",
     "start_time": "2023-02-28T10:19:12.146086Z"
    }
   },
   "outputs": [],
   "source": [
    "# Calculating probability"
   ]
  },
  {
   "cell_type": "code",
   "execution_count": 123,
   "id": "d97ffb7c",
   "metadata": {
    "ExecuteTime": {
     "end_time": "2023-02-28T10:20:07.140051Z",
     "start_time": "2023-02-28T10:20:07.097541Z"
    }
   },
   "outputs": [
    {
     "data": {
      "text/plain": [
       "array([0.09253745, 0.07696197, 0.07542566, ..., 0.3474329 , 0.06418127,\n",
       "       0.57219737])"
      ]
     },
     "execution_count": 123,
     "metadata": {},
     "output_type": "execute_result"
    }
   ],
   "source": [
    "probability = classifier.predict_proba(X)[:,1]\n",
    "probability"
   ]
  },
  {
   "cell_type": "code",
   "execution_count": 124,
   "id": "764dd61e",
   "metadata": {
    "ExecuteTime": {
     "end_time": "2023-02-28T10:20:40.971708Z",
     "start_time": "2023-02-28T10:20:40.949963Z"
    }
   },
   "outputs": [
    {
     "data": {
      "text/html": [
       "<div>\n",
       "<style scoped>\n",
       "    .dataframe tbody tr th:only-of-type {\n",
       "        vertical-align: middle;\n",
       "    }\n",
       "\n",
       "    .dataframe tbody tr th {\n",
       "        vertical-align: top;\n",
       "    }\n",
       "\n",
       "    .dataframe thead th {\n",
       "        text-align: right;\n",
       "    }\n",
       "</style>\n",
       "<table border=\"1\" class=\"dataframe\">\n",
       "  <thead>\n",
       "    <tr style=\"text-align: right;\">\n",
       "      <th></th>\n",
       "      <th>Actual_y</th>\n",
       "      <th>Predicted_y</th>\n",
       "      <th>Probability</th>\n",
       "    </tr>\n",
       "  </thead>\n",
       "  <tbody>\n",
       "    <tr>\n",
       "      <th>0</th>\n",
       "      <td>0</td>\n",
       "      <td>0</td>\n",
       "      <td>0.092537</td>\n",
       "    </tr>\n",
       "    <tr>\n",
       "      <th>1</th>\n",
       "      <td>0</td>\n",
       "      <td>0</td>\n",
       "      <td>0.076962</td>\n",
       "    </tr>\n",
       "    <tr>\n",
       "      <th>2</th>\n",
       "      <td>0</td>\n",
       "      <td>0</td>\n",
       "      <td>0.075426</td>\n",
       "    </tr>\n",
       "    <tr>\n",
       "      <th>3</th>\n",
       "      <td>0</td>\n",
       "      <td>0</td>\n",
       "      <td>0.051806</td>\n",
       "    </tr>\n",
       "    <tr>\n",
       "      <th>4</th>\n",
       "      <td>0</td>\n",
       "      <td>0</td>\n",
       "      <td>0.159050</td>\n",
       "    </tr>\n",
       "    <tr>\n",
       "      <th>...</th>\n",
       "      <td>...</td>\n",
       "      <td>...</td>\n",
       "      <td>...</td>\n",
       "    </tr>\n",
       "    <tr>\n",
       "      <th>45206</th>\n",
       "      <td>1</td>\n",
       "      <td>0</td>\n",
       "      <td>0.412818</td>\n",
       "    </tr>\n",
       "    <tr>\n",
       "      <th>45207</th>\n",
       "      <td>1</td>\n",
       "      <td>0</td>\n",
       "      <td>0.098093</td>\n",
       "    </tr>\n",
       "    <tr>\n",
       "      <th>45208</th>\n",
       "      <td>1</td>\n",
       "      <td>0</td>\n",
       "      <td>0.347433</td>\n",
       "    </tr>\n",
       "    <tr>\n",
       "      <th>45209</th>\n",
       "      <td>0</td>\n",
       "      <td>0</td>\n",
       "      <td>0.064181</td>\n",
       "    </tr>\n",
       "    <tr>\n",
       "      <th>45210</th>\n",
       "      <td>0</td>\n",
       "      <td>1</td>\n",
       "      <td>0.572197</td>\n",
       "    </tr>\n",
       "  </tbody>\n",
       "</table>\n",
       "<p>45211 rows × 3 columns</p>\n",
       "</div>"
      ],
      "text/plain": [
       "       Actual_y  Predicted_y  Probability\n",
       "0             0            0     0.092537\n",
       "1             0            0     0.076962\n",
       "2             0            0     0.075426\n",
       "3             0            0     0.051806\n",
       "4             0            0     0.159050\n",
       "...         ...          ...          ...\n",
       "45206         1            0     0.412818\n",
       "45207         1            0     0.098093\n",
       "45208         1            0     0.347433\n",
       "45209         0            0     0.064181\n",
       "45210         0            1     0.572197\n",
       "\n",
       "[45211 rows x 3 columns]"
      ]
     },
     "execution_count": 124,
     "metadata": {},
     "output_type": "execute_result"
    }
   ],
   "source": [
    "y_pred_df['Probability'] = probability\n",
    "y_pred_df"
   ]
  },
  {
   "cell_type": "markdown",
   "id": "78b08972",
   "metadata": {},
   "source": [
    "**ROC Curve**"
   ]
  },
  {
   "cell_type": "code",
   "execution_count": 125,
   "id": "754261e8",
   "metadata": {
    "ExecuteTime": {
     "end_time": "2023-02-28T10:21:24.879295Z",
     "start_time": "2023-02-28T10:21:24.863647Z"
    }
   },
   "outputs": [],
   "source": [
    "from sklearn.metrics import roc_curve\n",
    "from sklearn.metrics import roc_auc_score"
   ]
  },
  {
   "cell_type": "code",
   "execution_count": 126,
   "id": "c630e6ca",
   "metadata": {
    "ExecuteTime": {
     "end_time": "2023-02-28T10:22:04.492448Z",
     "start_time": "2023-02-28T10:22:04.028940Z"
    }
   },
   "outputs": [
    {
     "data": {
      "image/png": "[encoded data removed]",
      "text/plain": [
       "<Figure size 1280x960 with 1 Axes>"
      ]
     },
     "metadata": {},
     "output_type": "display_data"
    }
   ],
   "source": [
    "fpr, tpr, thresholds = roc_curve(Y, classifier.predict_proba(X)[:,1])\n",
    "auc = roc_auc_score(Y, y_pred)\n",
    "\n",
    "plt.plot(fpr,tpr,color = 'red', label = 'logit model (area = %0.2f)' %auc);\n",
    "plt.plot([0,1],[0,1], 'k--');\n",
    "plt.xlabel('False Positive Rate or [1 - True negative Rate]');\n",
    "plt.ylabel('True Positive Rate');"
   ]
  },
  {
   "cell_type": "code",
   "execution_count": 127,
   "id": "816dc181",
   "metadata": {
    "ExecuteTime": {
     "end_time": "2023-02-28T10:22:38.668968Z",
     "start_time": "2023-02-28T10:22:38.660938Z"
    }
   },
   "outputs": [
    {
     "name": "stdout",
     "output_type": "stream",
     "text": [
      "auc =  57.970266684432445\n"
     ]
    }
   ],
   "source": [
    "print('auc = ', auc*100)"
   ]
  }
 ],
 "metadata": {
  "kernelspec": {
   "display_name": "Python 3 (ipykernel)",
   "language": "python",
   "name": "python3"
  },
  "language_info": {
   "codemirror_mode": {
    "name": "ipython",
    "version": 3
   },
   "file_extension": ".py",
   "mimetype": "text/x-python",
   "name": "python",
   "nbconvert_exporter": "python",
   "pygments_lexer": "ipython3",
   "version": "3.9.13"
  }
 },
 "nbformat": 4,
 "nbformat_minor": 5
}
